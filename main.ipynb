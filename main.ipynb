{
 "cells": [
  {
   "cell_type": "code",
   "execution_count": 58,
   "metadata": {},
   "outputs": [],
   "source": [
    "import mytree as mt\n",
    "import pandas as pd\n",
    "import string\n",
    "import re\n",
    "from tools import parsenode\n",
    "\n",
    "from IPython.core.interactiveshell import InteractiveShell\n",
    "InteractiveShell.ast_node_interactivity = \"all\" \n"
   ]
  },
  {
   "cell_type": "code",
   "execution_count": 59,
   "metadata": {},
   "outputs": [
    {
     "data": {
      "text/html": [
       "<div>\n",
       "<style scoped>\n",
       "    .dataframe tbody tr th:only-of-type {\n",
       "        vertical-align: middle;\n",
       "    }\n",
       "\n",
       "    .dataframe tbody tr th {\n",
       "        vertical-align: top;\n",
       "    }\n",
       "\n",
       "    .dataframe thead th {\n",
       "        text-align: right;\n",
       "    }\n",
       "</style>\n",
       "<table border=\"1\" class=\"dataframe\">\n",
       "  <thead>\n",
       "    <tr style=\"text-align: right;\">\n",
       "      <th></th>\n",
       "      <th>71(ODU2LP1/ODU2LP1)-1</th>\n",
       "      <th>51(ODU1LP1/ODU1LP1)-1</th>\n",
       "    </tr>\n",
       "  </thead>\n",
       "  <tbody>\n",
       "    <tr>\n",
       "      <th>0</th>\n",
       "      <td>NaN</td>\n",
       "      <td>NaN</td>\n",
       "    </tr>\n",
       "    <tr>\n",
       "      <th>1</th>\n",
       "      <td>NaN</td>\n",
       "      <td>51(ODU1LP1/ODU1LP1)-2</td>\n",
       "    </tr>\n",
       "    <tr>\n",
       "      <th>2</th>\n",
       "      <td>NaN</td>\n",
       "      <td>NaN</td>\n",
       "    </tr>\n",
       "    <tr>\n",
       "      <th>3</th>\n",
       "      <td>NaN</td>\n",
       "      <td>51(ODU1LP1/ODU1LP1)-3</td>\n",
       "    </tr>\n",
       "    <tr>\n",
       "      <th>4</th>\n",
       "      <td>NaN</td>\n",
       "      <td>NaN</td>\n",
       "    </tr>\n",
       "    <tr>\n",
       "      <th>5</th>\n",
       "      <td>NaN</td>\n",
       "      <td>51(ODU1LP1/ODU1LP1)-4</td>\n",
       "    </tr>\n",
       "    <tr>\n",
       "      <th>6</th>\n",
       "      <td>NaN</td>\n",
       "      <td>NaN</td>\n",
       "    </tr>\n",
       "    <tr>\n",
       "      <th>7</th>\n",
       "      <td>72(ODU2LP2/ODU2LP2)-1</td>\n",
       "      <td>52(ODU1LP2/ODU1LP2)-1</td>\n",
       "    </tr>\n",
       "    <tr>\n",
       "      <th>8</th>\n",
       "      <td>NaN</td>\n",
       "      <td>NaN</td>\n",
       "    </tr>\n",
       "    <tr>\n",
       "      <th>9</th>\n",
       "      <td>NaN</td>\n",
       "      <td>52(ODU1LP2/ODU1LP2)-2</td>\n",
       "    </tr>\n",
       "    <tr>\n",
       "      <th>10</th>\n",
       "      <td>NaN</td>\n",
       "      <td>NaN</td>\n",
       "    </tr>\n",
       "    <tr>\n",
       "      <th>11</th>\n",
       "      <td>NaN</td>\n",
       "      <td>52(ODU1LP2/ODU1LP2)-3</td>\n",
       "    </tr>\n",
       "    <tr>\n",
       "      <th>12</th>\n",
       "      <td>NaN</td>\n",
       "      <td>NaN</td>\n",
       "    </tr>\n",
       "    <tr>\n",
       "      <th>13</th>\n",
       "      <td>NaN</td>\n",
       "      <td>52(ODU1LP2/ODU1LP2)-4</td>\n",
       "    </tr>\n",
       "    <tr>\n",
       "      <th>14</th>\n",
       "      <td>NaN</td>\n",
       "      <td>NaN</td>\n",
       "    </tr>\n",
       "  </tbody>\n",
       "</table>\n",
       "</div>"
      ],
      "text/plain": [
       "    71(ODU2LP1/ODU2LP1)-1  51(ODU1LP1/ODU1LP1)-1\n",
       "0                     NaN                    NaN\n",
       "1                     NaN  51(ODU1LP1/ODU1LP1)-2\n",
       "2                     NaN                    NaN\n",
       "3                     NaN  51(ODU1LP1/ODU1LP1)-3\n",
       "4                     NaN                    NaN\n",
       "5                     NaN  51(ODU1LP1/ODU1LP1)-4\n",
       "6                     NaN                    NaN\n",
       "7   72(ODU2LP2/ODU2LP2)-1  52(ODU1LP2/ODU1LP2)-1\n",
       "8                     NaN                    NaN\n",
       "9                     NaN  52(ODU1LP2/ODU1LP2)-2\n",
       "10                    NaN                    NaN\n",
       "11                    NaN  52(ODU1LP2/ODU1LP2)-3\n",
       "12                    NaN                    NaN\n",
       "13                    NaN  52(ODU1LP2/ODU1LP2)-4\n",
       "14                    NaN                    NaN"
      ]
     },
     "execution_count": 59,
     "metadata": {},
     "output_type": "execute_result"
    },
    {
     "data": {
      "text/plain": [
       "TreeNode(51(ODU1LP1/ODU1LP1)-1)"
      ]
     },
     "execution_count": 59,
     "metadata": {},
     "output_type": "execute_result"
    },
    {
     "data": {
      "text/plain": [
       "TreeNode(51(ODU1LP1/ODU1LP1)-1)"
      ]
     },
     "execution_count": 59,
     "metadata": {},
     "output_type": "execute_result"
    },
    {
     "data": {
      "text/plain": [
       "TreeNode(51(ODU1LP1/ODU1LP1)-2)"
      ]
     },
     "execution_count": 59,
     "metadata": {},
     "output_type": "execute_result"
    },
    {
     "data": {
      "text/plain": [
       "TreeNode(51(ODU1LP1/ODU1LP1)-2)"
      ]
     },
     "execution_count": 59,
     "metadata": {},
     "output_type": "execute_result"
    },
    {
     "data": {
      "text/plain": [
       "TreeNode(51(ODU1LP1/ODU1LP1)-3)"
      ]
     },
     "execution_count": 59,
     "metadata": {},
     "output_type": "execute_result"
    },
    {
     "data": {
      "text/plain": [
       "TreeNode(51(ODU1LP1/ODU1LP1)-3)"
      ]
     },
     "execution_count": 59,
     "metadata": {},
     "output_type": "execute_result"
    },
    {
     "data": {
      "text/plain": [
       "TreeNode(51(ODU1LP1/ODU1LP1)-4)"
      ]
     },
     "execution_count": 59,
     "metadata": {},
     "output_type": "execute_result"
    },
    {
     "data": {
      "text/plain": [
       "TreeNode(51(ODU1LP1/ODU1LP1)-4)"
      ]
     },
     "execution_count": 59,
     "metadata": {},
     "output_type": "execute_result"
    },
    {
     "data": {
      "text/plain": [
       "TreeNode(52(ODU1LP2/ODU1LP2)-1)"
      ]
     },
     "execution_count": 59,
     "metadata": {},
     "output_type": "execute_result"
    },
    {
     "data": {
      "text/plain": [
       "TreeNode(52(ODU1LP2/ODU1LP2)-1)"
      ]
     },
     "execution_count": 59,
     "metadata": {},
     "output_type": "execute_result"
    },
    {
     "data": {
      "text/plain": [
       "TreeNode(52(ODU1LP2/ODU1LP2)-2)"
      ]
     },
     "execution_count": 59,
     "metadata": {},
     "output_type": "execute_result"
    },
    {
     "data": {
      "text/plain": [
       "TreeNode(52(ODU1LP2/ODU1LP2)-2)"
      ]
     },
     "execution_count": 59,
     "metadata": {},
     "output_type": "execute_result"
    },
    {
     "data": {
      "text/plain": [
       "TreeNode(52(ODU1LP2/ODU1LP2)-3)"
      ]
     },
     "execution_count": 59,
     "metadata": {},
     "output_type": "execute_result"
    },
    {
     "data": {
      "text/plain": [
       "TreeNode(52(ODU1LP2/ODU1LP2)-3)"
      ]
     },
     "execution_count": 59,
     "metadata": {},
     "output_type": "execute_result"
    },
    {
     "data": {
      "text/plain": [
       "TreeNode(52(ODU1LP2/ODU1LP2)-4)"
      ]
     },
     "execution_count": 59,
     "metadata": {},
     "output_type": "execute_result"
    },
    {
     "data": {
      "text/plain": [
       "TreeNode(52(ODU1LP2/ODU1LP2)-4)"
      ]
     },
     "execution_count": 59,
     "metadata": {},
     "output_type": "execute_result"
    },
    {
     "name": "stdout",
     "output_type": "stream",
     "text": [
      "ND2\n",
      " |- 71(ODU2LP1/ODU2LP1)-1\n",
      "     |- 51(ODU1LP1/ODU1LP1)-1\n",
      "     |- 51(ODU1LP1/ODU1LP1)-2\n",
      "     |- 51(ODU1LP1/ODU1LP1)-3\n",
      "     |- 51(ODU1LP1/ODU1LP1)-4\n",
      " |- 72(ODU2LP2/ODU2LP2)-1\n",
      "     |- 52(ODU1LP2/ODU1LP2)-1\n",
      "     |- 52(ODU1LP2/ODU1LP2)-2\n",
      "     |- 52(ODU1LP2/ODU1LP2)-3\n",
      "     |- 52(ODU1LP2/ODU1LP2)-4\n"
     ]
    },
    {
     "data": {
      "text/plain": [
       "TreeNode(51(ODU1LP1/ODU1LP1)-1)"
      ]
     },
     "execution_count": 59,
     "metadata": {},
     "output_type": "execute_result"
    },
    {
     "data": {
      "text/plain": [
       "TreeNode(51(ODU1LP1/ODU1LP1)-1)"
      ]
     },
     "execution_count": 59,
     "metadata": {},
     "output_type": "execute_result"
    },
    {
     "data": {
      "text/plain": [
       "TreeNode(51(ODU1LP1/ODU1LP1)-2)"
      ]
     },
     "execution_count": 59,
     "metadata": {},
     "output_type": "execute_result"
    },
    {
     "data": {
      "text/plain": [
       "TreeNode(51(ODU1LP1/ODU1LP1)-2)"
      ]
     },
     "execution_count": 59,
     "metadata": {},
     "output_type": "execute_result"
    },
    {
     "data": {
      "text/plain": [
       "TreeNode(51(ODU1LP1/ODU1LP1)-3)"
      ]
     },
     "execution_count": 59,
     "metadata": {},
     "output_type": "execute_result"
    },
    {
     "data": {
      "text/plain": [
       "TreeNode(51(ODU1LP1/ODU1LP1)-3)"
      ]
     },
     "execution_count": 59,
     "metadata": {},
     "output_type": "execute_result"
    },
    {
     "data": {
      "text/plain": [
       "TreeNode(51(ODU1LP1/ODU1LP1)-4)"
      ]
     },
     "execution_count": 59,
     "metadata": {},
     "output_type": "execute_result"
    },
    {
     "data": {
      "text/plain": [
       "TreeNode(51(ODU1LP1/ODU1LP1)-4)"
      ]
     },
     "execution_count": 59,
     "metadata": {},
     "output_type": "execute_result"
    },
    {
     "data": {
      "text/plain": [
       "TreeNode(52(ODU1LP2/ODU1LP2)-1)"
      ]
     },
     "execution_count": 59,
     "metadata": {},
     "output_type": "execute_result"
    },
    {
     "data": {
      "text/plain": [
       "TreeNode(52(ODU1LP2/ODU1LP2)-1)"
      ]
     },
     "execution_count": 59,
     "metadata": {},
     "output_type": "execute_result"
    },
    {
     "data": {
      "text/plain": [
       "TreeNode(52(ODU1LP2/ODU1LP2)-2)"
      ]
     },
     "execution_count": 59,
     "metadata": {},
     "output_type": "execute_result"
    },
    {
     "data": {
      "text/plain": [
       "TreeNode(52(ODU1LP2/ODU1LP2)-2)"
      ]
     },
     "execution_count": 59,
     "metadata": {},
     "output_type": "execute_result"
    },
    {
     "data": {
      "text/plain": [
       "TreeNode(52(ODU1LP2/ODU1LP2)-3)"
      ]
     },
     "execution_count": 59,
     "metadata": {},
     "output_type": "execute_result"
    },
    {
     "data": {
      "text/plain": [
       "TreeNode(52(ODU1LP2/ODU1LP2)-3)"
      ]
     },
     "execution_count": 59,
     "metadata": {},
     "output_type": "execute_result"
    },
    {
     "data": {
      "text/plain": [
       "TreeNode(52(ODU1LP2/ODU1LP2)-4)"
      ]
     },
     "execution_count": 59,
     "metadata": {},
     "output_type": "execute_result"
    },
    {
     "data": {
      "text/plain": [
       "TreeNode(52(ODU1LP2/ODU1LP2)-4)"
      ]
     },
     "execution_count": 59,
     "metadata": {},
     "output_type": "execute_result"
    },
    {
     "name": "stdout",
     "output_type": "stream",
     "text": [
      "12ND2\n",
      " |- 71(ODU2LP1/ODU2LP1)-1\n",
      "     |- 51(ODU1LP1/ODU1LP1)-1\n",
      "     |- 51(ODU1LP1/ODU1LP1)-2\n",
      "     |- 51(ODU1LP1/ODU1LP1)-3\n",
      "     |- 51(ODU1LP1/ODU1LP1)-4\n",
      " |- 72(ODU2LP2/ODU2LP2)-1\n",
      "     |- 52(ODU1LP2/ODU1LP2)-1\n",
      "     |- 52(ODU1LP2/ODU1LP2)-2\n",
      "     |- 52(ODU1LP2/ODU1LP2)-3\n",
      "     |- 52(ODU1LP2/ODU1LP2)-4\n"
     ]
    },
    {
     "data": {
      "text/plain": [
       "TreeNode(ODUflex:1)"
      ]
     },
     "execution_count": 59,
     "metadata": {},
     "output_type": "execute_result"
    },
    {
     "data": {
      "text/plain": [
       "TreeNode(ODUflex:2)"
      ]
     },
     "execution_count": 59,
     "metadata": {},
     "output_type": "execute_result"
    },
    {
     "data": {
      "text/plain": [
       "TreeNode(ODU1:1)"
      ]
     },
     "execution_count": 59,
     "metadata": {},
     "output_type": "execute_result"
    },
    {
     "data": {
      "text/plain": [
       "TreeNode(ODU1:1)"
      ]
     },
     "execution_count": 59,
     "metadata": {},
     "output_type": "execute_result"
    },
    {
     "data": {
      "text/plain": [
       "TreeNode(ODU1:2)"
      ]
     },
     "execution_count": 59,
     "metadata": {},
     "output_type": "execute_result"
    },
    {
     "data": {
      "text/plain": [
       "TreeNode(ODU1:2)"
      ]
     },
     "execution_count": 59,
     "metadata": {},
     "output_type": "execute_result"
    },
    {
     "data": {
      "text/plain": [
       "TreeNode(ODU1:3)"
      ]
     },
     "execution_count": 59,
     "metadata": {},
     "output_type": "execute_result"
    },
    {
     "data": {
      "text/plain": [
       "TreeNode(ODU1:3)"
      ]
     },
     "execution_count": 59,
     "metadata": {},
     "output_type": "execute_result"
    },
    {
     "data": {
      "text/plain": [
       "TreeNode(ODU1:4)"
      ]
     },
     "execution_count": 59,
     "metadata": {},
     "output_type": "execute_result"
    },
    {
     "data": {
      "text/plain": [
       "TreeNode(ODU1:4)"
      ]
     },
     "execution_count": 59,
     "metadata": {},
     "output_type": "execute_result"
    },
    {
     "data": {
      "text/plain": [
       "TreeNode(ODU0:1)"
      ]
     },
     "execution_count": 59,
     "metadata": {},
     "output_type": "execute_result"
    },
    {
     "data": {
      "text/plain": [
       "TreeNode(ODU0:2)"
      ]
     },
     "execution_count": 59,
     "metadata": {},
     "output_type": "execute_result"
    },
    {
     "data": {
      "text/plain": [
       "TreeNode(ODU0:3)"
      ]
     },
     "execution_count": 59,
     "metadata": {},
     "output_type": "execute_result"
    },
    {
     "data": {
      "text/plain": [
       "TreeNode(ODU0:4)"
      ]
     },
     "execution_count": 59,
     "metadata": {},
     "output_type": "execute_result"
    },
    {
     "data": {
      "text/plain": [
       "TreeNode(ODU0:5)"
      ]
     },
     "execution_count": 59,
     "metadata": {},
     "output_type": "execute_result"
    },
    {
     "data": {
      "text/plain": [
       "TreeNode(ODU0:6)"
      ]
     },
     "execution_count": 59,
     "metadata": {},
     "output_type": "execute_result"
    },
    {
     "data": {
      "text/plain": [
       "TreeNode(ODU0:7)"
      ]
     },
     "execution_count": 59,
     "metadata": {},
     "output_type": "execute_result"
    },
    {
     "data": {
      "text/plain": [
       "TreeNode(ODU0:8)"
      ]
     },
     "execution_count": 59,
     "metadata": {},
     "output_type": "execute_result"
    },
    {
     "data": {
      "text/plain": [
       "TreeNode(ODUflex:1)"
      ]
     },
     "execution_count": 59,
     "metadata": {},
     "output_type": "execute_result"
    },
    {
     "data": {
      "text/plain": [
       "TreeNode(ODUflex:2)"
      ]
     },
     "execution_count": 59,
     "metadata": {},
     "output_type": "execute_result"
    },
    {
     "data": {
      "text/plain": [
       "TreeNode(ODU1:1)"
      ]
     },
     "execution_count": 59,
     "metadata": {},
     "output_type": "execute_result"
    },
    {
     "data": {
      "text/plain": [
       "TreeNode(ODU1:1)"
      ]
     },
     "execution_count": 59,
     "metadata": {},
     "output_type": "execute_result"
    },
    {
     "data": {
      "text/plain": [
       "TreeNode(ODU1:2)"
      ]
     },
     "execution_count": 59,
     "metadata": {},
     "output_type": "execute_result"
    },
    {
     "data": {
      "text/plain": [
       "TreeNode(ODU1:2)"
      ]
     },
     "execution_count": 59,
     "metadata": {},
     "output_type": "execute_result"
    },
    {
     "data": {
      "text/plain": [
       "TreeNode(ODU1:3)"
      ]
     },
     "execution_count": 59,
     "metadata": {},
     "output_type": "execute_result"
    },
    {
     "data": {
      "text/plain": [
       "TreeNode(ODU1:3)"
      ]
     },
     "execution_count": 59,
     "metadata": {},
     "output_type": "execute_result"
    },
    {
     "data": {
      "text/plain": [
       "TreeNode(ODU1:4)"
      ]
     },
     "execution_count": 59,
     "metadata": {},
     "output_type": "execute_result"
    },
    {
     "data": {
      "text/plain": [
       "TreeNode(ODU1:4)"
      ]
     },
     "execution_count": 59,
     "metadata": {},
     "output_type": "execute_result"
    },
    {
     "data": {
      "text/plain": [
       "TreeNode(ODU0:1)"
      ]
     },
     "execution_count": 59,
     "metadata": {},
     "output_type": "execute_result"
    },
    {
     "data": {
      "text/plain": [
       "TreeNode(ODU0:2)"
      ]
     },
     "execution_count": 59,
     "metadata": {},
     "output_type": "execute_result"
    },
    {
     "data": {
      "text/plain": [
       "TreeNode(ODU0:3)"
      ]
     },
     "execution_count": 59,
     "metadata": {},
     "output_type": "execute_result"
    },
    {
     "data": {
      "text/plain": [
       "TreeNode(ODU0:4)"
      ]
     },
     "execution_count": 59,
     "metadata": {},
     "output_type": "execute_result"
    },
    {
     "data": {
      "text/plain": [
       "TreeNode(ODU0:5)"
      ]
     },
     "execution_count": 59,
     "metadata": {},
     "output_type": "execute_result"
    },
    {
     "data": {
      "text/plain": [
       "TreeNode(ODU0:6)"
      ]
     },
     "execution_count": 59,
     "metadata": {},
     "output_type": "execute_result"
    },
    {
     "data": {
      "text/plain": [
       "TreeNode(ODU0:7)"
      ]
     },
     "execution_count": 59,
     "metadata": {},
     "output_type": "execute_result"
    },
    {
     "data": {
      "text/plain": [
       "TreeNode(ODU0:8)"
      ]
     },
     "execution_count": 59,
     "metadata": {},
     "output_type": "execute_result"
    },
    {
     "name": "stdout",
     "output_type": "stream",
     "text": [
      "52ND2(STND)\n",
      " |- 1（IN1/OUT1)\n",
      "     |- OCh:1\n",
      "         |- ODU2:1\n",
      "             |- ODUflex:1\n",
      "             |- ODUflex:2\n",
      "             |- ODU1:1\n",
      "             |- ODU1:2\n",
      "             |- ODU1:3\n",
      "             |- ODU1:4\n",
      "             |- ODU0:1\n",
      "             |- ODU0:2\n",
      "             |- ODU0:3\n",
      "             |- ODU0:4\n",
      "             |- ODU0:5\n",
      "             |- ODU0:6\n",
      "             |- ODU0:7\n",
      "             |- ODU0:8\n",
      " |- 2（IN2/OUT2)\n",
      "     |- OCh:1\n",
      "         |- ODU2:1\n",
      "             |- ODUflex:1\n",
      "             |- ODUflex:2\n",
      "             |- ODU1:1\n",
      "             |- ODU1:2\n",
      "             |- ODU1:3\n",
      "             |- ODU1:4\n",
      "             |- ODU0:1\n",
      "             |- ODU0:2\n",
      "             |- ODU0:3\n",
      "             |- ODU0:4\n",
      "             |- ODU0:5\n",
      "             |- ODU0:6\n",
      "             |- ODU0:7\n",
      "             |- ODU0:8\n"
     ]
    },
    {
     "data": {
      "text/plain": [
       "TreeNode(161(ODU0LP1/ODU0LP1)-1)"
      ]
     },
     "execution_count": 59,
     "metadata": {},
     "output_type": "execute_result"
    },
    {
     "data": {
      "text/plain": [
       "TreeNode(161(ODU0LP1/ODU0LP1)-2)"
      ]
     },
     "execution_count": 59,
     "metadata": {},
     "output_type": "execute_result"
    },
    {
     "data": {
      "text/plain": [
       "TreeNode(162(ODU0LP2/ODU0LP2)-1)"
      ]
     },
     "execution_count": 59,
     "metadata": {},
     "output_type": "execute_result"
    },
    {
     "data": {
      "text/plain": [
       "TreeNode(162(ODU0LP2/ODU0LP2)-2)"
      ]
     },
     "execution_count": 59,
     "metadata": {},
     "output_type": "execute_result"
    },
    {
     "data": {
      "text/plain": [
       "TreeNode(163(ODU0LP3/ODU0LP3)-1)"
      ]
     },
     "execution_count": 59,
     "metadata": {},
     "output_type": "execute_result"
    },
    {
     "data": {
      "text/plain": [
       "TreeNode(163(ODU0LP3/ODU0LP3)-2)"
      ]
     },
     "execution_count": 59,
     "metadata": {},
     "output_type": "execute_result"
    },
    {
     "data": {
      "text/plain": [
       "TreeNode(164(ODU0LP4/ODU0LP4)-1)"
      ]
     },
     "execution_count": 59,
     "metadata": {},
     "output_type": "execute_result"
    },
    {
     "data": {
      "text/plain": [
       "TreeNode(164(ODU0LP4/ODU0LP4)-2)"
      ]
     },
     "execution_count": 59,
     "metadata": {},
     "output_type": "execute_result"
    },
    {
     "data": {
      "text/plain": [
       "TreeNode(165(ODU0LP1/ODU0LP1)-1)"
      ]
     },
     "execution_count": 59,
     "metadata": {},
     "output_type": "execute_result"
    },
    {
     "data": {
      "text/plain": [
       "TreeNode(165(ODU0LP1/ODU0LP1)-2)"
      ]
     },
     "execution_count": 59,
     "metadata": {},
     "output_type": "execute_result"
    },
    {
     "data": {
      "text/plain": [
       "TreeNode(166(ODU0LP2/ODU0LP2)-1)"
      ]
     },
     "execution_count": 59,
     "metadata": {},
     "output_type": "execute_result"
    },
    {
     "data": {
      "text/plain": [
       "TreeNode(166(ODU0LP2/ODU0LP2)-2)"
      ]
     },
     "execution_count": 59,
     "metadata": {},
     "output_type": "execute_result"
    },
    {
     "data": {
      "text/plain": [
       "TreeNode(167(ODU0LP3/ODU0LP3)-1)"
      ]
     },
     "execution_count": 59,
     "metadata": {},
     "output_type": "execute_result"
    },
    {
     "data": {
      "text/plain": [
       "TreeNode(167(ODU0LP3/ODU0LP3)-2)"
      ]
     },
     "execution_count": 59,
     "metadata": {},
     "output_type": "execute_result"
    },
    {
     "data": {
      "text/plain": [
       "TreeNode(168(ODU0LP4/ODU0LP4)-1)"
      ]
     },
     "execution_count": 59,
     "metadata": {},
     "output_type": "execute_result"
    },
    {
     "data": {
      "text/plain": [
       "TreeNode(168(ODU0LP4/ODU0LP4)-2)"
      ]
     },
     "execution_count": 59,
     "metadata": {},
     "output_type": "execute_result"
    },
    {
     "name": "stdout",
     "output_type": "stream",
     "text": [
      "52ND2\n",
      " |- 71(ODU2LP1/ODU2LP1)-1\n",
      "     |- 51(ODU1LP1/ODU1LP1)-1\n",
      "         |- 161(ODU0LP1/ODU0LP1)-1\n",
      "         |- 161(ODU0LP1/ODU0LP1)-2\n",
      "     |- 51(ODU1LP1/ODU1LP1)-2\n",
      "         |- 162(ODU0LP2/ODU0LP2)-1\n",
      "         |- 162(ODU0LP2/ODU0LP2)-2\n",
      "     |- 51(ODU1LP1/ODU1LP1)-3\n",
      "         |- 163(ODU0LP3/ODU0LP3)-1\n",
      "         |- 163(ODU0LP3/ODU0LP3)-2\n",
      "     |- 51(ODU1LP1/ODU1LP1)-4\n",
      "         |- 164(ODU0LP4/ODU0LP4)-1\n",
      "         |- 164(ODU0LP4/ODU0LP4)-2\n",
      " |- 72(ODU2LP1/ODU2LP1)-1\n",
      "     |- 52(ODU1LP1/ODU1LP1)-1\n",
      "         |- 165(ODU0LP1/ODU0LP1)-1\n",
      "         |- 165(ODU0LP1/ODU0LP1)-2\n",
      "     |- 52(ODU1LP1/ODU1LP1)-2\n",
      "         |- 166(ODU0LP2/ODU0LP2)-1\n",
      "         |- 166(ODU0LP2/ODU0LP2)-2\n",
      "     |- 52(ODU1LP1/ODU1LP1)-3\n",
      "         |- 167(ODU0LP3/ODU0LP3)-1\n",
      "         |- 167(ODU0LP3/ODU0LP3)-2\n",
      "     |- 52(ODU1LP1/ODU1LP1)-4\n",
      "         |- 168(ODU0LP4/ODU0LP4)-1\n",
      "         |- 168(ODU0LP4/ODU0LP4)-2\n"
     ]
    },
    {
     "data": {
      "text/plain": [
       "TreeNode(ODUflex:1)"
      ]
     },
     "execution_count": 59,
     "metadata": {},
     "output_type": "execute_result"
    },
    {
     "data": {
      "text/plain": [
       "TreeNode(ODUflex:2)"
      ]
     },
     "execution_count": 59,
     "metadata": {},
     "output_type": "execute_result"
    },
    {
     "data": {
      "text/plain": [
       "TreeNode(ODU1:1)"
      ]
     },
     "execution_count": 59,
     "metadata": {},
     "output_type": "execute_result"
    },
    {
     "data": {
      "text/plain": [
       "TreeNode(ODU1:1)"
      ]
     },
     "execution_count": 59,
     "metadata": {},
     "output_type": "execute_result"
    },
    {
     "data": {
      "text/plain": [
       "TreeNode(ODU1:2)"
      ]
     },
     "execution_count": 59,
     "metadata": {},
     "output_type": "execute_result"
    },
    {
     "data": {
      "text/plain": [
       "TreeNode(ODU1:2)"
      ]
     },
     "execution_count": 59,
     "metadata": {},
     "output_type": "execute_result"
    },
    {
     "data": {
      "text/plain": [
       "TreeNode(ODU1:3)"
      ]
     },
     "execution_count": 59,
     "metadata": {},
     "output_type": "execute_result"
    },
    {
     "data": {
      "text/plain": [
       "TreeNode(ODU1:3)"
      ]
     },
     "execution_count": 59,
     "metadata": {},
     "output_type": "execute_result"
    },
    {
     "data": {
      "text/plain": [
       "TreeNode(ODU1:4)"
      ]
     },
     "execution_count": 59,
     "metadata": {},
     "output_type": "execute_result"
    },
    {
     "data": {
      "text/plain": [
       "TreeNode(ODU1:4)"
      ]
     },
     "execution_count": 59,
     "metadata": {},
     "output_type": "execute_result"
    },
    {
     "data": {
      "text/plain": [
       "TreeNode(ODU0:1)"
      ]
     },
     "execution_count": 59,
     "metadata": {},
     "output_type": "execute_result"
    },
    {
     "data": {
      "text/plain": [
       "TreeNode(ODU0:2)"
      ]
     },
     "execution_count": 59,
     "metadata": {},
     "output_type": "execute_result"
    },
    {
     "data": {
      "text/plain": [
       "TreeNode(ODU0:3)"
      ]
     },
     "execution_count": 59,
     "metadata": {},
     "output_type": "execute_result"
    },
    {
     "data": {
      "text/plain": [
       "TreeNode(ODU0:4)"
      ]
     },
     "execution_count": 59,
     "metadata": {},
     "output_type": "execute_result"
    },
    {
     "data": {
      "text/plain": [
       "TreeNode(ODU0:5)"
      ]
     },
     "execution_count": 59,
     "metadata": {},
     "output_type": "execute_result"
    },
    {
     "data": {
      "text/plain": [
       "TreeNode(ODU0:6)"
      ]
     },
     "execution_count": 59,
     "metadata": {},
     "output_type": "execute_result"
    },
    {
     "data": {
      "text/plain": [
       "TreeNode(ODU0:7)"
      ]
     },
     "execution_count": 59,
     "metadata": {},
     "output_type": "execute_result"
    },
    {
     "data": {
      "text/plain": [
       "TreeNode(ODU0:8)"
      ]
     },
     "execution_count": 59,
     "metadata": {},
     "output_type": "execute_result"
    },
    {
     "data": {
      "text/plain": [
       "TreeNode(ODUflex:1)"
      ]
     },
     "execution_count": 59,
     "metadata": {},
     "output_type": "execute_result"
    },
    {
     "data": {
      "text/plain": [
       "TreeNode(ODUflex:2)"
      ]
     },
     "execution_count": 59,
     "metadata": {},
     "output_type": "execute_result"
    },
    {
     "data": {
      "text/plain": [
       "TreeNode(ODU1:1)"
      ]
     },
     "execution_count": 59,
     "metadata": {},
     "output_type": "execute_result"
    },
    {
     "data": {
      "text/plain": [
       "TreeNode(ODU1:1)"
      ]
     },
     "execution_count": 59,
     "metadata": {},
     "output_type": "execute_result"
    },
    {
     "data": {
      "text/plain": [
       "TreeNode(ODU1:2)"
      ]
     },
     "execution_count": 59,
     "metadata": {},
     "output_type": "execute_result"
    },
    {
     "data": {
      "text/plain": [
       "TreeNode(ODU1:2)"
      ]
     },
     "execution_count": 59,
     "metadata": {},
     "output_type": "execute_result"
    },
    {
     "data": {
      "text/plain": [
       "TreeNode(ODU1:3)"
      ]
     },
     "execution_count": 59,
     "metadata": {},
     "output_type": "execute_result"
    },
    {
     "data": {
      "text/plain": [
       "TreeNode(ODU1:3)"
      ]
     },
     "execution_count": 59,
     "metadata": {},
     "output_type": "execute_result"
    },
    {
     "data": {
      "text/plain": [
       "TreeNode(ODU1:4)"
      ]
     },
     "execution_count": 59,
     "metadata": {},
     "output_type": "execute_result"
    },
    {
     "data": {
      "text/plain": [
       "TreeNode(ODU1:4)"
      ]
     },
     "execution_count": 59,
     "metadata": {},
     "output_type": "execute_result"
    },
    {
     "data": {
      "text/plain": [
       "TreeNode(ODU0:1)"
      ]
     },
     "execution_count": 59,
     "metadata": {},
     "output_type": "execute_result"
    },
    {
     "data": {
      "text/plain": [
       "TreeNode(ODU0:2)"
      ]
     },
     "execution_count": 59,
     "metadata": {},
     "output_type": "execute_result"
    },
    {
     "data": {
      "text/plain": [
       "TreeNode(ODU0:3)"
      ]
     },
     "execution_count": 59,
     "metadata": {},
     "output_type": "execute_result"
    },
    {
     "data": {
      "text/plain": [
       "TreeNode(ODU0:4)"
      ]
     },
     "execution_count": 59,
     "metadata": {},
     "output_type": "execute_result"
    },
    {
     "data": {
      "text/plain": [
       "TreeNode(ODU0:5)"
      ]
     },
     "execution_count": 59,
     "metadata": {},
     "output_type": "execute_result"
    },
    {
     "data": {
      "text/plain": [
       "TreeNode(ODU0:6)"
      ]
     },
     "execution_count": 59,
     "metadata": {},
     "output_type": "execute_result"
    },
    {
     "data": {
      "text/plain": [
       "TreeNode(ODU0:7)"
      ]
     },
     "execution_count": 59,
     "metadata": {},
     "output_type": "execute_result"
    },
    {
     "data": {
      "text/plain": [
       "TreeNode(ODU0:8)"
      ]
     },
     "execution_count": 59,
     "metadata": {},
     "output_type": "execute_result"
    },
    {
     "name": "stdout",
     "output_type": "stream",
     "text": [
      "53ND2\n",
      " |- 1（IN1/OUT1)\n",
      "     |- OCh:1\n",
      "         |- ODU2:1\n",
      "             |- ODUflex:1\n",
      "             |- ODUflex:2\n",
      "             |- ODU1:1\n",
      "             |- ODU1:2\n",
      "             |- ODU1:3\n",
      "             |- ODU1:4\n",
      "             |- ODU0:1\n",
      "             |- ODU0:2\n",
      "             |- ODU0:3\n",
      "             |- ODU0:4\n",
      "             |- ODU0:5\n",
      "             |- ODU0:6\n",
      "             |- ODU0:7\n",
      "             |- ODU0:8\n",
      " |- 2（IN2/OUT2)\n",
      "     |- OCh:1\n",
      "         |- ODU2:1\n",
      "             |- ODUflex:1\n",
      "             |- ODUflex:2\n",
      "             |- ODU1:1\n",
      "             |- ODU1:2\n",
      "             |- ODU1:3\n",
      "             |- ODU1:4\n",
      "             |- ODU0:1\n",
      "             |- ODU0:2\n",
      "             |- ODU0:3\n",
      "             |- ODU0:4\n",
      "             |- ODU0:5\n",
      "             |- ODU0:6\n",
      "             |- ODU0:7\n",
      "             |- ODU0:8\n"
     ]
    },
    {
     "data": {
      "text/plain": [
       "TreeNode(161(ODU0LP1/ODU0LP1)-1)"
      ]
     },
     "execution_count": 59,
     "metadata": {},
     "output_type": "execute_result"
    },
    {
     "data": {
      "text/plain": [
       "TreeNode(161(ODU0LP1/ODU0LP1)-2)"
      ]
     },
     "execution_count": 59,
     "metadata": {},
     "output_type": "execute_result"
    },
    {
     "data": {
      "text/plain": [
       "TreeNode(162(ODU0LP2/ODU0LP2)-1)"
      ]
     },
     "execution_count": 59,
     "metadata": {},
     "output_type": "execute_result"
    },
    {
     "data": {
      "text/plain": [
       "TreeNode(162(ODU0LP2/ODU0LP2)-2)"
      ]
     },
     "execution_count": 59,
     "metadata": {},
     "output_type": "execute_result"
    },
    {
     "data": {
      "text/plain": [
       "TreeNode(163(ODU0LP3/ODU0LP3)-1)"
      ]
     },
     "execution_count": 59,
     "metadata": {},
     "output_type": "execute_result"
    },
    {
     "data": {
      "text/plain": [
       "TreeNode(163(ODU0LP3/ODU0LP3)-2)"
      ]
     },
     "execution_count": 59,
     "metadata": {},
     "output_type": "execute_result"
    },
    {
     "data": {
      "text/plain": [
       "TreeNode(164(ODU0LP4/ODU0LP4)-1)"
      ]
     },
     "execution_count": 59,
     "metadata": {},
     "output_type": "execute_result"
    },
    {
     "data": {
      "text/plain": [
       "TreeNode(164(ODU0LP4/ODU0LP4)-2)"
      ]
     },
     "execution_count": 59,
     "metadata": {},
     "output_type": "execute_result"
    },
    {
     "data": {
      "text/plain": [
       "TreeNode(165(ODU0LP1/ODU0LP1)-1)"
      ]
     },
     "execution_count": 59,
     "metadata": {},
     "output_type": "execute_result"
    },
    {
     "data": {
      "text/plain": [
       "TreeNode(165(ODU0LP1/ODU0LP1)-2)"
      ]
     },
     "execution_count": 59,
     "metadata": {},
     "output_type": "execute_result"
    },
    {
     "data": {
      "text/plain": [
       "TreeNode(166(ODU0LP2/ODU0LP2)-1)"
      ]
     },
     "execution_count": 59,
     "metadata": {},
     "output_type": "execute_result"
    },
    {
     "data": {
      "text/plain": [
       "TreeNode(166(ODU0LP2/ODU0LP2)-2)"
      ]
     },
     "execution_count": 59,
     "metadata": {},
     "output_type": "execute_result"
    },
    {
     "data": {
      "text/plain": [
       "TreeNode(167(ODU0LP3/ODU0LP3)-1)"
      ]
     },
     "execution_count": 59,
     "metadata": {},
     "output_type": "execute_result"
    },
    {
     "data": {
      "text/plain": [
       "TreeNode(167(ODU0LP3/ODU0LP3)-2)"
      ]
     },
     "execution_count": 59,
     "metadata": {},
     "output_type": "execute_result"
    },
    {
     "data": {
      "text/plain": [
       "TreeNode(168(ODU0LP4/ODU0LP4)-1)"
      ]
     },
     "execution_count": 59,
     "metadata": {},
     "output_type": "execute_result"
    },
    {
     "data": {
      "text/plain": [
       "TreeNode(168(ODU0LP4/ODU0LP4)-2)"
      ]
     },
     "execution_count": 59,
     "metadata": {},
     "output_type": "execute_result"
    },
    {
     "name": "stdout",
     "output_type": "stream",
     "text": [
      "53ND2(COMP)\n",
      " |- 71(ODU2LP1/ODU2LP1)-1\n",
      "     |- 51(ODU1LP1/ODU1LP1)-1\n",
      "         |- 161(ODU0LP1/ODU0LP1)-1\n",
      "         |- 161(ODU0LP1/ODU0LP1)-2\n",
      "     |- 51(ODU1LP1/ODU1LP1)-2\n",
      "         |- 162(ODU0LP2/ODU0LP2)-1\n",
      "         |- 162(ODU0LP2/ODU0LP2)-2\n",
      "     |- 51(ODU1LP1/ODU1LP1)-3\n",
      "         |- 163(ODU0LP3/ODU0LP3)-1\n",
      "         |- 163(ODU0LP3/ODU0LP3)-2\n",
      "     |- 51(ODU1LP1/ODU1LP1)-4\n",
      "         |- 164(ODU0LP4/ODU0LP4)-1\n",
      "         |- 164(ODU0LP4/ODU0LP4)-2\n",
      " |- 72(ODU2LP1/ODU2LP1)-1\n",
      "     |- 52(ODU1LP1/ODU1LP1)-1\n",
      "         |- 165(ODU0LP1/ODU0LP1)-1\n",
      "         |- 165(ODU0LP1/ODU0LP1)-2\n",
      "     |- 52(ODU1LP1/ODU1LP1)-2\n",
      "         |- 166(ODU0LP2/ODU0LP2)-1\n",
      "         |- 166(ODU0LP2/ODU0LP2)-2\n",
      "     |- 52(ODU1LP1/ODU1LP1)-3\n",
      "         |- 167(ODU0LP3/ODU0LP3)-1\n",
      "         |- 167(ODU0LP3/ODU0LP3)-2\n",
      "     |- 52(ODU1LP1/ODU1LP1)-4\n",
      "         |- 168(ODU0LP4/ODU0LP4)-1\n",
      "         |- 168(ODU0LP4/ODU0LP4)-2\n"
     ]
    },
    {
     "data": {
      "text/plain": [
       "TreeNode(ODUflex:1)"
      ]
     },
     "execution_count": 59,
     "metadata": {},
     "output_type": "execute_result"
    },
    {
     "data": {
      "text/plain": [
       "TreeNode(ODUflex:2)"
      ]
     },
     "execution_count": 59,
     "metadata": {},
     "output_type": "execute_result"
    },
    {
     "data": {
      "text/plain": [
       "TreeNode(ODU1:1)"
      ]
     },
     "execution_count": 59,
     "metadata": {},
     "output_type": "execute_result"
    },
    {
     "data": {
      "text/plain": [
       "TreeNode(ODU1:1)"
      ]
     },
     "execution_count": 59,
     "metadata": {},
     "output_type": "execute_result"
    },
    {
     "data": {
      "text/plain": [
       "TreeNode(ODU1:2)"
      ]
     },
     "execution_count": 59,
     "metadata": {},
     "output_type": "execute_result"
    },
    {
     "data": {
      "text/plain": [
       "TreeNode(ODU1:2)"
      ]
     },
     "execution_count": 59,
     "metadata": {},
     "output_type": "execute_result"
    },
    {
     "data": {
      "text/plain": [
       "TreeNode(ODU1:3)"
      ]
     },
     "execution_count": 59,
     "metadata": {},
     "output_type": "execute_result"
    },
    {
     "data": {
      "text/plain": [
       "TreeNode(ODU1:3)"
      ]
     },
     "execution_count": 59,
     "metadata": {},
     "output_type": "execute_result"
    },
    {
     "data": {
      "text/plain": [
       "TreeNode(ODU1:4)"
      ]
     },
     "execution_count": 59,
     "metadata": {},
     "output_type": "execute_result"
    },
    {
     "data": {
      "text/plain": [
       "TreeNode(ODU1:4)"
      ]
     },
     "execution_count": 59,
     "metadata": {},
     "output_type": "execute_result"
    },
    {
     "data": {
      "text/plain": [
       "TreeNode(ODU0:1)"
      ]
     },
     "execution_count": 59,
     "metadata": {},
     "output_type": "execute_result"
    },
    {
     "data": {
      "text/plain": [
       "TreeNode(ODU0:2)"
      ]
     },
     "execution_count": 59,
     "metadata": {},
     "output_type": "execute_result"
    },
    {
     "data": {
      "text/plain": [
       "TreeNode(ODU0:3)"
      ]
     },
     "execution_count": 59,
     "metadata": {},
     "output_type": "execute_result"
    },
    {
     "data": {
      "text/plain": [
       "TreeNode(ODU0:4)"
      ]
     },
     "execution_count": 59,
     "metadata": {},
     "output_type": "execute_result"
    },
    {
     "data": {
      "text/plain": [
       "TreeNode(ODU0:5)"
      ]
     },
     "execution_count": 59,
     "metadata": {},
     "output_type": "execute_result"
    },
    {
     "data": {
      "text/plain": [
       "TreeNode(ODU0:6)"
      ]
     },
     "execution_count": 59,
     "metadata": {},
     "output_type": "execute_result"
    },
    {
     "data": {
      "text/plain": [
       "TreeNode(ODU0:7)"
      ]
     },
     "execution_count": 59,
     "metadata": {},
     "output_type": "execute_result"
    },
    {
     "data": {
      "text/plain": [
       "TreeNode(ODU0:8)"
      ]
     },
     "execution_count": 59,
     "metadata": {},
     "output_type": "execute_result"
    },
    {
     "data": {
      "text/plain": [
       "TreeNode(ODUflex:1)"
      ]
     },
     "execution_count": 59,
     "metadata": {},
     "output_type": "execute_result"
    },
    {
     "data": {
      "text/plain": [
       "TreeNode(ODUflex:2)"
      ]
     },
     "execution_count": 59,
     "metadata": {},
     "output_type": "execute_result"
    },
    {
     "data": {
      "text/plain": [
       "TreeNode(ODU1:1)"
      ]
     },
     "execution_count": 59,
     "metadata": {},
     "output_type": "execute_result"
    },
    {
     "data": {
      "text/plain": [
       "TreeNode(ODU1:1)"
      ]
     },
     "execution_count": 59,
     "metadata": {},
     "output_type": "execute_result"
    },
    {
     "data": {
      "text/plain": [
       "TreeNode(ODU1:2)"
      ]
     },
     "execution_count": 59,
     "metadata": {},
     "output_type": "execute_result"
    },
    {
     "data": {
      "text/plain": [
       "TreeNode(ODU1:2)"
      ]
     },
     "execution_count": 59,
     "metadata": {},
     "output_type": "execute_result"
    },
    {
     "data": {
      "text/plain": [
       "TreeNode(ODU1:3)"
      ]
     },
     "execution_count": 59,
     "metadata": {},
     "output_type": "execute_result"
    },
    {
     "data": {
      "text/plain": [
       "TreeNode(ODU1:3)"
      ]
     },
     "execution_count": 59,
     "metadata": {},
     "output_type": "execute_result"
    },
    {
     "data": {
      "text/plain": [
       "TreeNode(ODU1:4)"
      ]
     },
     "execution_count": 59,
     "metadata": {},
     "output_type": "execute_result"
    },
    {
     "data": {
      "text/plain": [
       "TreeNode(ODU1:4)"
      ]
     },
     "execution_count": 59,
     "metadata": {},
     "output_type": "execute_result"
    },
    {
     "data": {
      "text/plain": [
       "TreeNode(ODU0:1)"
      ]
     },
     "execution_count": 59,
     "metadata": {},
     "output_type": "execute_result"
    },
    {
     "data": {
      "text/plain": [
       "TreeNode(ODU0:2)"
      ]
     },
     "execution_count": 59,
     "metadata": {},
     "output_type": "execute_result"
    },
    {
     "data": {
      "text/plain": [
       "TreeNode(ODU0:3)"
      ]
     },
     "execution_count": 59,
     "metadata": {},
     "output_type": "execute_result"
    },
    {
     "data": {
      "text/plain": [
       "TreeNode(ODU0:4)"
      ]
     },
     "execution_count": 59,
     "metadata": {},
     "output_type": "execute_result"
    },
    {
     "data": {
      "text/plain": [
       "TreeNode(ODU0:5)"
      ]
     },
     "execution_count": 59,
     "metadata": {},
     "output_type": "execute_result"
    },
    {
     "data": {
      "text/plain": [
       "TreeNode(ODU0:6)"
      ]
     },
     "execution_count": 59,
     "metadata": {},
     "output_type": "execute_result"
    },
    {
     "data": {
      "text/plain": [
       "TreeNode(ODU0:7)"
      ]
     },
     "execution_count": 59,
     "metadata": {},
     "output_type": "execute_result"
    },
    {
     "data": {
      "text/plain": [
       "TreeNode(ODU0:8)"
      ]
     },
     "execution_count": 59,
     "metadata": {},
     "output_type": "execute_result"
    },
    {
     "name": "stdout",
     "output_type": "stream",
     "text": [
      "57ND2\n",
      " |- 1（IN1/OUT1)\n",
      "     |- OCh:1\n",
      "         |- ODU2:1\n",
      "             |- ODUflex:1\n",
      "             |- ODUflex:2\n",
      "             |- ODU1:1\n",
      "             |- ODU1:2\n",
      "             |- ODU1:3\n",
      "             |- ODU1:4\n",
      "             |- ODU0:1\n",
      "             |- ODU0:2\n",
      "             |- ODU0:3\n",
      "             |- ODU0:4\n",
      "             |- ODU0:5\n",
      "             |- ODU0:6\n",
      "             |- ODU0:7\n",
      "             |- ODU0:8\n",
      " |- 2（IN2/OUT2)\n",
      "     |- OCh:1\n",
      "         |- ODU2:1\n",
      "             |- ODUflex:1\n",
      "             |- ODUflex:2\n",
      "             |- ODU1:1\n",
      "             |- ODU1:2\n",
      "             |- ODU1:3\n",
      "             |- ODU1:4\n",
      "             |- ODU0:1\n",
      "             |- ODU0:2\n",
      "             |- ODU0:3\n",
      "             |- ODU0:4\n",
      "             |- ODU0:5\n",
      "             |- ODU0:6\n",
      "             |- ODU0:7\n",
      "             |- ODU0:8\n"
     ]
    },
    {
     "data": {
      "text/plain": [
       "TreeNode(1)"
      ]
     },
     "execution_count": 59,
     "metadata": {},
     "output_type": "execute_result"
    },
    {
     "data": {
      "text/plain": [
       "TreeNode(2)"
      ]
     },
     "execution_count": 59,
     "metadata": {},
     "output_type": "execute_result"
    },
    {
     "data": {
      "text/plain": [
       "TreeNode(3)"
      ]
     },
     "execution_count": 59,
     "metadata": {},
     "output_type": "execute_result"
    },
    {
     "data": {
      "text/plain": [
       "TreeNode(4)"
      ]
     },
     "execution_count": 59,
     "metadata": {},
     "output_type": "execute_result"
    },
    {
     "name": "stdout",
     "output_type": "stream",
     "text": [
      "TN11NS2\n",
      " |- 1(IN/OUT)\n",
      "     |- 1\n",
      "     |- 2\n",
      "     |- 3\n",
      "     |- 4\n"
     ]
    },
    {
     "data": {
      "text/plain": [
       "TreeNode(51(ODU1LP1/ODU1LP1)-1)"
      ]
     },
     "execution_count": 59,
     "metadata": {},
     "output_type": "execute_result"
    },
    {
     "data": {
      "text/plain": [
       "TreeNode(51(ODU1LP1/ODU1LP1)-1)"
      ]
     },
     "execution_count": 59,
     "metadata": {},
     "output_type": "execute_result"
    },
    {
     "data": {
      "text/plain": [
       "TreeNode(51(ODU1LP1/ODU1LP1)-2)"
      ]
     },
     "execution_count": 59,
     "metadata": {},
     "output_type": "execute_result"
    },
    {
     "data": {
      "text/plain": [
       "TreeNode(51(ODU1LP1/ODU1LP1)-2)"
      ]
     },
     "execution_count": 59,
     "metadata": {},
     "output_type": "execute_result"
    },
    {
     "data": {
      "text/plain": [
       "TreeNode(51(ODU1LP1/ODU1LP1)-3)"
      ]
     },
     "execution_count": 59,
     "metadata": {},
     "output_type": "execute_result"
    },
    {
     "data": {
      "text/plain": [
       "TreeNode(51(ODU1LP1/ODU1LP1)-3)"
      ]
     },
     "execution_count": 59,
     "metadata": {},
     "output_type": "execute_result"
    },
    {
     "data": {
      "text/plain": [
       "TreeNode(51(ODU1LP1/ODU1LP1)-4)"
      ]
     },
     "execution_count": 59,
     "metadata": {},
     "output_type": "execute_result"
    },
    {
     "data": {
      "text/plain": [
       "TreeNode(51(ODU1LP1/ODU1LP1)-4)"
      ]
     },
     "execution_count": 59,
     "metadata": {},
     "output_type": "execute_result"
    },
    {
     "name": "stdout",
     "output_type": "stream",
     "text": [
      "TN12NS2\n",
      " |- 71(ODU2LP1/ODU2LP1)-1\n",
      "     |- 51(ODU1LP1/ODU1LP1)-1\n",
      "     |- 51(ODU1LP1/ODU1LP1)-2\n",
      "     |- 51(ODU1LP1/ODU1LP1)-3\n",
      "     |- 51(ODU1LP1/ODU1LP1)-4\n"
     ]
    },
    {
     "data": {
      "text/plain": [
       "TreeNode(ODU0:1)"
      ]
     },
     "execution_count": 59,
     "metadata": {},
     "output_type": "execute_result"
    },
    {
     "data": {
      "text/plain": [
       "TreeNode(ODU0:2)"
      ]
     },
     "execution_count": 59,
     "metadata": {},
     "output_type": "execute_result"
    },
    {
     "data": {
      "text/plain": [
       "TreeNode(ODU0:1)"
      ]
     },
     "execution_count": 59,
     "metadata": {},
     "output_type": "execute_result"
    },
    {
     "data": {
      "text/plain": [
       "TreeNode(ODU0:2)"
      ]
     },
     "execution_count": 59,
     "metadata": {},
     "output_type": "execute_result"
    },
    {
     "data": {
      "text/plain": [
       "TreeNode(ODU0:1)"
      ]
     },
     "execution_count": 59,
     "metadata": {},
     "output_type": "execute_result"
    },
    {
     "data": {
      "text/plain": [
       "TreeNode(ODU0:2)"
      ]
     },
     "execution_count": 59,
     "metadata": {},
     "output_type": "execute_result"
    },
    {
     "data": {
      "text/plain": [
       "TreeNode(ODU0:1)"
      ]
     },
     "execution_count": 59,
     "metadata": {},
     "output_type": "execute_result"
    },
    {
     "data": {
      "text/plain": [
       "TreeNode(ODU0:2)"
      ]
     },
     "execution_count": 59,
     "metadata": {},
     "output_type": "execute_result"
    },
    {
     "data": {
      "text/plain": [
       "TreeNode(ODU0:2)"
      ]
     },
     "execution_count": 59,
     "metadata": {},
     "output_type": "execute_result"
    },
    {
     "data": {
      "text/plain": [
       "TreeNode(ODU0:2)"
      ]
     },
     "execution_count": 59,
     "metadata": {},
     "output_type": "execute_result"
    },
    {
     "data": {
      "text/plain": [
       "TreeNode(ODU0:2)"
      ]
     },
     "execution_count": 59,
     "metadata": {},
     "output_type": "execute_result"
    },
    {
     "data": {
      "text/plain": [
       "TreeNode(ODU0:2)"
      ]
     },
     "execution_count": 59,
     "metadata": {},
     "output_type": "execute_result"
    },
    {
     "data": {
      "text/plain": [
       "TreeNode(ODU0:2)"
      ]
     },
     "execution_count": 59,
     "metadata": {},
     "output_type": "execute_result"
    },
    {
     "data": {
      "text/plain": [
       "TreeNode(ODU0:2)"
      ]
     },
     "execution_count": 59,
     "metadata": {},
     "output_type": "execute_result"
    },
    {
     "data": {
      "text/plain": [
       "TreeNode(ODU0:2)"
      ]
     },
     "execution_count": 59,
     "metadata": {},
     "output_type": "execute_result"
    },
    {
     "data": {
      "text/plain": [
       "TreeNode(ODU0:2)"
      ]
     },
     "execution_count": 59,
     "metadata": {},
     "output_type": "execute_result"
    },
    {
     "name": "stdout",
     "output_type": "stream",
     "text": [
      "52NS2(STND)\n",
      " |- 1（IN1/OUT1)\n",
      "     |- OCh:1\n",
      "         |- ODU2:1\n",
      "             |- ODU1:1\n",
      "                 |- ODU0:1\n",
      "                 |- ODU0:2\n",
      "             |- ODU1:2\n",
      "                 |- ODU0:1\n",
      "                 |- ODU0:2\n",
      "             |- ODU1:3\n",
      "                 |- ODU0:1\n",
      "                 |- ODU0:2\n",
      "             |- ODU1:4\n",
      "                 |- ODU0:1\n",
      "                 |- ODU0:2\n",
      "             |- ODU0:1\n",
      "                 |- ODU0:2\n",
      "             |- ODU0:2\n",
      "                 |- ODU0:2\n",
      "             |- ODU0:3\n",
      "                 |- ODU0:2\n",
      "             |- ODU0:4\n",
      "                 |- ODU0:2\n",
      "             |- ODU0:5\n",
      "                 |- ODU0:2\n",
      "             |- ODU0:6\n",
      "                 |- ODU0:2\n",
      "             |- ODU0:7\n",
      "                 |- ODU0:2\n",
      "             |- ODU0:8\n",
      "                 |- ODU0:2\n"
     ]
    },
    {
     "data": {
      "text/plain": [
       "TreeNode(161(ODU0LP1/ODU0LP1)-1)"
      ]
     },
     "execution_count": 59,
     "metadata": {},
     "output_type": "execute_result"
    },
    {
     "data": {
      "text/plain": [
       "TreeNode(161(ODU0LP1/ODU0LP1)-2)"
      ]
     },
     "execution_count": 59,
     "metadata": {},
     "output_type": "execute_result"
    },
    {
     "data": {
      "text/plain": [
       "TreeNode(162(ODU0LP2/ODU0LP2)-1)"
      ]
     },
     "execution_count": 59,
     "metadata": {},
     "output_type": "execute_result"
    },
    {
     "data": {
      "text/plain": [
       "TreeNode(162(ODU0LP2/ODU0LP2)-2)"
      ]
     },
     "execution_count": 59,
     "metadata": {},
     "output_type": "execute_result"
    },
    {
     "data": {
      "text/plain": [
       "TreeNode(163(ODU0LP3/ODU0LP3)-1)"
      ]
     },
     "execution_count": 59,
     "metadata": {},
     "output_type": "execute_result"
    },
    {
     "data": {
      "text/plain": [
       "TreeNode(163(ODU0LP3/ODU0LP3)-2)"
      ]
     },
     "execution_count": 59,
     "metadata": {},
     "output_type": "execute_result"
    },
    {
     "data": {
      "text/plain": [
       "TreeNode(164(ODU0LP4/ODU0LP4)-1)"
      ]
     },
     "execution_count": 59,
     "metadata": {},
     "output_type": "execute_result"
    },
    {
     "data": {
      "text/plain": [
       "TreeNode(164(ODU0LP4/ODU0LP4)-2)"
      ]
     },
     "execution_count": 59,
     "metadata": {},
     "output_type": "execute_result"
    },
    {
     "name": "stdout",
     "output_type": "stream",
     "text": [
      "52NS2\n",
      " |- 71(ODU2LP1/ODU2LP1)-1\n",
      "     |- 51(ODU1LP1/ODU1LP1)-1\n",
      "         |- 161(ODU0LP1/ODU0LP1)-1\n",
      "         |- 161(ODU0LP1/ODU0LP1)-2\n",
      "     |- 51(ODU1LP1/ODU1LP1)-2\n",
      "         |- 162(ODU0LP2/ODU0LP2)-1\n",
      "         |- 162(ODU0LP2/ODU0LP2)-2\n",
      "     |- 51(ODU1LP1/ODU1LP1)-3\n",
      "         |- 163(ODU0LP3/ODU0LP3)-1\n",
      "         |- 163(ODU0LP3/ODU0LP3)-2\n",
      "     |- 51(ODU1LP1/ODU1LP1)-4\n",
      "         |- 164(ODU0LP4/ODU0LP4)-1\n",
      "         |- 164(ODU0LP4/ODU0LP4)-2\n"
     ]
    },
    {
     "data": {
      "text/plain": [
       "TreeNode(ODU0:1)"
      ]
     },
     "execution_count": 59,
     "metadata": {},
     "output_type": "execute_result"
    },
    {
     "data": {
      "text/plain": [
       "TreeNode(ODU0:2)"
      ]
     },
     "execution_count": 59,
     "metadata": {},
     "output_type": "execute_result"
    },
    {
     "data": {
      "text/plain": [
       "TreeNode(ODU0:1)"
      ]
     },
     "execution_count": 59,
     "metadata": {},
     "output_type": "execute_result"
    },
    {
     "data": {
      "text/plain": [
       "TreeNode(ODU0:2)"
      ]
     },
     "execution_count": 59,
     "metadata": {},
     "output_type": "execute_result"
    },
    {
     "data": {
      "text/plain": [
       "TreeNode(ODU0:1)"
      ]
     },
     "execution_count": 59,
     "metadata": {},
     "output_type": "execute_result"
    },
    {
     "data": {
      "text/plain": [
       "TreeNode(ODU0:2)"
      ]
     },
     "execution_count": 59,
     "metadata": {},
     "output_type": "execute_result"
    },
    {
     "data": {
      "text/plain": [
       "TreeNode(ODU0:1)"
      ]
     },
     "execution_count": 59,
     "metadata": {},
     "output_type": "execute_result"
    },
    {
     "data": {
      "text/plain": [
       "TreeNode(ODU0:2)"
      ]
     },
     "execution_count": 59,
     "metadata": {},
     "output_type": "execute_result"
    },
    {
     "data": {
      "text/plain": [
       "TreeNode(ODU0:2)"
      ]
     },
     "execution_count": 59,
     "metadata": {},
     "output_type": "execute_result"
    },
    {
     "data": {
      "text/plain": [
       "TreeNode(ODU0:2)"
      ]
     },
     "execution_count": 59,
     "metadata": {},
     "output_type": "execute_result"
    },
    {
     "data": {
      "text/plain": [
       "TreeNode(ODU0:2)"
      ]
     },
     "execution_count": 59,
     "metadata": {},
     "output_type": "execute_result"
    },
    {
     "data": {
      "text/plain": [
       "TreeNode(ODU0:2)"
      ]
     },
     "execution_count": 59,
     "metadata": {},
     "output_type": "execute_result"
    },
    {
     "data": {
      "text/plain": [
       "TreeNode(ODU0:2)"
      ]
     },
     "execution_count": 59,
     "metadata": {},
     "output_type": "execute_result"
    },
    {
     "data": {
      "text/plain": [
       "TreeNode(ODU0:2)"
      ]
     },
     "execution_count": 59,
     "metadata": {},
     "output_type": "execute_result"
    },
    {
     "data": {
      "text/plain": [
       "TreeNode(ODU0:2)"
      ]
     },
     "execution_count": 59,
     "metadata": {},
     "output_type": "execute_result"
    },
    {
     "data": {
      "text/plain": [
       "TreeNode(ODU0:2)"
      ]
     },
     "execution_count": 59,
     "metadata": {},
     "output_type": "execute_result"
    },
    {
     "name": "stdout",
     "output_type": "stream",
     "text": [
      "53NS2\n",
      " |- 1（IN1/OUT1)\n",
      "     |- OCh:1\n",
      "         |- ODU2:1\n",
      "             |- ODU1:1\n",
      "                 |- ODU0:1\n",
      "                 |- ODU0:2\n",
      "             |- ODU1:2\n",
      "                 |- ODU0:1\n",
      "                 |- ODU0:2\n",
      "             |- ODU1:3\n",
      "                 |- ODU0:1\n",
      "                 |- ODU0:2\n",
      "             |- ODU1:4\n",
      "                 |- ODU0:1\n",
      "                 |- ODU0:2\n",
      "             |- ODU0:1\n",
      "                 |- ODU0:2\n",
      "             |- ODU0:2\n",
      "                 |- ODU0:2\n",
      "             |- ODU0:3\n",
      "                 |- ODU0:2\n",
      "             |- ODU0:4\n",
      "                 |- ODU0:2\n",
      "             |- ODU0:5\n",
      "                 |- ODU0:2\n",
      "             |- ODU0:6\n",
      "                 |- ODU0:2\n",
      "             |- ODU0:7\n",
      "                 |- ODU0:2\n",
      "             |- ODU0:8\n",
      "                 |- ODU0:2\n"
     ]
    },
    {
     "data": {
      "text/plain": [
       "TreeNode(161(ODU0LP1/ODU0LP1)-1)"
      ]
     },
     "execution_count": 59,
     "metadata": {},
     "output_type": "execute_result"
    },
    {
     "data": {
      "text/plain": [
       "TreeNode(161(ODU0LP1/ODU0LP1)-2)"
      ]
     },
     "execution_count": 59,
     "metadata": {},
     "output_type": "execute_result"
    },
    {
     "data": {
      "text/plain": [
       "TreeNode(162(ODU0LP2/ODU0LP2)-1)"
      ]
     },
     "execution_count": 59,
     "metadata": {},
     "output_type": "execute_result"
    },
    {
     "data": {
      "text/plain": [
       "TreeNode(162(ODU0LP2/ODU0LP2)-2)"
      ]
     },
     "execution_count": 59,
     "metadata": {},
     "output_type": "execute_result"
    },
    {
     "data": {
      "text/plain": [
       "TreeNode(163(ODU0LP3/ODU0LP3)-1)"
      ]
     },
     "execution_count": 59,
     "metadata": {},
     "output_type": "execute_result"
    },
    {
     "data": {
      "text/plain": [
       "TreeNode(163(ODU0LP3/ODU0LP3)-2)"
      ]
     },
     "execution_count": 59,
     "metadata": {},
     "output_type": "execute_result"
    },
    {
     "data": {
      "text/plain": [
       "TreeNode(164(ODU0LP4/ODU0LP4)-1)"
      ]
     },
     "execution_count": 59,
     "metadata": {},
     "output_type": "execute_result"
    },
    {
     "data": {
      "text/plain": [
       "TreeNode(164(ODU0LP4/ODU0LP4)-2)"
      ]
     },
     "execution_count": 59,
     "metadata": {},
     "output_type": "execute_result"
    },
    {
     "name": "stdout",
     "output_type": "stream",
     "text": [
      "53NS2(COMP)\n",
      " |- 71(ODU2LP1/ODU2LP1)-1\n",
      "     |- 51(ODU1LP1/ODU1LP1)-1\n",
      "         |- 161(ODU0LP1/ODU0LP1)-1\n",
      "         |- 161(ODU0LP1/ODU0LP1)-2\n",
      "     |- 51(ODU1LP1/ODU1LP1)-2\n",
      "         |- 162(ODU0LP2/ODU0LP2)-1\n",
      "         |- 162(ODU0LP2/ODU0LP2)-2\n",
      "     |- 51(ODU1LP1/ODU1LP1)-3\n",
      "         |- 163(ODU0LP3/ODU0LP3)-1\n",
      "         |- 163(ODU0LP3/ODU0LP3)-2\n",
      "     |- 51(ODU1LP1/ODU1LP1)-4\n",
      "         |- 164(ODU0LP4/ODU0LP4)-1\n",
      "         |- 164(ODU0LP4/ODU0LP4)-2\n"
     ]
    },
    {
     "data": {
      "text/plain": [
       "TreeNode(71(ODU1LP1/ODU1LP1)-1)"
      ]
     },
     "execution_count": 59,
     "metadata": {},
     "output_type": "execute_result"
    },
    {
     "data": {
      "text/plain": [
       "TreeNode(71(ODU1LP1/ODU1LP1)-2)"
      ]
     },
     "execution_count": 59,
     "metadata": {},
     "output_type": "execute_result"
    },
    {
     "data": {
      "text/plain": [
       "TreeNode(71(ODU1LP1/ODU1LP1)-3)"
      ]
     },
     "execution_count": 59,
     "metadata": {},
     "output_type": "execute_result"
    },
    {
     "data": {
      "text/plain": [
       "TreeNode(71(ODU1LP1/ODU1LP1)-4)"
      ]
     },
     "execution_count": 59,
     "metadata": {},
     "output_type": "execute_result"
    },
    {
     "name": "stdout",
     "output_type": "stream",
     "text": [
      "NS3\n",
      " |- 71(ODU1LP1/ODU1LP1)-1\n",
      " |- 71(ODU1LP1/ODU1LP1)-2\n",
      " |- 71(ODU1LP1/ODU1LP1)-3\n",
      " |- 71(ODU1LP1/ODU1LP1)-4\n"
     ]
    },
    {
     "data": {
      "text/plain": [
       "TreeNode(161(ODU0LP1/ODU0LP1)-1)"
      ]
     },
     "execution_count": 59,
     "metadata": {},
     "output_type": "execute_result"
    },
    {
     "data": {
      "text/plain": [
       "TreeNode(161(ODU0LP1/ODU0LP1)-2)"
      ]
     },
     "execution_count": 59,
     "metadata": {},
     "output_type": "execute_result"
    },
    {
     "data": {
      "text/plain": [
       "TreeNode(162(ODU0LP2/ODU0LP2)-1)"
      ]
     },
     "execution_count": 59,
     "metadata": {},
     "output_type": "execute_result"
    },
    {
     "data": {
      "text/plain": [
       "TreeNode(162(ODU0LP2/ODU0LP2)-2)"
      ]
     },
     "execution_count": 59,
     "metadata": {},
     "output_type": "execute_result"
    },
    {
     "data": {
      "text/plain": [
       "TreeNode(163(ODU0LP3/ODU0LP3)-1)"
      ]
     },
     "execution_count": 59,
     "metadata": {},
     "output_type": "execute_result"
    },
    {
     "data": {
      "text/plain": [
       "TreeNode(163(ODU0LP3/ODU0LP3)-2)"
      ]
     },
     "execution_count": 59,
     "metadata": {},
     "output_type": "execute_result"
    },
    {
     "data": {
      "text/plain": [
       "TreeNode(164(ODU0LP4/ODU0LP4)-1)"
      ]
     },
     "execution_count": 59,
     "metadata": {},
     "output_type": "execute_result"
    },
    {
     "data": {
      "text/plain": [
       "TreeNode(164(ODU0LP4/ODU0LP4)-2)"
      ]
     },
     "execution_count": 59,
     "metadata": {},
     "output_type": "execute_result"
    },
    {
     "data": {
      "text/plain": [
       "TreeNode(165(ODU0LP5/ODU0LP5)-1)"
      ]
     },
     "execution_count": 59,
     "metadata": {},
     "output_type": "execute_result"
    },
    {
     "data": {
      "text/plain": [
       "TreeNode(165(ODU0LP5/ODU0LP5)-2)"
      ]
     },
     "execution_count": 59,
     "metadata": {},
     "output_type": "execute_result"
    },
    {
     "data": {
      "text/plain": [
       "TreeNode(166(ODU0LP6/ODU0LP6)-1)"
      ]
     },
     "execution_count": 59,
     "metadata": {},
     "output_type": "execute_result"
    },
    {
     "data": {
      "text/plain": [
       "TreeNode(166(ODU0LP6/ODU0LP6)-2)"
      ]
     },
     "execution_count": 59,
     "metadata": {},
     "output_type": "execute_result"
    },
    {
     "data": {
      "text/plain": [
       "TreeNode(167(ODU0LP7/ODU0LP7)-1)"
      ]
     },
     "execution_count": 59,
     "metadata": {},
     "output_type": "execute_result"
    },
    {
     "data": {
      "text/plain": [
       "TreeNode(167(ODU0LP7/ODU0LP7)-2)"
      ]
     },
     "execution_count": 59,
     "metadata": {},
     "output_type": "execute_result"
    },
    {
     "data": {
      "text/plain": [
       "TreeNode(168(ODU0LP8/ODU0LP8)-1)"
      ]
     },
     "execution_count": 59,
     "metadata": {},
     "output_type": "execute_result"
    },
    {
     "data": {
      "text/plain": [
       "TreeNode(168(ODU0LP8/ODU0LP8)-2)"
      ]
     },
     "execution_count": 59,
     "metadata": {},
     "output_type": "execute_result"
    },
    {
     "data": {
      "text/plain": [
       "TreeNode(169(ODU0LP9/ODU0LP9)-1)"
      ]
     },
     "execution_count": 59,
     "metadata": {},
     "output_type": "execute_result"
    },
    {
     "data": {
      "text/plain": [
       "TreeNode(169(ODU0LP9/ODU0LP9)-2)"
      ]
     },
     "execution_count": 59,
     "metadata": {},
     "output_type": "execute_result"
    },
    {
     "data": {
      "text/plain": [
       "TreeNode(170(ODU0LP10/ODU0LP10)-1)"
      ]
     },
     "execution_count": 59,
     "metadata": {},
     "output_type": "execute_result"
    },
    {
     "data": {
      "text/plain": [
       "TreeNode(170(ODU0LP10/ODU0LP10)-2)"
      ]
     },
     "execution_count": 59,
     "metadata": {},
     "output_type": "execute_result"
    },
    {
     "data": {
      "text/plain": [
       "TreeNode(171(ODU0LP11/ODU0LP11)-1)"
      ]
     },
     "execution_count": 59,
     "metadata": {},
     "output_type": "execute_result"
    },
    {
     "data": {
      "text/plain": [
       "TreeNode(171(ODU0LP11/ODU0LP11)-2)"
      ]
     },
     "execution_count": 59,
     "metadata": {},
     "output_type": "execute_result"
    },
    {
     "data": {
      "text/plain": [
       "TreeNode(172(ODU0LP12/ODU0LP12)-1)"
      ]
     },
     "execution_count": 59,
     "metadata": {},
     "output_type": "execute_result"
    },
    {
     "data": {
      "text/plain": [
       "TreeNode(172(ODU0LP12/ODU0LP12)-2)"
      ]
     },
     "execution_count": 59,
     "metadata": {},
     "output_type": "execute_result"
    },
    {
     "data": {
      "text/plain": [
       "TreeNode(173(ODU0LP13/ODU0LP13)-1)"
      ]
     },
     "execution_count": 59,
     "metadata": {},
     "output_type": "execute_result"
    },
    {
     "data": {
      "text/plain": [
       "TreeNode(173(ODU0LP13/ODU0LP13)-2)"
      ]
     },
     "execution_count": 59,
     "metadata": {},
     "output_type": "execute_result"
    },
    {
     "data": {
      "text/plain": [
       "TreeNode(174(ODU0LP14/ODU0LP14)-1)"
      ]
     },
     "execution_count": 59,
     "metadata": {},
     "output_type": "execute_result"
    },
    {
     "data": {
      "text/plain": [
       "TreeNode(174(ODU0LP14/ODU0LP14)-2)"
      ]
     },
     "execution_count": 59,
     "metadata": {},
     "output_type": "execute_result"
    },
    {
     "data": {
      "text/plain": [
       "TreeNode(175(ODU0LP15/ODU0LP15)-1)"
      ]
     },
     "execution_count": 59,
     "metadata": {},
     "output_type": "execute_result"
    },
    {
     "data": {
      "text/plain": [
       "TreeNode(175(ODU0LP15/ODU0LP15)-2)"
      ]
     },
     "execution_count": 59,
     "metadata": {},
     "output_type": "execute_result"
    },
    {
     "data": {
      "text/plain": [
       "TreeNode(176(ODU0LP16/ODU0LP16)-1)"
      ]
     },
     "execution_count": 59,
     "metadata": {},
     "output_type": "execute_result"
    },
    {
     "data": {
      "text/plain": [
       "TreeNode(176(ODU0LP16/ODU0LP16)-2)"
      ]
     },
     "execution_count": 59,
     "metadata": {},
     "output_type": "execute_result"
    },
    {
     "name": "stdout",
     "output_type": "stream",
     "text": [
      "52NS3\n",
      " |- 71(ODU2LP/ODU2LP)-1\n",
      "     |- 51(ODU1LP1/ODU1LP1)-1\n",
      "         |- 161(ODU0LP1/ODU0LP1)-1\n",
      "         |- 161(ODU0LP1/ODU0LP1)-2\n",
      "     |- 51(ODU1LP1/ODU1LP1)-2\n",
      "         |- 162(ODU0LP2/ODU0LP2)-1\n",
      "         |- 162(ODU0LP2/ODU0LP2)-2\n",
      "     |- 51(ODU1LP1/ODU1LP1)-3\n",
      "         |- 163(ODU0LP3/ODU0LP3)-1\n",
      "         |- 163(ODU0LP3/ODU0LP3)-2\n",
      "     |- 51(ODU1LP1/ODU1LP1)-4\n",
      "         |- 164(ODU0LP4/ODU0LP4)-1\n",
      "         |- 164(ODU0LP4/ODU0LP4)-2\n",
      " |- 71(ODU2LP/ODU2LP)-2\n",
      "     |- 52(ODU1LP2/ODU1LP2)-1\n",
      "         |- 165(ODU0LP5/ODU0LP5)-1\n",
      "         |- 165(ODU0LP5/ODU0LP5)-2\n",
      "     |- 52(ODU1LP2/ODU1LP2)-2\n",
      "         |- 166(ODU0LP6/ODU0LP6)-1\n",
      "         |- 166(ODU0LP6/ODU0LP6)-2\n",
      "     |- 52(ODU1LP2/ODU1LP2)-3\n",
      "         |- 167(ODU0LP7/ODU0LP7)-1\n",
      "         |- 167(ODU0LP7/ODU0LP7)-2\n",
      "     |- 52(ODU1LP2/ODU1LP2)-4\n",
      "         |- 168(ODU0LP8/ODU0LP8)-1\n",
      "         |- 168(ODU0LP8/ODU0LP8)-2\n",
      " |- 71(ODU2LP/ODU2LP)-3\n",
      "     |- 53(ODU1LP3/ODU1LP3)-1\n",
      "         |- 169(ODU0LP9/ODU0LP9)-1\n",
      "         |- 169(ODU0LP9/ODU0LP9)-2\n",
      "     |- 53(ODU1LP3/ODU1LP3)-2\n",
      "         |- 170(ODU0LP10/ODU0LP10)-1\n",
      "         |- 170(ODU0LP10/ODU0LP10)-2\n",
      "     |- 53(ODU1LP3/ODU1LP3)-3\n",
      "         |- 171(ODU0LP11/ODU0LP11)-1\n",
      "         |- 171(ODU0LP11/ODU0LP11)-2\n",
      "     |- 53(ODU1LP3/ODU1LP3)-4\n",
      "         |- 172(ODU0LP12/ODU0LP12)-1\n",
      "         |- 172(ODU0LP12/ODU0LP12)-2\n",
      " |- 71(ODU2LP/ODU2LP)-4\n",
      "     |- 54(ODU1LP4/ODU1LP4)-1\n",
      "         |- 173(ODU0LP13/ODU0LP13)-1\n",
      "         |- 173(ODU0LP13/ODU0LP13)-2\n",
      "     |- 54(ODU1LP4/ODU1LP4)-2\n",
      "         |- 174(ODU0LP14/ODU0LP14)-1\n",
      "         |- 174(ODU0LP14/ODU0LP14)-2\n",
      "     |- 54(ODU1LP4/ODU1LP4)-3\n",
      "         |- 175(ODU0LP15/ODU0LP15)-1\n",
      "         |- 175(ODU0LP15/ODU0LP15)-2\n",
      "     |- 54(ODU1LP4/ODU1LP4)-4\n",
      "         |- 176(ODU0LP16/ODU0LP16)-1\n",
      "         |- 176(ODU0LP16/ODU0LP16)-2\n"
     ]
    },
    {
     "data": {
      "text/plain": [
       "TreeNode(nan)"
      ]
     },
     "execution_count": 59,
     "metadata": {},
     "output_type": "execute_result"
    },
    {
     "data": {
      "text/plain": [
       "TreeNode(nan)"
      ]
     },
     "execution_count": 59,
     "metadata": {},
     "output_type": "execute_result"
    },
    {
     "data": {
      "text/plain": [
       "TreeNode(nan)"
      ]
     },
     "execution_count": 59,
     "metadata": {},
     "output_type": "execute_result"
    },
    {
     "data": {
      "text/plain": [
       "TreeNode(nan)"
      ]
     },
     "execution_count": 59,
     "metadata": {},
     "output_type": "execute_result"
    },
    {
     "data": {
      "text/plain": [
       "TreeNode(ODU0:1)"
      ]
     },
     "execution_count": 59,
     "metadata": {},
     "output_type": "execute_result"
    },
    {
     "data": {
      "text/plain": [
       "TreeNode(ODU0:2)"
      ]
     },
     "execution_count": 59,
     "metadata": {},
     "output_type": "execute_result"
    },
    {
     "data": {
      "text/plain": [
       "TreeNode(ODU0:1)"
      ]
     },
     "execution_count": 59,
     "metadata": {},
     "output_type": "execute_result"
    },
    {
     "data": {
      "text/plain": [
       "TreeNode(ODU0:2)"
      ]
     },
     "execution_count": 59,
     "metadata": {},
     "output_type": "execute_result"
    },
    {
     "data": {
      "text/plain": [
       "TreeNode(ODU0:1)"
      ]
     },
     "execution_count": 59,
     "metadata": {},
     "output_type": "execute_result"
    },
    {
     "data": {
      "text/plain": [
       "TreeNode(ODU0:2)"
      ]
     },
     "execution_count": 59,
     "metadata": {},
     "output_type": "execute_result"
    },
    {
     "data": {
      "text/plain": [
       "TreeNode(ODU0:1)"
      ]
     },
     "execution_count": 59,
     "metadata": {},
     "output_type": "execute_result"
    },
    {
     "data": {
      "text/plain": [
       "TreeNode(ODU0:2)"
      ]
     },
     "execution_count": 59,
     "metadata": {},
     "output_type": "execute_result"
    },
    {
     "data": {
      "text/plain": [
       "TreeNode(ODU0:1)"
      ]
     },
     "execution_count": 59,
     "metadata": {},
     "output_type": "execute_result"
    },
    {
     "data": {
      "text/plain": [
       "TreeNode(ODU0:2)"
      ]
     },
     "execution_count": 59,
     "metadata": {},
     "output_type": "execute_result"
    },
    {
     "data": {
      "text/plain": [
       "TreeNode(ODU0:1)"
      ]
     },
     "execution_count": 59,
     "metadata": {},
     "output_type": "execute_result"
    },
    {
     "data": {
      "text/plain": [
       "TreeNode(ODU0:2)"
      ]
     },
     "execution_count": 59,
     "metadata": {},
     "output_type": "execute_result"
    },
    {
     "data": {
      "text/plain": [
       "TreeNode(ODU0:1)"
      ]
     },
     "execution_count": 59,
     "metadata": {},
     "output_type": "execute_result"
    },
    {
     "data": {
      "text/plain": [
       "TreeNode(ODU0:2)"
      ]
     },
     "execution_count": 59,
     "metadata": {},
     "output_type": "execute_result"
    },
    {
     "data": {
      "text/plain": [
       "TreeNode(ODU0:1)"
      ]
     },
     "execution_count": 59,
     "metadata": {},
     "output_type": "execute_result"
    },
    {
     "data": {
      "text/plain": [
       "TreeNode(ODU0:2)"
      ]
     },
     "execution_count": 59,
     "metadata": {},
     "output_type": "execute_result"
    },
    {
     "data": {
      "text/plain": [
       "TreeNode(ODU0:1)"
      ]
     },
     "execution_count": 59,
     "metadata": {},
     "output_type": "execute_result"
    },
    {
     "data": {
      "text/plain": [
       "TreeNode(ODU0:2)"
      ]
     },
     "execution_count": 59,
     "metadata": {},
     "output_type": "execute_result"
    },
    {
     "data": {
      "text/plain": [
       "TreeNode(ODU0:1)"
      ]
     },
     "execution_count": 59,
     "metadata": {},
     "output_type": "execute_result"
    },
    {
     "data": {
      "text/plain": [
       "TreeNode(ODU0:2)"
      ]
     },
     "execution_count": 59,
     "metadata": {},
     "output_type": "execute_result"
    },
    {
     "data": {
      "text/plain": [
       "TreeNode(ODU0:1)"
      ]
     },
     "execution_count": 59,
     "metadata": {},
     "output_type": "execute_result"
    },
    {
     "data": {
      "text/plain": [
       "TreeNode(ODU0:2)"
      ]
     },
     "execution_count": 59,
     "metadata": {},
     "output_type": "execute_result"
    },
    {
     "data": {
      "text/plain": [
       "TreeNode(ODU0:1)"
      ]
     },
     "execution_count": 59,
     "metadata": {},
     "output_type": "execute_result"
    },
    {
     "data": {
      "text/plain": [
       "TreeNode(ODU0:2)"
      ]
     },
     "execution_count": 59,
     "metadata": {},
     "output_type": "execute_result"
    },
    {
     "data": {
      "text/plain": [
       "TreeNode(ODU0:1)"
      ]
     },
     "execution_count": 59,
     "metadata": {},
     "output_type": "execute_result"
    },
    {
     "data": {
      "text/plain": [
       "TreeNode(ODU0:2)"
      ]
     },
     "execution_count": 59,
     "metadata": {},
     "output_type": "execute_result"
    },
    {
     "data": {
      "text/plain": [
       "TreeNode(ODU0:1)"
      ]
     },
     "execution_count": 59,
     "metadata": {},
     "output_type": "execute_result"
    },
    {
     "data": {
      "text/plain": [
       "TreeNode(ODU0:2)"
      ]
     },
     "execution_count": 59,
     "metadata": {},
     "output_type": "execute_result"
    },
    {
     "data": {
      "text/plain": [
       "TreeNode(ODU0:1)"
      ]
     },
     "execution_count": 59,
     "metadata": {},
     "output_type": "execute_result"
    },
    {
     "data": {
      "text/plain": [
       "TreeNode(ODU0:2)"
      ]
     },
     "execution_count": 59,
     "metadata": {},
     "output_type": "execute_result"
    },
    {
     "data": {
      "text/plain": [
       "TreeNode(ODU0:1)"
      ]
     },
     "execution_count": 59,
     "metadata": {},
     "output_type": "execute_result"
    },
    {
     "data": {
      "text/plain": [
       "TreeNode(ODU0:2)"
      ]
     },
     "execution_count": 59,
     "metadata": {},
     "output_type": "execute_result"
    },
    {
     "name": "stdout",
     "output_type": "stream",
     "text": [
      "54NS3(STND)\n",
      " |- （IN1/OUT1)\n",
      "     |- OCh:1\n",
      "         |- ODU3:1\n",
      "             |- ODU2:1\n",
      "                 |- nan\n",
      "             |- ODU2:2\n",
      "                 |- nan\n",
      "             |- ODU2:3\n",
      "                 |- nan\n",
      "             |- ODU2:4\n",
      "                 |- nan\n",
      "             |- ODU1:1\n",
      "                 |- ODU0:1\n",
      "                 |- ODU0:2\n",
      "             |- ODU1:2\n",
      "                 |- ODU0:1\n",
      "                 |- ODU0:2\n",
      "             |- ODU1:3\n",
      "                 |- ODU0:1\n",
      "                 |- ODU0:2\n",
      "             |- ODU1:4\n",
      "                 |- ODU0:1\n",
      "                 |- ODU0:2\n",
      "             |- ODU1:5\n",
      "                 |- ODU0:1\n",
      "                 |- ODU0:2\n",
      "             |- ODU1:6\n",
      "                 |- ODU0:1\n",
      "                 |- ODU0:2\n",
      "             |- ODU1:7\n",
      "                 |- ODU0:1\n",
      "                 |- ODU0:2\n",
      "             |- ODU1:8\n",
      "                 |- ODU0:1\n",
      "                 |- ODU0:2\n",
      "             |- ODU1:9\n",
      "                 |- ODU0:1\n",
      "                 |- ODU0:2\n",
      "             |- ODU1:10\n",
      "                 |- ODU0:1\n",
      "                 |- ODU0:2\n",
      "             |- ODU1:11\n",
      "                 |- ODU0:1\n",
      "                 |- ODU0:2\n",
      "             |- ODU1:12\n",
      "                 |- ODU0:1\n",
      "                 |- ODU0:2\n",
      "             |- ODU1:13\n",
      "                 |- ODU0:1\n",
      "                 |- ODU0:2\n",
      "             |- ODU1:14\n",
      "                 |- ODU0:1\n",
      "                 |- ODU0:2\n",
      "             |- ODU1:15\n",
      "                 |- ODU0:1\n",
      "                 |- ODU0:2\n",
      "             |- ODU1:16\n",
      "                 |- ODU0:1\n",
      "                 |- ODU0:2\n"
     ]
    },
    {
     "data": {
      "text/plain": [
       "TreeNode(161(ODU0LP1/ODU0LP1)-1)"
      ]
     },
     "execution_count": 59,
     "metadata": {},
     "output_type": "execute_result"
    },
    {
     "data": {
      "text/plain": [
       "TreeNode(161(ODU0LP1/ODU0LP1)-2)"
      ]
     },
     "execution_count": 59,
     "metadata": {},
     "output_type": "execute_result"
    },
    {
     "data": {
      "text/plain": [
       "TreeNode(162(ODU0LP2/ODU0LP2)-1)"
      ]
     },
     "execution_count": 59,
     "metadata": {},
     "output_type": "execute_result"
    },
    {
     "data": {
      "text/plain": [
       "TreeNode(162(ODU0LP2/ODU0LP2)-2)"
      ]
     },
     "execution_count": 59,
     "metadata": {},
     "output_type": "execute_result"
    },
    {
     "data": {
      "text/plain": [
       "TreeNode(163(ODU0LP3/ODU0LP3)-1)"
      ]
     },
     "execution_count": 59,
     "metadata": {},
     "output_type": "execute_result"
    },
    {
     "data": {
      "text/plain": [
       "TreeNode(163(ODU0LP3/ODU0LP3)-2)"
      ]
     },
     "execution_count": 59,
     "metadata": {},
     "output_type": "execute_result"
    },
    {
     "data": {
      "text/plain": [
       "TreeNode(164(ODU0LP4/ODU0LP4)-1)"
      ]
     },
     "execution_count": 59,
     "metadata": {},
     "output_type": "execute_result"
    },
    {
     "data": {
      "text/plain": [
       "TreeNode(164(ODU0LP4/ODU0LP4)-2)"
      ]
     },
     "execution_count": 59,
     "metadata": {},
     "output_type": "execute_result"
    },
    {
     "data": {
      "text/plain": [
       "TreeNode(165(ODU0LP5/ODU0LP5)-1)"
      ]
     },
     "execution_count": 59,
     "metadata": {},
     "output_type": "execute_result"
    },
    {
     "data": {
      "text/plain": [
       "TreeNode(165(ODU0LP5/ODU0LP5)-2)"
      ]
     },
     "execution_count": 59,
     "metadata": {},
     "output_type": "execute_result"
    },
    {
     "data": {
      "text/plain": [
       "TreeNode(166(ODU0LP6/ODU0LP6)-1)"
      ]
     },
     "execution_count": 59,
     "metadata": {},
     "output_type": "execute_result"
    },
    {
     "data": {
      "text/plain": [
       "TreeNode(166(ODU0LP6/ODU0LP6)-2)"
      ]
     },
     "execution_count": 59,
     "metadata": {},
     "output_type": "execute_result"
    },
    {
     "data": {
      "text/plain": [
       "TreeNode(167(ODU0LP7/ODU0LP7)-1)"
      ]
     },
     "execution_count": 59,
     "metadata": {},
     "output_type": "execute_result"
    },
    {
     "data": {
      "text/plain": [
       "TreeNode(167(ODU0LP7/ODU0LP7)-2)"
      ]
     },
     "execution_count": 59,
     "metadata": {},
     "output_type": "execute_result"
    },
    {
     "data": {
      "text/plain": [
       "TreeNode(168(ODU0LP8/ODU0LP8)-1)"
      ]
     },
     "execution_count": 59,
     "metadata": {},
     "output_type": "execute_result"
    },
    {
     "data": {
      "text/plain": [
       "TreeNode(168(ODU0LP8/ODU0LP8)-2)"
      ]
     },
     "execution_count": 59,
     "metadata": {},
     "output_type": "execute_result"
    },
    {
     "data": {
      "text/plain": [
       "TreeNode(169(ODU0LP9/ODU0LP9)-1)"
      ]
     },
     "execution_count": 59,
     "metadata": {},
     "output_type": "execute_result"
    },
    {
     "data": {
      "text/plain": [
       "TreeNode(169(ODU0LP9/ODU0LP9)-2)"
      ]
     },
     "execution_count": 59,
     "metadata": {},
     "output_type": "execute_result"
    },
    {
     "data": {
      "text/plain": [
       "TreeNode(170(ODU0LP10/ODU0LP10)-1)"
      ]
     },
     "execution_count": 59,
     "metadata": {},
     "output_type": "execute_result"
    },
    {
     "data": {
      "text/plain": [
       "TreeNode(170(ODU0LP10/ODU0LP10)-2)"
      ]
     },
     "execution_count": 59,
     "metadata": {},
     "output_type": "execute_result"
    },
    {
     "data": {
      "text/plain": [
       "TreeNode(171(ODU0LP11/ODU0LP11)-1)"
      ]
     },
     "execution_count": 59,
     "metadata": {},
     "output_type": "execute_result"
    },
    {
     "data": {
      "text/plain": [
       "TreeNode(171(ODU0LP11/ODU0LP11)-2)"
      ]
     },
     "execution_count": 59,
     "metadata": {},
     "output_type": "execute_result"
    },
    {
     "data": {
      "text/plain": [
       "TreeNode(172(ODU0LP12/ODU0LP12)-1)"
      ]
     },
     "execution_count": 59,
     "metadata": {},
     "output_type": "execute_result"
    },
    {
     "data": {
      "text/plain": [
       "TreeNode(172(ODU0LP12/ODU0LP12)-2)"
      ]
     },
     "execution_count": 59,
     "metadata": {},
     "output_type": "execute_result"
    },
    {
     "data": {
      "text/plain": [
       "TreeNode(173(ODU0LP13/ODU0LP13)-1)"
      ]
     },
     "execution_count": 59,
     "metadata": {},
     "output_type": "execute_result"
    },
    {
     "data": {
      "text/plain": [
       "TreeNode(173(ODU0LP13/ODU0LP13)-2)"
      ]
     },
     "execution_count": 59,
     "metadata": {},
     "output_type": "execute_result"
    },
    {
     "data": {
      "text/plain": [
       "TreeNode(174(ODU0LP14/ODU0LP14)-1)"
      ]
     },
     "execution_count": 59,
     "metadata": {},
     "output_type": "execute_result"
    },
    {
     "data": {
      "text/plain": [
       "TreeNode(174(ODU0LP14/ODU0LP14)-2)"
      ]
     },
     "execution_count": 59,
     "metadata": {},
     "output_type": "execute_result"
    },
    {
     "data": {
      "text/plain": [
       "TreeNode(175(ODU0LP15/ODU0LP15)-1)"
      ]
     },
     "execution_count": 59,
     "metadata": {},
     "output_type": "execute_result"
    },
    {
     "data": {
      "text/plain": [
       "TreeNode(175(ODU0LP15/ODU0LP15)-2)"
      ]
     },
     "execution_count": 59,
     "metadata": {},
     "output_type": "execute_result"
    },
    {
     "data": {
      "text/plain": [
       "TreeNode(176(ODU0LP16/ODU0LP16)-1)"
      ]
     },
     "execution_count": 59,
     "metadata": {},
     "output_type": "execute_result"
    },
    {
     "data": {
      "text/plain": [
       "TreeNode(176(ODU0LP16/ODU0LP16)-2)"
      ]
     },
     "execution_count": 59,
     "metadata": {},
     "output_type": "execute_result"
    },
    {
     "data": {
      "text/plain": [
       "TreeNode(176(ODU0LP16/ODU0LP16)-2)"
      ]
     },
     "execution_count": 59,
     "metadata": {},
     "output_type": "execute_result"
    },
    {
     "data": {
      "text/plain": [
       "TreeNode(176(ODU0LP16/ODU0LP16)-2)"
      ]
     },
     "execution_count": 59,
     "metadata": {},
     "output_type": "execute_result"
    },
    {
     "data": {
      "text/plain": [
       "TreeNode(176(ODU0LP16/ODU0LP16)-2)"
      ]
     },
     "execution_count": 59,
     "metadata": {},
     "output_type": "execute_result"
    },
    {
     "data": {
      "text/plain": [
       "TreeNode(176(ODU0LP16/ODU0LP16)-2)"
      ]
     },
     "execution_count": 59,
     "metadata": {},
     "output_type": "execute_result"
    },
    {
     "name": "stdout",
     "output_type": "stream",
     "text": [
      "54NS3\n",
      " |- 81(ODU3LP1/ODU3LP1)-1\n",
      "     |- 71(ODU2LP/ODU2LP)-1001\n",
      "         |- 161(ODU0LP1/ODU0LP1)-1\n",
      "         |- 161(ODU0LP1/ODU0LP1)-2\n",
      "     |- 71(ODU2LP/ODU2LP)-1002\n",
      "         |- 162(ODU0LP2/ODU0LP2)-1\n",
      "         |- 162(ODU0LP2/ODU0LP2)-2\n",
      "     |- 71(ODU2LP/ODU2LP)-1003\n",
      "         |- 163(ODU0LP3/ODU0LP3)-1\n",
      "         |- 163(ODU0LP3/ODU0LP3)-2\n",
      "     |- 71(ODU2LP/ODU2LP)-1004\n",
      "         |- 164(ODU0LP4/ODU0LP4)-1\n",
      "         |- 164(ODU0LP4/ODU0LP4)-2\n",
      "     |- 71(ODU2LP/ODU2LP)-1005\n",
      "         |- 165(ODU0LP5/ODU0LP5)-1\n",
      "         |- 165(ODU0LP5/ODU0LP5)-2\n",
      "     |- 71(ODU2LP/ODU2LP)-1006\n",
      "         |- 166(ODU0LP6/ODU0LP6)-1\n",
      "         |- 166(ODU0LP6/ODU0LP6)-2\n",
      "     |- 71(ODU2LP/ODU2LP)-1007\n",
      "         |- 167(ODU0LP7/ODU0LP7)-1\n",
      "         |- 167(ODU0LP7/ODU0LP7)-2\n",
      "     |- 71(ODU2LP/ODU2LP)-1008\n",
      "         |- 168(ODU0LP8/ODU0LP8)-1\n",
      "         |- 168(ODU0LP8/ODU0LP8)-2\n",
      "     |- 71(ODU2LP/ODU2LP)-1009\n",
      "         |- 169(ODU0LP9/ODU0LP9)-1\n",
      "         |- 169(ODU0LP9/ODU0LP9)-2\n",
      "     |- 71(ODU2LP/ODU2LP)-1010\n",
      "         |- 170(ODU0LP10/ODU0LP10)-1\n",
      "         |- 170(ODU0LP10/ODU0LP10)-2\n",
      "     |- 71(ODU2LP/ODU2LP)-1011\n",
      "         |- 171(ODU0LP11/ODU0LP11)-1\n",
      "         |- 171(ODU0LP11/ODU0LP11)-2\n",
      "     |- 71(ODU2LP/ODU2LP)-1012\n",
      "         |- 172(ODU0LP12/ODU0LP12)-1\n",
      "         |- 172(ODU0LP12/ODU0LP12)-2\n",
      "     |- 71(ODU2LP/ODU2LP)-1013\n",
      "         |- 173(ODU0LP13/ODU0LP13)-1\n",
      "         |- 173(ODU0LP13/ODU0LP13)-2\n",
      "     |- 71(ODU2LP/ODU2LP)-1014\n",
      "         |- 174(ODU0LP14/ODU0LP14)-1\n",
      "         |- 174(ODU0LP14/ODU0LP14)-2\n",
      "     |- 71(ODU2LP/ODU2LP)-1015\n",
      "         |- 175(ODU0LP15/ODU0LP15)-1\n",
      "         |- 175(ODU0LP15/ODU0LP15)-2\n",
      "     |- 71(ODU2LP/ODU2LP)-1016\n",
      "         |- 176(ODU0LP16/ODU0LP16)-1\n",
      "         |- 176(ODU0LP16/ODU0LP16)-2\n",
      "     |- 71(ODU2LP/ODU2LP)-1\n",
      "         |- 176(ODU0LP16/ODU0LP16)-2\n",
      "     |- 71(ODU2LP/ODU2LP)-2\n",
      "         |- 176(ODU0LP16/ODU0LP16)-2\n",
      "     |- 71(ODU2LP/ODU2LP)-3\n",
      "         |- 176(ODU0LP16/ODU0LP16)-2\n",
      "     |- 71(ODU2LP/ODU2LP)-4\n",
      "         |- 176(ODU0LP16/ODU0LP16)-2\n"
     ]
    },
    {
     "data": {
      "text/plain": [
       "TreeNode(nan)"
      ]
     },
     "execution_count": 59,
     "metadata": {},
     "output_type": "execute_result"
    },
    {
     "data": {
      "text/plain": [
       "TreeNode(nan)"
      ]
     },
     "execution_count": 59,
     "metadata": {},
     "output_type": "execute_result"
    },
    {
     "data": {
      "text/plain": [
       "TreeNode(nan)"
      ]
     },
     "execution_count": 59,
     "metadata": {},
     "output_type": "execute_result"
    },
    {
     "data": {
      "text/plain": [
       "TreeNode(nan)"
      ]
     },
     "execution_count": 59,
     "metadata": {},
     "output_type": "execute_result"
    },
    {
     "data": {
      "text/plain": [
       "TreeNode(ODU0:1)"
      ]
     },
     "execution_count": 59,
     "metadata": {},
     "output_type": "execute_result"
    },
    {
     "data": {
      "text/plain": [
       "TreeNode(ODU0:2)"
      ]
     },
     "execution_count": 59,
     "metadata": {},
     "output_type": "execute_result"
    },
    {
     "data": {
      "text/plain": [
       "TreeNode(ODU0:1)"
      ]
     },
     "execution_count": 59,
     "metadata": {},
     "output_type": "execute_result"
    },
    {
     "data": {
      "text/plain": [
       "TreeNode(ODU0:2)"
      ]
     },
     "execution_count": 59,
     "metadata": {},
     "output_type": "execute_result"
    },
    {
     "data": {
      "text/plain": [
       "TreeNode(ODU0:1)"
      ]
     },
     "execution_count": 59,
     "metadata": {},
     "output_type": "execute_result"
    },
    {
     "data": {
      "text/plain": [
       "TreeNode(ODU0:2)"
      ]
     },
     "execution_count": 59,
     "metadata": {},
     "output_type": "execute_result"
    },
    {
     "data": {
      "text/plain": [
       "TreeNode(ODU0:1)"
      ]
     },
     "execution_count": 59,
     "metadata": {},
     "output_type": "execute_result"
    },
    {
     "data": {
      "text/plain": [
       "TreeNode(ODU0:2)"
      ]
     },
     "execution_count": 59,
     "metadata": {},
     "output_type": "execute_result"
    },
    {
     "data": {
      "text/plain": [
       "TreeNode(ODU0:1)"
      ]
     },
     "execution_count": 59,
     "metadata": {},
     "output_type": "execute_result"
    },
    {
     "data": {
      "text/plain": [
       "TreeNode(ODU0:2)"
      ]
     },
     "execution_count": 59,
     "metadata": {},
     "output_type": "execute_result"
    },
    {
     "data": {
      "text/plain": [
       "TreeNode(ODU0:1)"
      ]
     },
     "execution_count": 59,
     "metadata": {},
     "output_type": "execute_result"
    },
    {
     "data": {
      "text/plain": [
       "TreeNode(ODU0:2)"
      ]
     },
     "execution_count": 59,
     "metadata": {},
     "output_type": "execute_result"
    },
    {
     "data": {
      "text/plain": [
       "TreeNode(ODU0:1)"
      ]
     },
     "execution_count": 59,
     "metadata": {},
     "output_type": "execute_result"
    },
    {
     "data": {
      "text/plain": [
       "TreeNode(ODU0:2)"
      ]
     },
     "execution_count": 59,
     "metadata": {},
     "output_type": "execute_result"
    },
    {
     "data": {
      "text/plain": [
       "TreeNode(ODU0:1)"
      ]
     },
     "execution_count": 59,
     "metadata": {},
     "output_type": "execute_result"
    },
    {
     "data": {
      "text/plain": [
       "TreeNode(ODU0:2)"
      ]
     },
     "execution_count": 59,
     "metadata": {},
     "output_type": "execute_result"
    },
    {
     "data": {
      "text/plain": [
       "TreeNode(ODU0:1)"
      ]
     },
     "execution_count": 59,
     "metadata": {},
     "output_type": "execute_result"
    },
    {
     "data": {
      "text/plain": [
       "TreeNode(ODU0:2)"
      ]
     },
     "execution_count": 59,
     "metadata": {},
     "output_type": "execute_result"
    },
    {
     "data": {
      "text/plain": [
       "TreeNode(ODU0:1)"
      ]
     },
     "execution_count": 59,
     "metadata": {},
     "output_type": "execute_result"
    },
    {
     "data": {
      "text/plain": [
       "TreeNode(ODU0:2)"
      ]
     },
     "execution_count": 59,
     "metadata": {},
     "output_type": "execute_result"
    },
    {
     "data": {
      "text/plain": [
       "TreeNode(ODU0:1)"
      ]
     },
     "execution_count": 59,
     "metadata": {},
     "output_type": "execute_result"
    },
    {
     "data": {
      "text/plain": [
       "TreeNode(ODU0:2)"
      ]
     },
     "execution_count": 59,
     "metadata": {},
     "output_type": "execute_result"
    },
    {
     "data": {
      "text/plain": [
       "TreeNode(ODU0:1)"
      ]
     },
     "execution_count": 59,
     "metadata": {},
     "output_type": "execute_result"
    },
    {
     "data": {
      "text/plain": [
       "TreeNode(ODU0:2)"
      ]
     },
     "execution_count": 59,
     "metadata": {},
     "output_type": "execute_result"
    },
    {
     "data": {
      "text/plain": [
       "TreeNode(ODU0:1)"
      ]
     },
     "execution_count": 59,
     "metadata": {},
     "output_type": "execute_result"
    },
    {
     "data": {
      "text/plain": [
       "TreeNode(ODU0:2)"
      ]
     },
     "execution_count": 59,
     "metadata": {},
     "output_type": "execute_result"
    },
    {
     "data": {
      "text/plain": [
       "TreeNode(ODU0:1)"
      ]
     },
     "execution_count": 59,
     "metadata": {},
     "output_type": "execute_result"
    },
    {
     "data": {
      "text/plain": [
       "TreeNode(ODU0:2)"
      ]
     },
     "execution_count": 59,
     "metadata": {},
     "output_type": "execute_result"
    },
    {
     "data": {
      "text/plain": [
       "TreeNode(ODU0:1)"
      ]
     },
     "execution_count": 59,
     "metadata": {},
     "output_type": "execute_result"
    },
    {
     "data": {
      "text/plain": [
       "TreeNode(ODU0:2)"
      ]
     },
     "execution_count": 59,
     "metadata": {},
     "output_type": "execute_result"
    },
    {
     "data": {
      "text/plain": [
       "TreeNode(ODU0:1)"
      ]
     },
     "execution_count": 59,
     "metadata": {},
     "output_type": "execute_result"
    },
    {
     "data": {
      "text/plain": [
       "TreeNode(ODU0:2)"
      ]
     },
     "execution_count": 59,
     "metadata": {},
     "output_type": "execute_result"
    },
    {
     "name": "stdout",
     "output_type": "stream",
     "text": [
      "55NS3\n",
      " |- （IN1/OUT1)\n",
      "     |- OCh:1\n",
      "         |- ODU3:1\n",
      "             |- ODU2:1\n",
      "                 |- nan\n",
      "             |- ODU2:2\n",
      "                 |- nan\n",
      "             |- ODU2:3\n",
      "                 |- nan\n",
      "             |- ODU2:4\n",
      "                 |- nan\n",
      "             |- ODU1:1\n",
      "                 |- ODU0:1\n",
      "                 |- ODU0:2\n",
      "             |- ODU1:2\n",
      "                 |- ODU0:1\n",
      "                 |- ODU0:2\n",
      "             |- ODU1:3\n",
      "                 |- ODU0:1\n",
      "                 |- ODU0:2\n",
      "             |- ODU1:4\n",
      "                 |- ODU0:1\n",
      "                 |- ODU0:2\n",
      "             |- ODU1:5\n",
      "                 |- ODU0:1\n",
      "                 |- ODU0:2\n",
      "             |- ODU1:6\n",
      "                 |- ODU0:1\n",
      "                 |- ODU0:2\n",
      "             |- ODU1:7\n",
      "                 |- ODU0:1\n",
      "                 |- ODU0:2\n",
      "             |- ODU1:8\n",
      "                 |- ODU0:1\n",
      "                 |- ODU0:2\n",
      "             |- ODU1:9\n",
      "                 |- ODU0:1\n",
      "                 |- ODU0:2\n",
      "             |- ODU1:10\n",
      "                 |- ODU0:1\n",
      "                 |- ODU0:2\n",
      "             |- ODU1:11\n",
      "                 |- ODU0:1\n",
      "                 |- ODU0:2\n",
      "             |- ODU1:12\n",
      "                 |- ODU0:1\n",
      "                 |- ODU0:2\n",
      "             |- ODU1:13\n",
      "                 |- ODU0:1\n",
      "                 |- ODU0:2\n",
      "             |- ODU1:14\n",
      "                 |- ODU0:1\n",
      "                 |- ODU0:2\n",
      "             |- ODU1:15\n",
      "                 |- ODU0:1\n",
      "                 |- ODU0:2\n",
      "             |- ODU1:16\n",
      "                 |- ODU0:1\n",
      "                 |- ODU0:2\n"
     ]
    },
    {
     "data": {
      "text/plain": [
       "TreeNode(ODU2:1)"
      ]
     },
     "execution_count": 59,
     "metadata": {},
     "output_type": "execute_result"
    },
    {
     "data": {
      "text/plain": [
       "TreeNode(ODU2:2)"
      ]
     },
     "execution_count": 59,
     "metadata": {},
     "output_type": "execute_result"
    },
    {
     "data": {
      "text/plain": [
       "TreeNode(ODU2:3)"
      ]
     },
     "execution_count": 59,
     "metadata": {},
     "output_type": "execute_result"
    },
    {
     "data": {
      "text/plain": [
       "TreeNode(ODU2:4)"
      ]
     },
     "execution_count": 59,
     "metadata": {},
     "output_type": "execute_result"
    },
    {
     "data": {
      "text/plain": [
       "TreeNode(ODU1:1)"
      ]
     },
     "execution_count": 59,
     "metadata": {},
     "output_type": "execute_result"
    },
    {
     "data": {
      "text/plain": [
       "TreeNode(ODU1:2)"
      ]
     },
     "execution_count": 59,
     "metadata": {},
     "output_type": "execute_result"
    },
    {
     "data": {
      "text/plain": [
       "TreeNode(ODU1:3)"
      ]
     },
     "execution_count": 59,
     "metadata": {},
     "output_type": "execute_result"
    },
    {
     "data": {
      "text/plain": [
       "TreeNode(ODU1:4)"
      ]
     },
     "execution_count": 59,
     "metadata": {},
     "output_type": "execute_result"
    },
    {
     "data": {
      "text/plain": [
       "TreeNode(ODU1:5)"
      ]
     },
     "execution_count": 59,
     "metadata": {},
     "output_type": "execute_result"
    },
    {
     "data": {
      "text/plain": [
       "TreeNode(ODU1:6)"
      ]
     },
     "execution_count": 59,
     "metadata": {},
     "output_type": "execute_result"
    },
    {
     "data": {
      "text/plain": [
       "TreeNode(ODU1:7)"
      ]
     },
     "execution_count": 59,
     "metadata": {},
     "output_type": "execute_result"
    },
    {
     "data": {
      "text/plain": [
       "TreeNode(ODU1:8)"
      ]
     },
     "execution_count": 59,
     "metadata": {},
     "output_type": "execute_result"
    },
    {
     "data": {
      "text/plain": [
       "TreeNode(ODU1:9)"
      ]
     },
     "execution_count": 59,
     "metadata": {},
     "output_type": "execute_result"
    },
    {
     "data": {
      "text/plain": [
       "TreeNode(ODU1:10)"
      ]
     },
     "execution_count": 59,
     "metadata": {},
     "output_type": "execute_result"
    },
    {
     "data": {
      "text/plain": [
       "TreeNode(ODU1:11)"
      ]
     },
     "execution_count": 59,
     "metadata": {},
     "output_type": "execute_result"
    },
    {
     "data": {
      "text/plain": [
       "TreeNode(ODU1:12)"
      ]
     },
     "execution_count": 59,
     "metadata": {},
     "output_type": "execute_result"
    },
    {
     "data": {
      "text/plain": [
       "TreeNode(ODU1:13)"
      ]
     },
     "execution_count": 59,
     "metadata": {},
     "output_type": "execute_result"
    },
    {
     "data": {
      "text/plain": [
       "TreeNode(ODU1:14)"
      ]
     },
     "execution_count": 59,
     "metadata": {},
     "output_type": "execute_result"
    },
    {
     "data": {
      "text/plain": [
       "TreeNode(ODU1:15)"
      ]
     },
     "execution_count": 59,
     "metadata": {},
     "output_type": "execute_result"
    },
    {
     "data": {
      "text/plain": [
       "TreeNode(ODU1:16)"
      ]
     },
     "execution_count": 59,
     "metadata": {},
     "output_type": "execute_result"
    },
    {
     "data": {
      "text/plain": [
       "TreeNode(ODU0:1)"
      ]
     },
     "execution_count": 59,
     "metadata": {},
     "output_type": "execute_result"
    },
    {
     "data": {
      "text/plain": [
       "TreeNode(ODU0:2)"
      ]
     },
     "execution_count": 59,
     "metadata": {},
     "output_type": "execute_result"
    },
    {
     "data": {
      "text/plain": [
       "TreeNode(ODU0:3)"
      ]
     },
     "execution_count": 59,
     "metadata": {},
     "output_type": "execute_result"
    },
    {
     "data": {
      "text/plain": [
       "TreeNode(ODU0:4)"
      ]
     },
     "execution_count": 59,
     "metadata": {},
     "output_type": "execute_result"
    },
    {
     "data": {
      "text/plain": [
       "TreeNode(ODU0:5)"
      ]
     },
     "execution_count": 59,
     "metadata": {},
     "output_type": "execute_result"
    },
    {
     "data": {
      "text/plain": [
       "TreeNode(ODU0:6)"
      ]
     },
     "execution_count": 59,
     "metadata": {},
     "output_type": "execute_result"
    },
    {
     "data": {
      "text/plain": [
       "TreeNode(ODU0:7)"
      ]
     },
     "execution_count": 59,
     "metadata": {},
     "output_type": "execute_result"
    },
    {
     "data": {
      "text/plain": [
       "TreeNode(ODU0:8)"
      ]
     },
     "execution_count": 59,
     "metadata": {},
     "output_type": "execute_result"
    },
    {
     "data": {
      "text/plain": [
       "TreeNode(ODU0:9)"
      ]
     },
     "execution_count": 59,
     "metadata": {},
     "output_type": "execute_result"
    },
    {
     "data": {
      "text/plain": [
       "TreeNode(ODU0:10)"
      ]
     },
     "execution_count": 59,
     "metadata": {},
     "output_type": "execute_result"
    },
    {
     "data": {
      "text/plain": [
       "TreeNode(ODU0:11)"
      ]
     },
     "execution_count": 59,
     "metadata": {},
     "output_type": "execute_result"
    },
    {
     "data": {
      "text/plain": [
       "TreeNode(ODU0:12)"
      ]
     },
     "execution_count": 59,
     "metadata": {},
     "output_type": "execute_result"
    },
    {
     "data": {
      "text/plain": [
       "TreeNode(ODU0:13)"
      ]
     },
     "execution_count": 59,
     "metadata": {},
     "output_type": "execute_result"
    },
    {
     "data": {
      "text/plain": [
       "TreeNode(ODU0:14)"
      ]
     },
     "execution_count": 59,
     "metadata": {},
     "output_type": "execute_result"
    },
    {
     "data": {
      "text/plain": [
       "TreeNode(ODU0:15)"
      ]
     },
     "execution_count": 59,
     "metadata": {},
     "output_type": "execute_result"
    },
    {
     "data": {
      "text/plain": [
       "TreeNode(ODU0:16)"
      ]
     },
     "execution_count": 59,
     "metadata": {},
     "output_type": "execute_result"
    },
    {
     "data": {
      "text/plain": [
       "TreeNode(ODU0:17)"
      ]
     },
     "execution_count": 59,
     "metadata": {},
     "output_type": "execute_result"
    },
    {
     "data": {
      "text/plain": [
       "TreeNode(ODU0:18)"
      ]
     },
     "execution_count": 59,
     "metadata": {},
     "output_type": "execute_result"
    },
    {
     "data": {
      "text/plain": [
       "TreeNode(ODU0:19)"
      ]
     },
     "execution_count": 59,
     "metadata": {},
     "output_type": "execute_result"
    },
    {
     "data": {
      "text/plain": [
       "TreeNode(ODU0:20)"
      ]
     },
     "execution_count": 59,
     "metadata": {},
     "output_type": "execute_result"
    },
    {
     "data": {
      "text/plain": [
       "TreeNode(ODU0:21)"
      ]
     },
     "execution_count": 59,
     "metadata": {},
     "output_type": "execute_result"
    },
    {
     "data": {
      "text/plain": [
       "TreeNode(ODU0:22)"
      ]
     },
     "execution_count": 59,
     "metadata": {},
     "output_type": "execute_result"
    },
    {
     "data": {
      "text/plain": [
       "TreeNode(ODU0:23)"
      ]
     },
     "execution_count": 59,
     "metadata": {},
     "output_type": "execute_result"
    },
    {
     "data": {
      "text/plain": [
       "TreeNode(ODU0:24)"
      ]
     },
     "execution_count": 59,
     "metadata": {},
     "output_type": "execute_result"
    },
    {
     "data": {
      "text/plain": [
       "TreeNode(ODU0:25)"
      ]
     },
     "execution_count": 59,
     "metadata": {},
     "output_type": "execute_result"
    },
    {
     "data": {
      "text/plain": [
       "TreeNode(ODU0:26)"
      ]
     },
     "execution_count": 59,
     "metadata": {},
     "output_type": "execute_result"
    },
    {
     "data": {
      "text/plain": [
       "TreeNode(ODU0:27)"
      ]
     },
     "execution_count": 59,
     "metadata": {},
     "output_type": "execute_result"
    },
    {
     "data": {
      "text/plain": [
       "TreeNode(ODU0:28)"
      ]
     },
     "execution_count": 59,
     "metadata": {},
     "output_type": "execute_result"
    },
    {
     "data": {
      "text/plain": [
       "TreeNode(ODU0:29)"
      ]
     },
     "execution_count": 59,
     "metadata": {},
     "output_type": "execute_result"
    },
    {
     "data": {
      "text/plain": [
       "TreeNode(ODU0:30)"
      ]
     },
     "execution_count": 59,
     "metadata": {},
     "output_type": "execute_result"
    },
    {
     "data": {
      "text/plain": [
       "TreeNode(ODU0:31)"
      ]
     },
     "execution_count": 59,
     "metadata": {},
     "output_type": "execute_result"
    },
    {
     "data": {
      "text/plain": [
       "TreeNode(ODU0:32)"
      ]
     },
     "execution_count": 59,
     "metadata": {},
     "output_type": "execute_result"
    },
    {
     "data": {
      "text/plain": [
       "TreeNode(ODUflex:1)"
      ]
     },
     "execution_count": 59,
     "metadata": {},
     "output_type": "execute_result"
    },
    {
     "data": {
      "text/plain": [
       "TreeNode(ODUflex:2)"
      ]
     },
     "execution_count": 59,
     "metadata": {},
     "output_type": "execute_result"
    },
    {
     "data": {
      "text/plain": [
       "TreeNode(ODUflex:3)"
      ]
     },
     "execution_count": 59,
     "metadata": {},
     "output_type": "execute_result"
    },
    {
     "data": {
      "text/plain": [
       "TreeNode(ODUflex:4)"
      ]
     },
     "execution_count": 59,
     "metadata": {},
     "output_type": "execute_result"
    },
    {
     "data": {
      "text/plain": [
       "TreeNode(ODUflex:5)"
      ]
     },
     "execution_count": 59,
     "metadata": {},
     "output_type": "execute_result"
    },
    {
     "data": {
      "text/plain": [
       "TreeNode(ODUflex:6)"
      ]
     },
     "execution_count": 59,
     "metadata": {},
     "output_type": "execute_result"
    },
    {
     "data": {
      "text/plain": [
       "TreeNode(ODUflex:7)"
      ]
     },
     "execution_count": 59,
     "metadata": {},
     "output_type": "execute_result"
    },
    {
     "data": {
      "text/plain": [
       "TreeNode(ODUflex:8)"
      ]
     },
     "execution_count": 59,
     "metadata": {},
     "output_type": "execute_result"
    },
    {
     "data": {
      "text/plain": [
       "TreeNode(ODUflex:9)"
      ]
     },
     "execution_count": 59,
     "metadata": {},
     "output_type": "execute_result"
    },
    {
     "data": {
      "text/plain": [
       "TreeNode(ODUflex:10)"
      ]
     },
     "execution_count": 59,
     "metadata": {},
     "output_type": "execute_result"
    },
    {
     "data": {
      "text/plain": [
       "TreeNode(ODUflex:11)"
      ]
     },
     "execution_count": 59,
     "metadata": {},
     "output_type": "execute_result"
    },
    {
     "data": {
      "text/plain": [
       "TreeNode(ODUflex:12)"
      ]
     },
     "execution_count": 59,
     "metadata": {},
     "output_type": "execute_result"
    },
    {
     "data": {
      "text/plain": [
       "TreeNode(ODUflex:13)"
      ]
     },
     "execution_count": 59,
     "metadata": {},
     "output_type": "execute_result"
    },
    {
     "data": {
      "text/plain": [
       "TreeNode(ODUflex:14)"
      ]
     },
     "execution_count": 59,
     "metadata": {},
     "output_type": "execute_result"
    },
    {
     "data": {
      "text/plain": [
       "TreeNode(ODUflex:15)"
      ]
     },
     "execution_count": 59,
     "metadata": {},
     "output_type": "execute_result"
    },
    {
     "data": {
      "text/plain": [
       "TreeNode(ODUflex:16)"
      ]
     },
     "execution_count": 59,
     "metadata": {},
     "output_type": "execute_result"
    },
    {
     "data": {
      "text/plain": [
       "TreeNode(ODUflex:17)"
      ]
     },
     "execution_count": 59,
     "metadata": {},
     "output_type": "execute_result"
    },
    {
     "data": {
      "text/plain": [
       "TreeNode(ODUflex:18)"
      ]
     },
     "execution_count": 59,
     "metadata": {},
     "output_type": "execute_result"
    },
    {
     "data": {
      "text/plain": [
       "TreeNode(ODUflex:19)"
      ]
     },
     "execution_count": 59,
     "metadata": {},
     "output_type": "execute_result"
    },
    {
     "data": {
      "text/plain": [
       "TreeNode(ODUflex:20)"
      ]
     },
     "execution_count": 59,
     "metadata": {},
     "output_type": "execute_result"
    },
    {
     "data": {
      "text/plain": [
       "TreeNode(ODUflex:21)"
      ]
     },
     "execution_count": 59,
     "metadata": {},
     "output_type": "execute_result"
    },
    {
     "data": {
      "text/plain": [
       "TreeNode(ODUflex:22)"
      ]
     },
     "execution_count": 59,
     "metadata": {},
     "output_type": "execute_result"
    },
    {
     "data": {
      "text/plain": [
       "TreeNode(ODUflex:23)"
      ]
     },
     "execution_count": 59,
     "metadata": {},
     "output_type": "execute_result"
    },
    {
     "data": {
      "text/plain": [
       "TreeNode(ODUflex:24)"
      ]
     },
     "execution_count": 59,
     "metadata": {},
     "output_type": "execute_result"
    },
    {
     "data": {
      "text/plain": [
       "TreeNode(ODUflex:25)"
      ]
     },
     "execution_count": 59,
     "metadata": {},
     "output_type": "execute_result"
    },
    {
     "data": {
      "text/plain": [
       "TreeNode(ODUflex:26)"
      ]
     },
     "execution_count": 59,
     "metadata": {},
     "output_type": "execute_result"
    },
    {
     "data": {
      "text/plain": [
       "TreeNode(ODUflex:27)"
      ]
     },
     "execution_count": 59,
     "metadata": {},
     "output_type": "execute_result"
    },
    {
     "data": {
      "text/plain": [
       "TreeNode(ODUflex:28)"
      ]
     },
     "execution_count": 59,
     "metadata": {},
     "output_type": "execute_result"
    },
    {
     "data": {
      "text/plain": [
       "TreeNode(ODUflex:29)"
      ]
     },
     "execution_count": 59,
     "metadata": {},
     "output_type": "execute_result"
    },
    {
     "data": {
      "text/plain": [
       "TreeNode(ODUflex:30)"
      ]
     },
     "execution_count": 59,
     "metadata": {},
     "output_type": "execute_result"
    },
    {
     "data": {
      "text/plain": [
       "TreeNode(ODUflex:31)"
      ]
     },
     "execution_count": 59,
     "metadata": {},
     "output_type": "execute_result"
    },
    {
     "data": {
      "text/plain": [
       "TreeNode(ODUflex:32)"
      ]
     },
     "execution_count": 59,
     "metadata": {},
     "output_type": "execute_result"
    },
    {
     "name": "stdout",
     "output_type": "stream",
     "text": [
      "56NS3(自动随机)\n",
      " |- （IN1/OUT1)\n",
      "     |- OCh:1\n",
      "         |- ODU3:1\n",
      "             |- ODU2:1\n",
      "             |- ODU2:2\n",
      "             |- ODU2:3\n",
      "             |- ODU2:4\n",
      "             |- ODU1:1\n",
      "             |- ODU1:2\n",
      "             |- ODU1:3\n",
      "             |- ODU1:4\n",
      "             |- ODU1:5\n",
      "             |- ODU1:6\n",
      "             |- ODU1:7\n",
      "             |- ODU1:8\n",
      "             |- ODU1:9\n",
      "             |- ODU1:10\n",
      "             |- ODU1:11\n",
      "             |- ODU1:12\n",
      "             |- ODU1:13\n",
      "             |- ODU1:14\n",
      "             |- ODU1:15\n",
      "             |- ODU1:16\n",
      "             |- ODU0:1\n",
      "             |- ODU0:2\n",
      "             |- ODU0:3\n",
      "             |- ODU0:4\n",
      "             |- ODU0:5\n",
      "             |- ODU0:6\n",
      "             |- ODU0:7\n",
      "             |- ODU0:8\n",
      "             |- ODU0:9\n",
      "             |- ODU0:10\n",
      "             |- ODU0:11\n",
      "             |- ODU0:12\n",
      "             |- ODU0:13\n",
      "             |- ODU0:14\n",
      "             |- ODU0:15\n",
      "             |- ODU0:16\n",
      "             |- ODU0:17\n",
      "             |- ODU0:18\n",
      "             |- ODU0:19\n",
      "             |- ODU0:20\n",
      "             |- ODU0:21\n",
      "             |- ODU0:22\n",
      "             |- ODU0:23\n",
      "             |- ODU0:24\n",
      "             |- ODU0:25\n",
      "             |- ODU0:26\n",
      "             |- ODU0:27\n",
      "             |- ODU0:28\n",
      "             |- ODU0:29\n",
      "             |- ODU0:30\n",
      "             |- ODU0:31\n",
      "             |- ODU0:32\n",
      "             |- ODUflex:1\n",
      "             |- ODUflex:2\n",
      "             |- ODUflex:3\n",
      "             |- ODUflex:4\n",
      "             |- ODUflex:5\n",
      "             |- ODUflex:6\n",
      "             |- ODUflex:7\n",
      "             |- ODUflex:8\n",
      "             |- ODUflex:9\n",
      "             |- ODUflex:10\n",
      "             |- ODUflex:11\n",
      "             |- ODUflex:12\n",
      "             |- ODUflex:13\n",
      "             |- ODUflex:14\n",
      "             |- ODUflex:15\n",
      "             |- ODUflex:16\n",
      "             |- ODUflex:17\n",
      "             |- ODUflex:18\n",
      "             |- ODUflex:19\n",
      "             |- ODUflex:20\n",
      "             |- ODUflex:21\n",
      "             |- ODUflex:22\n",
      "             |- ODUflex:23\n",
      "             |- ODUflex:24\n",
      "             |- ODUflex:25\n",
      "             |- ODUflex:26\n",
      "             |- ODUflex:27\n",
      "             |- ODUflex:28\n",
      "             |- ODUflex:29\n",
      "             |- ODUflex:30\n",
      "             |- ODUflex:31\n",
      "             |- ODUflex:32\n"
     ]
    },
    {
     "data": {
      "text/plain": [
       "TreeNode(nan)"
      ]
     },
     "execution_count": 59,
     "metadata": {},
     "output_type": "execute_result"
    },
    {
     "data": {
      "text/plain": [
       "TreeNode(nan)"
      ]
     },
     "execution_count": 59,
     "metadata": {},
     "output_type": "execute_result"
    },
    {
     "data": {
      "text/plain": [
       "TreeNode(nan)"
      ]
     },
     "execution_count": 59,
     "metadata": {},
     "output_type": "execute_result"
    },
    {
     "data": {
      "text/plain": [
       "TreeNode(nan)"
      ]
     },
     "execution_count": 59,
     "metadata": {},
     "output_type": "execute_result"
    },
    {
     "data": {
      "text/plain": [
       "TreeNode(ODU0:1)"
      ]
     },
     "execution_count": 59,
     "metadata": {},
     "output_type": "execute_result"
    },
    {
     "data": {
      "text/plain": [
       "TreeNode(ODU0:2)"
      ]
     },
     "execution_count": 59,
     "metadata": {},
     "output_type": "execute_result"
    },
    {
     "data": {
      "text/plain": [
       "TreeNode(ODU0:1)"
      ]
     },
     "execution_count": 59,
     "metadata": {},
     "output_type": "execute_result"
    },
    {
     "data": {
      "text/plain": [
       "TreeNode(ODU0:2)"
      ]
     },
     "execution_count": 59,
     "metadata": {},
     "output_type": "execute_result"
    },
    {
     "data": {
      "text/plain": [
       "TreeNode(ODU0:1)"
      ]
     },
     "execution_count": 59,
     "metadata": {},
     "output_type": "execute_result"
    },
    {
     "data": {
      "text/plain": [
       "TreeNode(ODU0:2)"
      ]
     },
     "execution_count": 59,
     "metadata": {},
     "output_type": "execute_result"
    },
    {
     "data": {
      "text/plain": [
       "TreeNode(ODU0:1)"
      ]
     },
     "execution_count": 59,
     "metadata": {},
     "output_type": "execute_result"
    },
    {
     "data": {
      "text/plain": [
       "TreeNode(ODU0:2)"
      ]
     },
     "execution_count": 59,
     "metadata": {},
     "output_type": "execute_result"
    },
    {
     "data": {
      "text/plain": [
       "TreeNode(ODU0:1)"
      ]
     },
     "execution_count": 59,
     "metadata": {},
     "output_type": "execute_result"
    },
    {
     "data": {
      "text/plain": [
       "TreeNode(ODU0:2)"
      ]
     },
     "execution_count": 59,
     "metadata": {},
     "output_type": "execute_result"
    },
    {
     "data": {
      "text/plain": [
       "TreeNode(ODU0:1)"
      ]
     },
     "execution_count": 59,
     "metadata": {},
     "output_type": "execute_result"
    },
    {
     "data": {
      "text/plain": [
       "TreeNode(ODU0:2)"
      ]
     },
     "execution_count": 59,
     "metadata": {},
     "output_type": "execute_result"
    },
    {
     "data": {
      "text/plain": [
       "TreeNode(ODU0:1)"
      ]
     },
     "execution_count": 59,
     "metadata": {},
     "output_type": "execute_result"
    },
    {
     "data": {
      "text/plain": [
       "TreeNode(ODU0:2)"
      ]
     },
     "execution_count": 59,
     "metadata": {},
     "output_type": "execute_result"
    },
    {
     "data": {
      "text/plain": [
       "TreeNode(ODU0:1)"
      ]
     },
     "execution_count": 59,
     "metadata": {},
     "output_type": "execute_result"
    },
    {
     "data": {
      "text/plain": [
       "TreeNode(ODU0:2)"
      ]
     },
     "execution_count": 59,
     "metadata": {},
     "output_type": "execute_result"
    },
    {
     "data": {
      "text/plain": [
       "TreeNode(ODU0:1)"
      ]
     },
     "execution_count": 59,
     "metadata": {},
     "output_type": "execute_result"
    },
    {
     "data": {
      "text/plain": [
       "TreeNode(ODU0:2)"
      ]
     },
     "execution_count": 59,
     "metadata": {},
     "output_type": "execute_result"
    },
    {
     "data": {
      "text/plain": [
       "TreeNode(ODU0:1)"
      ]
     },
     "execution_count": 59,
     "metadata": {},
     "output_type": "execute_result"
    },
    {
     "data": {
      "text/plain": [
       "TreeNode(ODU0:2)"
      ]
     },
     "execution_count": 59,
     "metadata": {},
     "output_type": "execute_result"
    },
    {
     "data": {
      "text/plain": [
       "TreeNode(ODU0:1)"
      ]
     },
     "execution_count": 59,
     "metadata": {},
     "output_type": "execute_result"
    },
    {
     "data": {
      "text/plain": [
       "TreeNode(ODU0:2)"
      ]
     },
     "execution_count": 59,
     "metadata": {},
     "output_type": "execute_result"
    },
    {
     "data": {
      "text/plain": [
       "TreeNode(ODU0:1)"
      ]
     },
     "execution_count": 59,
     "metadata": {},
     "output_type": "execute_result"
    },
    {
     "data": {
      "text/plain": [
       "TreeNode(ODU0:2)"
      ]
     },
     "execution_count": 59,
     "metadata": {},
     "output_type": "execute_result"
    },
    {
     "data": {
      "text/plain": [
       "TreeNode(ODU0:1)"
      ]
     },
     "execution_count": 59,
     "metadata": {},
     "output_type": "execute_result"
    },
    {
     "data": {
      "text/plain": [
       "TreeNode(ODU0:2)"
      ]
     },
     "execution_count": 59,
     "metadata": {},
     "output_type": "execute_result"
    },
    {
     "data": {
      "text/plain": [
       "TreeNode(ODU0:1)"
      ]
     },
     "execution_count": 59,
     "metadata": {},
     "output_type": "execute_result"
    },
    {
     "data": {
      "text/plain": [
       "TreeNode(ODU0:2)"
      ]
     },
     "execution_count": 59,
     "metadata": {},
     "output_type": "execute_result"
    },
    {
     "data": {
      "text/plain": [
       "TreeNode(ODU0:1)"
      ]
     },
     "execution_count": 59,
     "metadata": {},
     "output_type": "execute_result"
    },
    {
     "data": {
      "text/plain": [
       "TreeNode(ODU0:2)"
      ]
     },
     "execution_count": 59,
     "metadata": {},
     "output_type": "execute_result"
    },
    {
     "data": {
      "text/plain": [
       "TreeNode(ODU0:1)"
      ]
     },
     "execution_count": 59,
     "metadata": {},
     "output_type": "execute_result"
    },
    {
     "data": {
      "text/plain": [
       "TreeNode(ODU0:2)"
      ]
     },
     "execution_count": 59,
     "metadata": {},
     "output_type": "execute_result"
    },
    {
     "name": "stdout",
     "output_type": "stream",
     "text": [
      "56NS3(自动连续)\n",
      " |- （IN1/OUT1)\n",
      "     |- OCh:1\n",
      "         |- ODU3:1\n",
      "             |- ODU2:1\n",
      "                 |- nan\n",
      "             |- ODU2:2\n",
      "                 |- nan\n",
      "             |- ODU2:3\n",
      "                 |- nan\n",
      "             |- ODU2:4\n",
      "                 |- nan\n",
      "             |- ODU1:1\n",
      "                 |- ODU0:1\n",
      "                 |- ODU0:2\n",
      "             |- ODU1:2\n",
      "                 |- ODU0:1\n",
      "                 |- ODU0:2\n",
      "             |- ODU1:3\n",
      "                 |- ODU0:1\n",
      "                 |- ODU0:2\n",
      "             |- ODU1:4\n",
      "                 |- ODU0:1\n",
      "                 |- ODU0:2\n",
      "             |- ODU1:5\n",
      "                 |- ODU0:1\n",
      "                 |- ODU0:2\n",
      "             |- ODU1:6\n",
      "                 |- ODU0:1\n",
      "                 |- ODU0:2\n",
      "             |- ODU1:7\n",
      "                 |- ODU0:1\n",
      "                 |- ODU0:2\n",
      "             |- ODU1:8\n",
      "                 |- ODU0:1\n",
      "                 |- ODU0:2\n",
      "             |- ODU1:9\n",
      "                 |- ODU0:1\n",
      "                 |- ODU0:2\n",
      "             |- ODU1:10\n",
      "                 |- ODU0:1\n",
      "                 |- ODU0:2\n",
      "             |- ODU1:11\n",
      "                 |- ODU0:1\n",
      "                 |- ODU0:2\n",
      "             |- ODU1:12\n",
      "                 |- ODU0:1\n",
      "                 |- ODU0:2\n",
      "             |- ODU1:13\n",
      "                 |- ODU0:1\n",
      "                 |- ODU0:2\n",
      "             |- ODU1:14\n",
      "                 |- ODU0:1\n",
      "                 |- ODU0:2\n",
      "             |- ODU1:15\n",
      "                 |- ODU0:1\n",
      "                 |- ODU0:2\n",
      "             |- ODU1:16\n",
      "                 |- ODU0:1\n",
      "                 |- ODU0:2\n"
     ]
    },
    {
     "data": {
      "text/plain": [
       "TreeNode(51(ODU1LP1/ODU1LP1)-1)"
      ]
     },
     "execution_count": 59,
     "metadata": {},
     "output_type": "execute_result"
    },
    {
     "data": {
      "text/plain": [
       "TreeNode(51(ODU1LP1/ODU1LP1)-1)"
      ]
     },
     "execution_count": 59,
     "metadata": {},
     "output_type": "execute_result"
    },
    {
     "data": {
      "text/plain": [
       "TreeNode(51(ODU1LP1/ODU1LP1)-2)"
      ]
     },
     "execution_count": 59,
     "metadata": {},
     "output_type": "execute_result"
    },
    {
     "data": {
      "text/plain": [
       "TreeNode(51(ODU1LP1/ODU1LP1)-2)"
      ]
     },
     "execution_count": 59,
     "metadata": {},
     "output_type": "execute_result"
    },
    {
     "data": {
      "text/plain": [
       "TreeNode(51(ODU1LP1/ODU1LP1)-3)"
      ]
     },
     "execution_count": 59,
     "metadata": {},
     "output_type": "execute_result"
    },
    {
     "data": {
      "text/plain": [
       "TreeNode(51(ODU1LP1/ODU1LP1)-3)"
      ]
     },
     "execution_count": 59,
     "metadata": {},
     "output_type": "execute_result"
    },
    {
     "data": {
      "text/plain": [
       "TreeNode(51(ODU1LP1/ODU1LP1)-4)"
      ]
     },
     "execution_count": 59,
     "metadata": {},
     "output_type": "execute_result"
    },
    {
     "data": {
      "text/plain": [
       "TreeNode(51(ODU1LP1/ODU1LP1)-4)"
      ]
     },
     "execution_count": 59,
     "metadata": {},
     "output_type": "execute_result"
    },
    {
     "data": {
      "text/plain": [
       "TreeNode(52(ODU1LP2/ODU1LP2)-1)"
      ]
     },
     "execution_count": 59,
     "metadata": {},
     "output_type": "execute_result"
    },
    {
     "data": {
      "text/plain": [
       "TreeNode(52(ODU1LP2/ODU1LP2)-1)"
      ]
     },
     "execution_count": 59,
     "metadata": {},
     "output_type": "execute_result"
    },
    {
     "data": {
      "text/plain": [
       "TreeNode(52(ODU1LP2/ODU1LP2)-2)"
      ]
     },
     "execution_count": 59,
     "metadata": {},
     "output_type": "execute_result"
    },
    {
     "data": {
      "text/plain": [
       "TreeNode(52(ODU1LP2/ODU1LP2)-2)"
      ]
     },
     "execution_count": 59,
     "metadata": {},
     "output_type": "execute_result"
    },
    {
     "data": {
      "text/plain": [
       "TreeNode(52(ODU1LP2/ODU1LP2)-3)"
      ]
     },
     "execution_count": 59,
     "metadata": {},
     "output_type": "execute_result"
    },
    {
     "data": {
      "text/plain": [
       "TreeNode(52(ODU1LP2/ODU1LP2)-3)"
      ]
     },
     "execution_count": 59,
     "metadata": {},
     "output_type": "execute_result"
    },
    {
     "data": {
      "text/plain": [
       "TreeNode(52(ODU1LP2/ODU1LP2)-4)"
      ]
     },
     "execution_count": 59,
     "metadata": {},
     "output_type": "execute_result"
    },
    {
     "data": {
      "text/plain": [
       "TreeNode(52(ODU1LP2/ODU1LP2)-4)"
      ]
     },
     "execution_count": 59,
     "metadata": {},
     "output_type": "execute_result"
    },
    {
     "data": {
      "text/plain": [
       "TreeNode(53(ODU1LP3/ODU1LP3)-1)"
      ]
     },
     "execution_count": 59,
     "metadata": {},
     "output_type": "execute_result"
    },
    {
     "data": {
      "text/plain": [
       "TreeNode(53(ODU1LP3/ODU1LP3)-1)"
      ]
     },
     "execution_count": 59,
     "metadata": {},
     "output_type": "execute_result"
    },
    {
     "data": {
      "text/plain": [
       "TreeNode(53(ODU1LP3/ODU1LP3)-2)"
      ]
     },
     "execution_count": 59,
     "metadata": {},
     "output_type": "execute_result"
    },
    {
     "data": {
      "text/plain": [
       "TreeNode(53(ODU1LP3/ODU1LP3)-2)"
      ]
     },
     "execution_count": 59,
     "metadata": {},
     "output_type": "execute_result"
    },
    {
     "data": {
      "text/plain": [
       "TreeNode(53(ODU1LP3/ODU1LP3)-3)"
      ]
     },
     "execution_count": 59,
     "metadata": {},
     "output_type": "execute_result"
    },
    {
     "data": {
      "text/plain": [
       "TreeNode(53(ODU1LP3/ODU1LP3)-3)"
      ]
     },
     "execution_count": 59,
     "metadata": {},
     "output_type": "execute_result"
    },
    {
     "data": {
      "text/plain": [
       "TreeNode(53(ODU1LP3/ODU1LP3)-4)"
      ]
     },
     "execution_count": 59,
     "metadata": {},
     "output_type": "execute_result"
    },
    {
     "data": {
      "text/plain": [
       "TreeNode(53(ODU1LP3/ODU1LP3)-4)"
      ]
     },
     "execution_count": 59,
     "metadata": {},
     "output_type": "execute_result"
    },
    {
     "data": {
      "text/plain": [
       "TreeNode(54(ODU1LP4/ODU1LP4)-1)"
      ]
     },
     "execution_count": 59,
     "metadata": {},
     "output_type": "execute_result"
    },
    {
     "data": {
      "text/plain": [
       "TreeNode(54(ODU1LP4/ODU1LP4)-1)"
      ]
     },
     "execution_count": 59,
     "metadata": {},
     "output_type": "execute_result"
    },
    {
     "data": {
      "text/plain": [
       "TreeNode(54(ODU1LP4/ODU1LP4)-2)"
      ]
     },
     "execution_count": 59,
     "metadata": {},
     "output_type": "execute_result"
    },
    {
     "data": {
      "text/plain": [
       "TreeNode(54(ODU1LP4/ODU1LP4)-2)"
      ]
     },
     "execution_count": 59,
     "metadata": {},
     "output_type": "execute_result"
    },
    {
     "data": {
      "text/plain": [
       "TreeNode(54(ODU1LP4/ODU1LP4)-3)"
      ]
     },
     "execution_count": 59,
     "metadata": {},
     "output_type": "execute_result"
    },
    {
     "data": {
      "text/plain": [
       "TreeNode(54(ODU1LP4/ODU1LP4)-3)"
      ]
     },
     "execution_count": 59,
     "metadata": {},
     "output_type": "execute_result"
    },
    {
     "data": {
      "text/plain": [
       "TreeNode(54(ODU1LP4/ODU1LP4)-4)"
      ]
     },
     "execution_count": 59,
     "metadata": {},
     "output_type": "execute_result"
    },
    {
     "data": {
      "text/plain": [
       "TreeNode(54(ODU1LP4/ODU1LP4)-4)"
      ]
     },
     "execution_count": 59,
     "metadata": {},
     "output_type": "execute_result"
    },
    {
     "name": "stdout",
     "output_type": "stream",
     "text": [
      "51NQ2\n",
      " |- 1(IN1/OUT1)\n",
      "     |- 71(ODU2LP/ODU2LP)-1\n",
      "         |- 51(ODU1LP1/ODU1LP1)-1\n",
      "         |- 51(ODU1LP1/ODU1LP1)-2\n",
      "         |- 51(ODU1LP1/ODU1LP1)-3\n",
      "         |- 51(ODU1LP1/ODU1LP1)-4\n",
      " |- 1(IN1/OUT2)\n",
      "     |- 72(ODU2LP/ODU2LP)-1\n",
      "         |- 52(ODU1LP2/ODU1LP2)-1\n",
      "         |- 52(ODU1LP2/ODU1LP2)-2\n",
      "         |- 52(ODU1LP2/ODU1LP2)-3\n",
      "         |- 52(ODU1LP2/ODU1LP2)-4\n",
      " |- 1(IN1/OUT3)\n",
      "     |- 73(ODU2LP/ODU2LP)-1\n",
      "         |- 53(ODU1LP3/ODU1LP3)-1\n",
      "         |- 53(ODU1LP3/ODU1LP3)-2\n",
      "         |- 53(ODU1LP3/ODU1LP3)-3\n",
      "         |- 53(ODU1LP3/ODU1LP3)-4\n",
      " |- 1(IN1/OUT4)\n",
      "     |- 74(ODU2LP/ODU2LP)-1\n",
      "         |- 54(ODU1LP4/ODU1LP4)-1\n",
      "         |- 54(ODU1LP4/ODU1LP4)-2\n",
      "         |- 54(ODU1LP4/ODU1LP4)-3\n",
      "         |- 54(ODU1LP4/ODU1LP4)-4\n"
     ]
    },
    {
     "data": {
      "text/plain": [
       "TreeNode(161(ODU0LP1/ODU0LP1)-1)"
      ]
     },
     "execution_count": 59,
     "metadata": {},
     "output_type": "execute_result"
    },
    {
     "data": {
      "text/plain": [
       "TreeNode(161(ODU0LP1/ODU0LP1)-2)"
      ]
     },
     "execution_count": 59,
     "metadata": {},
     "output_type": "execute_result"
    },
    {
     "data": {
      "text/plain": [
       "TreeNode(162(ODU0LP2/ODU0LP2)-1)"
      ]
     },
     "execution_count": 59,
     "metadata": {},
     "output_type": "execute_result"
    },
    {
     "data": {
      "text/plain": [
       "TreeNode(162(ODU0LP2/ODU0LP2)-2)"
      ]
     },
     "execution_count": 59,
     "metadata": {},
     "output_type": "execute_result"
    },
    {
     "data": {
      "text/plain": [
       "TreeNode(163(ODU0LP3/ODU0LP3)-1)"
      ]
     },
     "execution_count": 59,
     "metadata": {},
     "output_type": "execute_result"
    },
    {
     "data": {
      "text/plain": [
       "TreeNode(163(ODU0LP3/ODU0LP3)-2)"
      ]
     },
     "execution_count": 59,
     "metadata": {},
     "output_type": "execute_result"
    },
    {
     "data": {
      "text/plain": [
       "TreeNode(164(ODU0LP4/ODU0LP4)-1)"
      ]
     },
     "execution_count": 59,
     "metadata": {},
     "output_type": "execute_result"
    },
    {
     "data": {
      "text/plain": [
       "TreeNode(164(ODU0LP4/ODU0LP4)-2)"
      ]
     },
     "execution_count": 59,
     "metadata": {},
     "output_type": "execute_result"
    },
    {
     "data": {
      "text/plain": [
       "TreeNode(165(ODU0LP5/ODU0LP5)-1)"
      ]
     },
     "execution_count": 59,
     "metadata": {},
     "output_type": "execute_result"
    },
    {
     "data": {
      "text/plain": [
       "TreeNode(165(ODU0LP5/ODU0LP5)-2)"
      ]
     },
     "execution_count": 59,
     "metadata": {},
     "output_type": "execute_result"
    },
    {
     "data": {
      "text/plain": [
       "TreeNode(166(ODU0LP6/ODU0LP6)-1)"
      ]
     },
     "execution_count": 59,
     "metadata": {},
     "output_type": "execute_result"
    },
    {
     "data": {
      "text/plain": [
       "TreeNode(166(ODU0LP6/ODU0LP6)-2)"
      ]
     },
     "execution_count": 59,
     "metadata": {},
     "output_type": "execute_result"
    },
    {
     "data": {
      "text/plain": [
       "TreeNode(167(ODU0LP7/ODU0LP7)-1)"
      ]
     },
     "execution_count": 59,
     "metadata": {},
     "output_type": "execute_result"
    },
    {
     "data": {
      "text/plain": [
       "TreeNode(167(ODU0LP7/ODU0LP7)-2)"
      ]
     },
     "execution_count": 59,
     "metadata": {},
     "output_type": "execute_result"
    },
    {
     "data": {
      "text/plain": [
       "TreeNode(168(ODU0LP8/ODU0LP8)-1)"
      ]
     },
     "execution_count": 59,
     "metadata": {},
     "output_type": "execute_result"
    },
    {
     "data": {
      "text/plain": [
       "TreeNode(168(ODU0LP8/ODU0LP8)-2)"
      ]
     },
     "execution_count": 59,
     "metadata": {},
     "output_type": "execute_result"
    },
    {
     "data": {
      "text/plain": [
       "TreeNode(169(ODU0LP9/ODU0LP9)-1)"
      ]
     },
     "execution_count": 59,
     "metadata": {},
     "output_type": "execute_result"
    },
    {
     "data": {
      "text/plain": [
       "TreeNode(169(ODU0LP9/ODU0LP9)-2)"
      ]
     },
     "execution_count": 59,
     "metadata": {},
     "output_type": "execute_result"
    },
    {
     "data": {
      "text/plain": [
       "TreeNode(170(ODU0LP10/ODU0LP10)-1)"
      ]
     },
     "execution_count": 59,
     "metadata": {},
     "output_type": "execute_result"
    },
    {
     "data": {
      "text/plain": [
       "TreeNode(170(ODU0LP10/ODU0LP10)-2)"
      ]
     },
     "execution_count": 59,
     "metadata": {},
     "output_type": "execute_result"
    },
    {
     "data": {
      "text/plain": [
       "TreeNode(171(ODU0LP11/ODU0LP11)-1)"
      ]
     },
     "execution_count": 59,
     "metadata": {},
     "output_type": "execute_result"
    },
    {
     "data": {
      "text/plain": [
       "TreeNode(171(ODU0LP11/ODU0LP11)-2)"
      ]
     },
     "execution_count": 59,
     "metadata": {},
     "output_type": "execute_result"
    },
    {
     "data": {
      "text/plain": [
       "TreeNode(172(ODU0LP12/ODU0LP12)-1)"
      ]
     },
     "execution_count": 59,
     "metadata": {},
     "output_type": "execute_result"
    },
    {
     "data": {
      "text/plain": [
       "TreeNode(172(ODU0LP12/ODU0LP12)-2)"
      ]
     },
     "execution_count": 59,
     "metadata": {},
     "output_type": "execute_result"
    },
    {
     "data": {
      "text/plain": [
       "TreeNode(173(ODU0LP13/ODU0LP13)-1)"
      ]
     },
     "execution_count": 59,
     "metadata": {},
     "output_type": "execute_result"
    },
    {
     "data": {
      "text/plain": [
       "TreeNode(173(ODU0LP13/ODU0LP13)-2)"
      ]
     },
     "execution_count": 59,
     "metadata": {},
     "output_type": "execute_result"
    },
    {
     "data": {
      "text/plain": [
       "TreeNode(174(ODU0LP14/ODU0LP14)-1)"
      ]
     },
     "execution_count": 59,
     "metadata": {},
     "output_type": "execute_result"
    },
    {
     "data": {
      "text/plain": [
       "TreeNode(174(ODU0LP14/ODU0LP14)-2)"
      ]
     },
     "execution_count": 59,
     "metadata": {},
     "output_type": "execute_result"
    },
    {
     "data": {
      "text/plain": [
       "TreeNode(175(ODU0LP15/ODU0LP15)-1)"
      ]
     },
     "execution_count": 59,
     "metadata": {},
     "output_type": "execute_result"
    },
    {
     "data": {
      "text/plain": [
       "TreeNode(175(ODU0LP15/ODU0LP15)-2)"
      ]
     },
     "execution_count": 59,
     "metadata": {},
     "output_type": "execute_result"
    },
    {
     "data": {
      "text/plain": [
       "TreeNode(176(ODU0LP16/ODU0LP16)-1)"
      ]
     },
     "execution_count": 59,
     "metadata": {},
     "output_type": "execute_result"
    },
    {
     "data": {
      "text/plain": [
       "TreeNode(176(ODU0LP16/ODU0LP16)-2)"
      ]
     },
     "execution_count": 59,
     "metadata": {},
     "output_type": "execute_result"
    },
    {
     "name": "stdout",
     "output_type": "stream",
     "text": [
      "52NQ2\n",
      " |- 1(IN1/OUT1)\n",
      "     |- 71(ODU2LP/ODU2LP)-1\n",
      "         |- 51(ODU1LP1/ODU1LP1)-1\n",
      "             |- 161(ODU0LP1/ODU0LP1)-1\n",
      "             |- 161(ODU0LP1/ODU0LP1)-2\n",
      "         |- 51(ODU1LP1/ODU1LP1)-2\n",
      "             |- 162(ODU0LP2/ODU0LP2)-1\n",
      "             |- 162(ODU0LP2/ODU0LP2)-2\n",
      "         |- 51(ODU1LP1/ODU1LP1)-3\n",
      "             |- 163(ODU0LP3/ODU0LP3)-1\n",
      "             |- 163(ODU0LP3/ODU0LP3)-2\n",
      "         |- 51(ODU1LP1/ODU1LP1)-4\n",
      "             |- 164(ODU0LP4/ODU0LP4)-1\n",
      "             |- 164(ODU0LP4/ODU0LP4)-2\n",
      " |- 1(IN1/OUT2)\n",
      "     |- 72(ODU2LP/ODU2LP)-1\n",
      "         |- 52(ODU1LP2/ODU1LP2)-1\n",
      "             |- 165(ODU0LP5/ODU0LP5)-1\n",
      "             |- 165(ODU0LP5/ODU0LP5)-2\n",
      "         |- 52(ODU1LP2/ODU1LP2)-2\n",
      "             |- 166(ODU0LP6/ODU0LP6)-1\n",
      "             |- 166(ODU0LP6/ODU0LP6)-2\n",
      "         |- 52(ODU1LP2/ODU1LP2)-3\n",
      "             |- 167(ODU0LP7/ODU0LP7)-1\n",
      "             |- 167(ODU0LP7/ODU0LP7)-2\n",
      "         |- 52(ODU1LP2/ODU1LP2)-4\n",
      "             |- 168(ODU0LP8/ODU0LP8)-1\n",
      "             |- 168(ODU0LP8/ODU0LP8)-2\n",
      " |- 1(IN1/OUT3)\n",
      "     |- 73(ODU2LP/ODU2LP)-1\n",
      "         |- 53(ODU1LP3/ODU1LP3)-1\n",
      "             |- 169(ODU0LP9/ODU0LP9)-1\n",
      "             |- 169(ODU0LP9/ODU0LP9)-2\n",
      "         |- 53(ODU1LP3/ODU1LP3)-2\n",
      "             |- 170(ODU0LP10/ODU0LP10)-1\n",
      "             |- 170(ODU0LP10/ODU0LP10)-2\n",
      "         |- 53(ODU1LP3/ODU1LP3)-3\n",
      "             |- 171(ODU0LP11/ODU0LP11)-1\n",
      "             |- 171(ODU0LP11/ODU0LP11)-2\n",
      "         |- 53(ODU1LP3/ODU1LP3)-4\n",
      "             |- 172(ODU0LP12/ODU0LP12)-1\n",
      "             |- 172(ODU0LP12/ODU0LP12)-2\n",
      " |- 1(IN1/OUT4)\n",
      "     |- 74(ODU2LP/ODU2LP)-1\n",
      "         |- 54(ODU1LP4/ODU1LP4)-1\n",
      "             |- 173(ODU0LP13/ODU0LP13)-1\n",
      "             |- 173(ODU0LP13/ODU0LP13)-2\n",
      "         |- 54(ODU1LP4/ODU1LP4)-2\n",
      "             |- 174(ODU0LP14/ODU0LP14)-1\n",
      "             |- 174(ODU0LP14/ODU0LP14)-2\n",
      "         |- 54(ODU1LP4/ODU1LP4)-3\n",
      "             |- 175(ODU0LP15/ODU0LP15)-1\n",
      "             |- 175(ODU0LP15/ODU0LP15)-2\n",
      "         |- 54(ODU1LP4/ODU1LP4)-4\n",
      "             |- 176(ODU0LP16/ODU0LP16)-1\n",
      "             |- 176(ODU0LP16/ODU0LP16)-2\n"
     ]
    },
    {
     "data": {
      "text/plain": [
       "TreeNode(ODUflex:1)"
      ]
     },
     "execution_count": 59,
     "metadata": {},
     "output_type": "execute_result"
    },
    {
     "data": {
      "text/plain": [
       "TreeNode(ODUflex:2)"
      ]
     },
     "execution_count": 59,
     "metadata": {},
     "output_type": "execute_result"
    },
    {
     "data": {
      "text/plain": [
       "TreeNode(ODU1:1)"
      ]
     },
     "execution_count": 59,
     "metadata": {},
     "output_type": "execute_result"
    },
    {
     "data": {
      "text/plain": [
       "TreeNode(ODU1:1)"
      ]
     },
     "execution_count": 59,
     "metadata": {},
     "output_type": "execute_result"
    },
    {
     "data": {
      "text/plain": [
       "TreeNode(ODU1:2)"
      ]
     },
     "execution_count": 59,
     "metadata": {},
     "output_type": "execute_result"
    },
    {
     "data": {
      "text/plain": [
       "TreeNode(ODU1:2)"
      ]
     },
     "execution_count": 59,
     "metadata": {},
     "output_type": "execute_result"
    },
    {
     "data": {
      "text/plain": [
       "TreeNode(ODU1:3)"
      ]
     },
     "execution_count": 59,
     "metadata": {},
     "output_type": "execute_result"
    },
    {
     "data": {
      "text/plain": [
       "TreeNode(ODU1:3)"
      ]
     },
     "execution_count": 59,
     "metadata": {},
     "output_type": "execute_result"
    },
    {
     "data": {
      "text/plain": [
       "TreeNode(ODU1:4)"
      ]
     },
     "execution_count": 59,
     "metadata": {},
     "output_type": "execute_result"
    },
    {
     "data": {
      "text/plain": [
       "TreeNode(ODU1:4)"
      ]
     },
     "execution_count": 59,
     "metadata": {},
     "output_type": "execute_result"
    },
    {
     "data": {
      "text/plain": [
       "TreeNode(ODU0:1)"
      ]
     },
     "execution_count": 59,
     "metadata": {},
     "output_type": "execute_result"
    },
    {
     "data": {
      "text/plain": [
       "TreeNode(ODU0:2)"
      ]
     },
     "execution_count": 59,
     "metadata": {},
     "output_type": "execute_result"
    },
    {
     "data": {
      "text/plain": [
       "TreeNode(ODU0:3)"
      ]
     },
     "execution_count": 59,
     "metadata": {},
     "output_type": "execute_result"
    },
    {
     "data": {
      "text/plain": [
       "TreeNode(ODU0:4)"
      ]
     },
     "execution_count": 59,
     "metadata": {},
     "output_type": "execute_result"
    },
    {
     "data": {
      "text/plain": [
       "TreeNode(ODU0:5)"
      ]
     },
     "execution_count": 59,
     "metadata": {},
     "output_type": "execute_result"
    },
    {
     "data": {
      "text/plain": [
       "TreeNode(ODU0:6)"
      ]
     },
     "execution_count": 59,
     "metadata": {},
     "output_type": "execute_result"
    },
    {
     "data": {
      "text/plain": [
       "TreeNode(ODU0:7)"
      ]
     },
     "execution_count": 59,
     "metadata": {},
     "output_type": "execute_result"
    },
    {
     "data": {
      "text/plain": [
       "TreeNode(ODU0:8)"
      ]
     },
     "execution_count": 59,
     "metadata": {},
     "output_type": "execute_result"
    },
    {
     "data": {
      "text/plain": [
       "TreeNode(ODUflex:1)"
      ]
     },
     "execution_count": 59,
     "metadata": {},
     "output_type": "execute_result"
    },
    {
     "data": {
      "text/plain": [
       "TreeNode(ODUflex:2)"
      ]
     },
     "execution_count": 59,
     "metadata": {},
     "output_type": "execute_result"
    },
    {
     "data": {
      "text/plain": [
       "TreeNode(ODU1:1)"
      ]
     },
     "execution_count": 59,
     "metadata": {},
     "output_type": "execute_result"
    },
    {
     "data": {
      "text/plain": [
       "TreeNode(ODU1:1)"
      ]
     },
     "execution_count": 59,
     "metadata": {},
     "output_type": "execute_result"
    },
    {
     "data": {
      "text/plain": [
       "TreeNode(ODU1:2)"
      ]
     },
     "execution_count": 59,
     "metadata": {},
     "output_type": "execute_result"
    },
    {
     "data": {
      "text/plain": [
       "TreeNode(ODU1:2)"
      ]
     },
     "execution_count": 59,
     "metadata": {},
     "output_type": "execute_result"
    },
    {
     "data": {
      "text/plain": [
       "TreeNode(ODU1:3)"
      ]
     },
     "execution_count": 59,
     "metadata": {},
     "output_type": "execute_result"
    },
    {
     "data": {
      "text/plain": [
       "TreeNode(ODU1:3)"
      ]
     },
     "execution_count": 59,
     "metadata": {},
     "output_type": "execute_result"
    },
    {
     "data": {
      "text/plain": [
       "TreeNode(ODU1:4)"
      ]
     },
     "execution_count": 59,
     "metadata": {},
     "output_type": "execute_result"
    },
    {
     "data": {
      "text/plain": [
       "TreeNode(ODU1:4)"
      ]
     },
     "execution_count": 59,
     "metadata": {},
     "output_type": "execute_result"
    },
    {
     "data": {
      "text/plain": [
       "TreeNode(ODU0:1)"
      ]
     },
     "execution_count": 59,
     "metadata": {},
     "output_type": "execute_result"
    },
    {
     "data": {
      "text/plain": [
       "TreeNode(ODU0:2)"
      ]
     },
     "execution_count": 59,
     "metadata": {},
     "output_type": "execute_result"
    },
    {
     "data": {
      "text/plain": [
       "TreeNode(ODU0:3)"
      ]
     },
     "execution_count": 59,
     "metadata": {},
     "output_type": "execute_result"
    },
    {
     "data": {
      "text/plain": [
       "TreeNode(ODU0:4)"
      ]
     },
     "execution_count": 59,
     "metadata": {},
     "output_type": "execute_result"
    },
    {
     "data": {
      "text/plain": [
       "TreeNode(ODU0:5)"
      ]
     },
     "execution_count": 59,
     "metadata": {},
     "output_type": "execute_result"
    },
    {
     "data": {
      "text/plain": [
       "TreeNode(ODU0:6)"
      ]
     },
     "execution_count": 59,
     "metadata": {},
     "output_type": "execute_result"
    },
    {
     "data": {
      "text/plain": [
       "TreeNode(ODU0:7)"
      ]
     },
     "execution_count": 59,
     "metadata": {},
     "output_type": "execute_result"
    },
    {
     "data": {
      "text/plain": [
       "TreeNode(ODU0:8)"
      ]
     },
     "execution_count": 59,
     "metadata": {},
     "output_type": "execute_result"
    },
    {
     "data": {
      "text/plain": [
       "TreeNode(ODUflex:1)"
      ]
     },
     "execution_count": 59,
     "metadata": {},
     "output_type": "execute_result"
    },
    {
     "data": {
      "text/plain": [
       "TreeNode(ODUflex:2)"
      ]
     },
     "execution_count": 59,
     "metadata": {},
     "output_type": "execute_result"
    },
    {
     "data": {
      "text/plain": [
       "TreeNode(ODU1:1)"
      ]
     },
     "execution_count": 59,
     "metadata": {},
     "output_type": "execute_result"
    },
    {
     "data": {
      "text/plain": [
       "TreeNode(ODU1:1)"
      ]
     },
     "execution_count": 59,
     "metadata": {},
     "output_type": "execute_result"
    },
    {
     "data": {
      "text/plain": [
       "TreeNode(ODU1:2)"
      ]
     },
     "execution_count": 59,
     "metadata": {},
     "output_type": "execute_result"
    },
    {
     "data": {
      "text/plain": [
       "TreeNode(ODU1:2)"
      ]
     },
     "execution_count": 59,
     "metadata": {},
     "output_type": "execute_result"
    },
    {
     "data": {
      "text/plain": [
       "TreeNode(ODU1:3)"
      ]
     },
     "execution_count": 59,
     "metadata": {},
     "output_type": "execute_result"
    },
    {
     "data": {
      "text/plain": [
       "TreeNode(ODU1:3)"
      ]
     },
     "execution_count": 59,
     "metadata": {},
     "output_type": "execute_result"
    },
    {
     "data": {
      "text/plain": [
       "TreeNode(ODU1:4)"
      ]
     },
     "execution_count": 59,
     "metadata": {},
     "output_type": "execute_result"
    },
    {
     "data": {
      "text/plain": [
       "TreeNode(ODU1:4)"
      ]
     },
     "execution_count": 59,
     "metadata": {},
     "output_type": "execute_result"
    },
    {
     "data": {
      "text/plain": [
       "TreeNode(ODU0:1)"
      ]
     },
     "execution_count": 59,
     "metadata": {},
     "output_type": "execute_result"
    },
    {
     "data": {
      "text/plain": [
       "TreeNode(ODU0:2)"
      ]
     },
     "execution_count": 59,
     "metadata": {},
     "output_type": "execute_result"
    },
    {
     "data": {
      "text/plain": [
       "TreeNode(ODU0:3)"
      ]
     },
     "execution_count": 59,
     "metadata": {},
     "output_type": "execute_result"
    },
    {
     "data": {
      "text/plain": [
       "TreeNode(ODU0:4)"
      ]
     },
     "execution_count": 59,
     "metadata": {},
     "output_type": "execute_result"
    },
    {
     "data": {
      "text/plain": [
       "TreeNode(ODU0:5)"
      ]
     },
     "execution_count": 59,
     "metadata": {},
     "output_type": "execute_result"
    },
    {
     "data": {
      "text/plain": [
       "TreeNode(ODU0:6)"
      ]
     },
     "execution_count": 59,
     "metadata": {},
     "output_type": "execute_result"
    },
    {
     "data": {
      "text/plain": [
       "TreeNode(ODU0:7)"
      ]
     },
     "execution_count": 59,
     "metadata": {},
     "output_type": "execute_result"
    },
    {
     "data": {
      "text/plain": [
       "TreeNode(ODU0:8)"
      ]
     },
     "execution_count": 59,
     "metadata": {},
     "output_type": "execute_result"
    },
    {
     "data": {
      "text/plain": [
       "TreeNode(ODUflex:1)"
      ]
     },
     "execution_count": 59,
     "metadata": {},
     "output_type": "execute_result"
    },
    {
     "data": {
      "text/plain": [
       "TreeNode(ODUflex:2)"
      ]
     },
     "execution_count": 59,
     "metadata": {},
     "output_type": "execute_result"
    },
    {
     "data": {
      "text/plain": [
       "TreeNode(ODU1:1)"
      ]
     },
     "execution_count": 59,
     "metadata": {},
     "output_type": "execute_result"
    },
    {
     "data": {
      "text/plain": [
       "TreeNode(ODU1:1)"
      ]
     },
     "execution_count": 59,
     "metadata": {},
     "output_type": "execute_result"
    },
    {
     "data": {
      "text/plain": [
       "TreeNode(ODU1:2)"
      ]
     },
     "execution_count": 59,
     "metadata": {},
     "output_type": "execute_result"
    },
    {
     "data": {
      "text/plain": [
       "TreeNode(ODU1:2)"
      ]
     },
     "execution_count": 59,
     "metadata": {},
     "output_type": "execute_result"
    },
    {
     "data": {
      "text/plain": [
       "TreeNode(ODU1:3)"
      ]
     },
     "execution_count": 59,
     "metadata": {},
     "output_type": "execute_result"
    },
    {
     "data": {
      "text/plain": [
       "TreeNode(ODU1:3)"
      ]
     },
     "execution_count": 59,
     "metadata": {},
     "output_type": "execute_result"
    },
    {
     "data": {
      "text/plain": [
       "TreeNode(ODU1:4)"
      ]
     },
     "execution_count": 59,
     "metadata": {},
     "output_type": "execute_result"
    },
    {
     "data": {
      "text/plain": [
       "TreeNode(ODU1:4)"
      ]
     },
     "execution_count": 59,
     "metadata": {},
     "output_type": "execute_result"
    },
    {
     "data": {
      "text/plain": [
       "TreeNode(ODU0:1)"
      ]
     },
     "execution_count": 59,
     "metadata": {},
     "output_type": "execute_result"
    },
    {
     "data": {
      "text/plain": [
       "TreeNode(ODU0:2)"
      ]
     },
     "execution_count": 59,
     "metadata": {},
     "output_type": "execute_result"
    },
    {
     "data": {
      "text/plain": [
       "TreeNode(ODU0:3)"
      ]
     },
     "execution_count": 59,
     "metadata": {},
     "output_type": "execute_result"
    },
    {
     "data": {
      "text/plain": [
       "TreeNode(ODU0:4)"
      ]
     },
     "execution_count": 59,
     "metadata": {},
     "output_type": "execute_result"
    },
    {
     "data": {
      "text/plain": [
       "TreeNode(ODU0:5)"
      ]
     },
     "execution_count": 59,
     "metadata": {},
     "output_type": "execute_result"
    },
    {
     "data": {
      "text/plain": [
       "TreeNode(ODU0:6)"
      ]
     },
     "execution_count": 59,
     "metadata": {},
     "output_type": "execute_result"
    },
    {
     "data": {
      "text/plain": [
       "TreeNode(ODU0:7)"
      ]
     },
     "execution_count": 59,
     "metadata": {},
     "output_type": "execute_result"
    },
    {
     "data": {
      "text/plain": [
       "TreeNode(ODU0:8)"
      ]
     },
     "execution_count": 59,
     "metadata": {},
     "output_type": "execute_result"
    },
    {
     "name": "stdout",
     "output_type": "stream",
     "text": [
      "53NQ2\n",
      " |- 1（IN1/OUT1)\n",
      "     |- OCh:1\n",
      "         |- ODU2:1\n",
      "             |- ODUflex:1\n",
      "             |- ODUflex:2\n",
      "             |- ODU1:1\n",
      "             |- ODU1:2\n",
      "             |- ODU1:3\n",
      "             |- ODU1:4\n",
      "             |- ODU0:1\n",
      "             |- ODU0:2\n",
      "             |- ODU0:3\n",
      "             |- ODU0:4\n",
      "             |- ODU0:5\n",
      "             |- ODU0:6\n",
      "             |- ODU0:7\n",
      "             |- ODU0:8\n",
      " |- 2（IN2/OUT2)\n",
      "     |- OCh:1\n",
      "         |- ODU2:1\n",
      "             |- ODUflex:1\n",
      "             |- ODUflex:2\n",
      "             |- ODU1:1\n",
      "             |- ODU1:2\n",
      "             |- ODU1:3\n",
      "             |- ODU1:4\n",
      "             |- ODU0:1\n",
      "             |- ODU0:2\n",
      "             |- ODU0:3\n",
      "             |- ODU0:4\n",
      "             |- ODU0:5\n",
      "             |- ODU0:6\n",
      "             |- ODU0:7\n",
      "             |- ODU0:8\n",
      " |- 3（IN3/OUT3)\n",
      "     |- OCh:1\n",
      "         |- ODU2:1\n",
      "             |- ODUflex:1\n",
      "             |- ODUflex:2\n",
      "             |- ODU1:1\n",
      "             |- ODU1:2\n",
      "             |- ODU1:3\n",
      "             |- ODU1:4\n",
      "             |- ODU0:1\n",
      "             |- ODU0:2\n",
      "             |- ODU0:3\n",
      "             |- ODU0:4\n",
      "             |- ODU0:5\n",
      "             |- ODU0:6\n",
      "             |- ODU0:7\n",
      "             |- ODU0:8\n",
      " |- 4（IN4/OUT4)\n",
      "     |- OCh:1\n",
      "         |- ODU2:1\n",
      "             |- ODUflex:1\n",
      "             |- ODUflex:2\n",
      "             |- ODU1:1\n",
      "             |- ODU1:2\n",
      "             |- ODU1:3\n",
      "             |- ODU1:4\n",
      "             |- ODU0:1\n",
      "             |- ODU0:2\n",
      "             |- ODU0:3\n",
      "             |- ODU0:4\n",
      "             |- ODU0:5\n",
      "             |- ODU0:6\n",
      "             |- ODU0:7\n",
      "             |- ODU0:8\n"
     ]
    },
    {
     "data": {
      "text/plain": [
       "TreeNode(161(ODU0LP1/ODU0LP1)-1)"
      ]
     },
     "execution_count": 59,
     "metadata": {},
     "output_type": "execute_result"
    },
    {
     "data": {
      "text/plain": [
       "TreeNode(161(ODU0LP1/ODU0LP1)-2)"
      ]
     },
     "execution_count": 59,
     "metadata": {},
     "output_type": "execute_result"
    },
    {
     "data": {
      "text/plain": [
       "TreeNode(162(ODU0LP2/ODU0LP2)-1)"
      ]
     },
     "execution_count": 59,
     "metadata": {},
     "output_type": "execute_result"
    },
    {
     "data": {
      "text/plain": [
       "TreeNode(162(ODU0LP2/ODU0LP2)-2)"
      ]
     },
     "execution_count": 59,
     "metadata": {},
     "output_type": "execute_result"
    },
    {
     "data": {
      "text/plain": [
       "TreeNode(163(ODU0LP3/ODU0LP3)-1)"
      ]
     },
     "execution_count": 59,
     "metadata": {},
     "output_type": "execute_result"
    },
    {
     "data": {
      "text/plain": [
       "TreeNode(163(ODU0LP3/ODU0LP3)-2)"
      ]
     },
     "execution_count": 59,
     "metadata": {},
     "output_type": "execute_result"
    },
    {
     "data": {
      "text/plain": [
       "TreeNode(164(ODU0LP4/ODU0LP4)-1)"
      ]
     },
     "execution_count": 59,
     "metadata": {},
     "output_type": "execute_result"
    },
    {
     "data": {
      "text/plain": [
       "TreeNode(164(ODU0LP4/ODU0LP4)-2)"
      ]
     },
     "execution_count": 59,
     "metadata": {},
     "output_type": "execute_result"
    },
    {
     "data": {
      "text/plain": [
       "TreeNode(165(ODU0LP5/ODU0LP5)-1)"
      ]
     },
     "execution_count": 59,
     "metadata": {},
     "output_type": "execute_result"
    },
    {
     "data": {
      "text/plain": [
       "TreeNode(165(ODU0LP5/ODU0LP5)-2)"
      ]
     },
     "execution_count": 59,
     "metadata": {},
     "output_type": "execute_result"
    },
    {
     "data": {
      "text/plain": [
       "TreeNode(166(ODU0LP6/ODU0LP6)-1)"
      ]
     },
     "execution_count": 59,
     "metadata": {},
     "output_type": "execute_result"
    },
    {
     "data": {
      "text/plain": [
       "TreeNode(166(ODU0LP6/ODU0LP6)-2)"
      ]
     },
     "execution_count": 59,
     "metadata": {},
     "output_type": "execute_result"
    },
    {
     "data": {
      "text/plain": [
       "TreeNode(167(ODU0LP7/ODU0LP7)-1)"
      ]
     },
     "execution_count": 59,
     "metadata": {},
     "output_type": "execute_result"
    },
    {
     "data": {
      "text/plain": [
       "TreeNode(167(ODU0LP7/ODU0LP7)-2)"
      ]
     },
     "execution_count": 59,
     "metadata": {},
     "output_type": "execute_result"
    },
    {
     "data": {
      "text/plain": [
       "TreeNode(168(ODU0LP8/ODU0LP8)-1)"
      ]
     },
     "execution_count": 59,
     "metadata": {},
     "output_type": "execute_result"
    },
    {
     "data": {
      "text/plain": [
       "TreeNode(168(ODU0LP8/ODU0LP8)-2)"
      ]
     },
     "execution_count": 59,
     "metadata": {},
     "output_type": "execute_result"
    },
    {
     "data": {
      "text/plain": [
       "TreeNode(169(ODU0LP9/ODU0LP9)-1)"
      ]
     },
     "execution_count": 59,
     "metadata": {},
     "output_type": "execute_result"
    },
    {
     "data": {
      "text/plain": [
       "TreeNode(169(ODU0LP9/ODU0LP9)-2)"
      ]
     },
     "execution_count": 59,
     "metadata": {},
     "output_type": "execute_result"
    },
    {
     "data": {
      "text/plain": [
       "TreeNode(170(ODU0LP10/ODU0LP10)-1)"
      ]
     },
     "execution_count": 59,
     "metadata": {},
     "output_type": "execute_result"
    },
    {
     "data": {
      "text/plain": [
       "TreeNode(170(ODU0LP10/ODU0LP10)-2)"
      ]
     },
     "execution_count": 59,
     "metadata": {},
     "output_type": "execute_result"
    },
    {
     "data": {
      "text/plain": [
       "TreeNode(171(ODU0LP11/ODU0LP11)-1)"
      ]
     },
     "execution_count": 59,
     "metadata": {},
     "output_type": "execute_result"
    },
    {
     "data": {
      "text/plain": [
       "TreeNode(171(ODU0LP11/ODU0LP11)-2)"
      ]
     },
     "execution_count": 59,
     "metadata": {},
     "output_type": "execute_result"
    },
    {
     "data": {
      "text/plain": [
       "TreeNode(172(ODU0LP12/ODU0LP12)-1)"
      ]
     },
     "execution_count": 59,
     "metadata": {},
     "output_type": "execute_result"
    },
    {
     "data": {
      "text/plain": [
       "TreeNode(172(ODU0LP12/ODU0LP12)-2)"
      ]
     },
     "execution_count": 59,
     "metadata": {},
     "output_type": "execute_result"
    },
    {
     "data": {
      "text/plain": [
       "TreeNode(173(ODU0LP13/ODU0LP13)-1)"
      ]
     },
     "execution_count": 59,
     "metadata": {},
     "output_type": "execute_result"
    },
    {
     "data": {
      "text/plain": [
       "TreeNode(173(ODU0LP13/ODU0LP13)-2)"
      ]
     },
     "execution_count": 59,
     "metadata": {},
     "output_type": "execute_result"
    },
    {
     "data": {
      "text/plain": [
       "TreeNode(174(ODU0LP14/ODU0LP14)-1)"
      ]
     },
     "execution_count": 59,
     "metadata": {},
     "output_type": "execute_result"
    },
    {
     "data": {
      "text/plain": [
       "TreeNode(174(ODU0LP14/ODU0LP14)-2)"
      ]
     },
     "execution_count": 59,
     "metadata": {},
     "output_type": "execute_result"
    },
    {
     "data": {
      "text/plain": [
       "TreeNode(175(ODU0LP15/ODU0LP15)-1)"
      ]
     },
     "execution_count": 59,
     "metadata": {},
     "output_type": "execute_result"
    },
    {
     "data": {
      "text/plain": [
       "TreeNode(175(ODU0LP15/ODU0LP15)-2)"
      ]
     },
     "execution_count": 59,
     "metadata": {},
     "output_type": "execute_result"
    },
    {
     "data": {
      "text/plain": [
       "TreeNode(176(ODU0LP16/ODU0LP16)-1)"
      ]
     },
     "execution_count": 59,
     "metadata": {},
     "output_type": "execute_result"
    },
    {
     "data": {
      "text/plain": [
       "TreeNode(176(ODU0LP16/ODU0LP16)-2)"
      ]
     },
     "execution_count": 59,
     "metadata": {},
     "output_type": "execute_result"
    },
    {
     "name": "stdout",
     "output_type": "stream",
     "text": [
      "53NQ2(COMP)\n",
      " |- 1(IN1/OUT1)\n",
      "     |- 71(ODU2LP/ODU2LP)-1\n",
      "         |- 51(ODU1LP1/ODU1LP1)-1\n",
      "             |- 161(ODU0LP1/ODU0LP1)-1\n",
      "             |- 161(ODU0LP1/ODU0LP1)-2\n",
      "         |- 51(ODU1LP1/ODU1LP1)-2\n",
      "             |- 162(ODU0LP2/ODU0LP2)-1\n",
      "             |- 162(ODU0LP2/ODU0LP2)-2\n",
      "         |- 51(ODU1LP1/ODU1LP1)-3\n",
      "             |- 163(ODU0LP3/ODU0LP3)-1\n",
      "             |- 163(ODU0LP3/ODU0LP3)-2\n",
      "         |- 51(ODU1LP1/ODU1LP1)-4\n",
      "             |- 164(ODU0LP4/ODU0LP4)-1\n",
      "             |- 164(ODU0LP4/ODU0LP4)-2\n",
      " |- 1(IN1/OUT2)\n",
      "     |- 72(ODU2LP/ODU2LP)-1\n",
      "         |- 52(ODU1LP2/ODU1LP2)-1\n",
      "             |- 165(ODU0LP5/ODU0LP5)-1\n",
      "             |- 165(ODU0LP5/ODU0LP5)-2\n",
      "         |- 52(ODU1LP2/ODU1LP2)-2\n",
      "             |- 166(ODU0LP6/ODU0LP6)-1\n",
      "             |- 166(ODU0LP6/ODU0LP6)-2\n",
      "         |- 52(ODU1LP2/ODU1LP2)-3\n",
      "             |- 167(ODU0LP7/ODU0LP7)-1\n",
      "             |- 167(ODU0LP7/ODU0LP7)-2\n",
      "         |- 52(ODU1LP2/ODU1LP2)-4\n",
      "             |- 168(ODU0LP8/ODU0LP8)-1\n",
      "             |- 168(ODU0LP8/ODU0LP8)-2\n",
      " |- 1(IN1/OUT3)\n",
      "     |- 73(ODU2LP/ODU2LP)-1\n",
      "         |- 53(ODU1LP3/ODU1LP3)-1\n",
      "             |- 169(ODU0LP9/ODU0LP9)-1\n",
      "             |- 169(ODU0LP9/ODU0LP9)-2\n",
      "         |- 53(ODU1LP3/ODU1LP3)-2\n",
      "             |- 170(ODU0LP10/ODU0LP10)-1\n",
      "             |- 170(ODU0LP10/ODU0LP10)-2\n",
      "         |- 53(ODU1LP3/ODU1LP3)-3\n",
      "             |- 171(ODU0LP11/ODU0LP11)-1\n",
      "             |- 171(ODU0LP11/ODU0LP11)-2\n",
      "         |- 53(ODU1LP3/ODU1LP3)-4\n",
      "             |- 172(ODU0LP12/ODU0LP12)-1\n",
      "             |- 172(ODU0LP12/ODU0LP12)-2\n",
      " |- 1(IN1/OUT4)\n",
      "     |- 74(ODU2LP/ODU2LP)-1\n",
      "         |- 54(ODU1LP4/ODU1LP4)-1\n",
      "             |- 173(ODU0LP13/ODU0LP13)-1\n",
      "             |- 173(ODU0LP13/ODU0LP13)-2\n",
      "         |- 54(ODU1LP4/ODU1LP4)-2\n",
      "             |- 174(ODU0LP14/ODU0LP14)-1\n",
      "             |- 174(ODU0LP14/ODU0LP14)-2\n",
      "         |- 54(ODU1LP4/ODU1LP4)-3\n",
      "             |- 175(ODU0LP15/ODU0LP15)-1\n",
      "             |- 175(ODU0LP15/ODU0LP15)-2\n",
      "         |- 54(ODU1LP4/ODU1LP4)-4\n",
      "             |- 176(ODU0LP16/ODU0LP16)-1\n",
      "             |- 176(ODU0LP16/ODU0LP16)-2\n"
     ]
    },
    {
     "data": {
      "text/plain": [
       "TreeNode(ODUflex:1)"
      ]
     },
     "execution_count": 59,
     "metadata": {},
     "output_type": "execute_result"
    },
    {
     "data": {
      "text/plain": [
       "TreeNode(ODUflex:2)"
      ]
     },
     "execution_count": 59,
     "metadata": {},
     "output_type": "execute_result"
    },
    {
     "data": {
      "text/plain": [
       "TreeNode(ODU1:1)"
      ]
     },
     "execution_count": 59,
     "metadata": {},
     "output_type": "execute_result"
    },
    {
     "data": {
      "text/plain": [
       "TreeNode(ODU1:1)"
      ]
     },
     "execution_count": 59,
     "metadata": {},
     "output_type": "execute_result"
    },
    {
     "data": {
      "text/plain": [
       "TreeNode(ODU1:2)"
      ]
     },
     "execution_count": 59,
     "metadata": {},
     "output_type": "execute_result"
    },
    {
     "data": {
      "text/plain": [
       "TreeNode(ODU1:2)"
      ]
     },
     "execution_count": 59,
     "metadata": {},
     "output_type": "execute_result"
    },
    {
     "data": {
      "text/plain": [
       "TreeNode(ODU1:3)"
      ]
     },
     "execution_count": 59,
     "metadata": {},
     "output_type": "execute_result"
    },
    {
     "data": {
      "text/plain": [
       "TreeNode(ODU1:3)"
      ]
     },
     "execution_count": 59,
     "metadata": {},
     "output_type": "execute_result"
    },
    {
     "data": {
      "text/plain": [
       "TreeNode(ODU1:4)"
      ]
     },
     "execution_count": 59,
     "metadata": {},
     "output_type": "execute_result"
    },
    {
     "data": {
      "text/plain": [
       "TreeNode(ODU1:4)"
      ]
     },
     "execution_count": 59,
     "metadata": {},
     "output_type": "execute_result"
    },
    {
     "data": {
      "text/plain": [
       "TreeNode(ODU0:1)"
      ]
     },
     "execution_count": 59,
     "metadata": {},
     "output_type": "execute_result"
    },
    {
     "data": {
      "text/plain": [
       "TreeNode(ODU0:2)"
      ]
     },
     "execution_count": 59,
     "metadata": {},
     "output_type": "execute_result"
    },
    {
     "data": {
      "text/plain": [
       "TreeNode(ODU0:3)"
      ]
     },
     "execution_count": 59,
     "metadata": {},
     "output_type": "execute_result"
    },
    {
     "data": {
      "text/plain": [
       "TreeNode(ODU0:4)"
      ]
     },
     "execution_count": 59,
     "metadata": {},
     "output_type": "execute_result"
    },
    {
     "data": {
      "text/plain": [
       "TreeNode(ODU0:5)"
      ]
     },
     "execution_count": 59,
     "metadata": {},
     "output_type": "execute_result"
    },
    {
     "data": {
      "text/plain": [
       "TreeNode(ODU0:6)"
      ]
     },
     "execution_count": 59,
     "metadata": {},
     "output_type": "execute_result"
    },
    {
     "data": {
      "text/plain": [
       "TreeNode(ODU0:7)"
      ]
     },
     "execution_count": 59,
     "metadata": {},
     "output_type": "execute_result"
    },
    {
     "data": {
      "text/plain": [
       "TreeNode(ODU0:8)"
      ]
     },
     "execution_count": 59,
     "metadata": {},
     "output_type": "execute_result"
    },
    {
     "data": {
      "text/plain": [
       "TreeNode(ODUflex:1)"
      ]
     },
     "execution_count": 59,
     "metadata": {},
     "output_type": "execute_result"
    },
    {
     "data": {
      "text/plain": [
       "TreeNode(ODUflex:2)"
      ]
     },
     "execution_count": 59,
     "metadata": {},
     "output_type": "execute_result"
    },
    {
     "data": {
      "text/plain": [
       "TreeNode(ODU1:1)"
      ]
     },
     "execution_count": 59,
     "metadata": {},
     "output_type": "execute_result"
    },
    {
     "data": {
      "text/plain": [
       "TreeNode(ODU1:1)"
      ]
     },
     "execution_count": 59,
     "metadata": {},
     "output_type": "execute_result"
    },
    {
     "data": {
      "text/plain": [
       "TreeNode(ODU1:2)"
      ]
     },
     "execution_count": 59,
     "metadata": {},
     "output_type": "execute_result"
    },
    {
     "data": {
      "text/plain": [
       "TreeNode(ODU1:2)"
      ]
     },
     "execution_count": 59,
     "metadata": {},
     "output_type": "execute_result"
    },
    {
     "data": {
      "text/plain": [
       "TreeNode(ODU1:3)"
      ]
     },
     "execution_count": 59,
     "metadata": {},
     "output_type": "execute_result"
    },
    {
     "data": {
      "text/plain": [
       "TreeNode(ODU1:3)"
      ]
     },
     "execution_count": 59,
     "metadata": {},
     "output_type": "execute_result"
    },
    {
     "data": {
      "text/plain": [
       "TreeNode(ODU1:4)"
      ]
     },
     "execution_count": 59,
     "metadata": {},
     "output_type": "execute_result"
    },
    {
     "data": {
      "text/plain": [
       "TreeNode(ODU1:4)"
      ]
     },
     "execution_count": 59,
     "metadata": {},
     "output_type": "execute_result"
    },
    {
     "data": {
      "text/plain": [
       "TreeNode(ODU0:1)"
      ]
     },
     "execution_count": 59,
     "metadata": {},
     "output_type": "execute_result"
    },
    {
     "data": {
      "text/plain": [
       "TreeNode(ODU0:2)"
      ]
     },
     "execution_count": 59,
     "metadata": {},
     "output_type": "execute_result"
    },
    {
     "data": {
      "text/plain": [
       "TreeNode(ODU0:3)"
      ]
     },
     "execution_count": 59,
     "metadata": {},
     "output_type": "execute_result"
    },
    {
     "data": {
      "text/plain": [
       "TreeNode(ODU0:4)"
      ]
     },
     "execution_count": 59,
     "metadata": {},
     "output_type": "execute_result"
    },
    {
     "data": {
      "text/plain": [
       "TreeNode(ODU0:5)"
      ]
     },
     "execution_count": 59,
     "metadata": {},
     "output_type": "execute_result"
    },
    {
     "data": {
      "text/plain": [
       "TreeNode(ODU0:6)"
      ]
     },
     "execution_count": 59,
     "metadata": {},
     "output_type": "execute_result"
    },
    {
     "data": {
      "text/plain": [
       "TreeNode(ODU0:7)"
      ]
     },
     "execution_count": 59,
     "metadata": {},
     "output_type": "execute_result"
    },
    {
     "data": {
      "text/plain": [
       "TreeNode(ODU0:8)"
      ]
     },
     "execution_count": 59,
     "metadata": {},
     "output_type": "execute_result"
    },
    {
     "data": {
      "text/plain": [
       "TreeNode(ODUflex:1)"
      ]
     },
     "execution_count": 59,
     "metadata": {},
     "output_type": "execute_result"
    },
    {
     "data": {
      "text/plain": [
       "TreeNode(ODUflex:2)"
      ]
     },
     "execution_count": 59,
     "metadata": {},
     "output_type": "execute_result"
    },
    {
     "data": {
      "text/plain": [
       "TreeNode(ODU1:1)"
      ]
     },
     "execution_count": 59,
     "metadata": {},
     "output_type": "execute_result"
    },
    {
     "data": {
      "text/plain": [
       "TreeNode(ODU1:1)"
      ]
     },
     "execution_count": 59,
     "metadata": {},
     "output_type": "execute_result"
    },
    {
     "data": {
      "text/plain": [
       "TreeNode(ODU1:2)"
      ]
     },
     "execution_count": 59,
     "metadata": {},
     "output_type": "execute_result"
    },
    {
     "data": {
      "text/plain": [
       "TreeNode(ODU1:2)"
      ]
     },
     "execution_count": 59,
     "metadata": {},
     "output_type": "execute_result"
    },
    {
     "data": {
      "text/plain": [
       "TreeNode(ODU1:3)"
      ]
     },
     "execution_count": 59,
     "metadata": {},
     "output_type": "execute_result"
    },
    {
     "data": {
      "text/plain": [
       "TreeNode(ODU1:3)"
      ]
     },
     "execution_count": 59,
     "metadata": {},
     "output_type": "execute_result"
    },
    {
     "data": {
      "text/plain": [
       "TreeNode(ODU1:4)"
      ]
     },
     "execution_count": 59,
     "metadata": {},
     "output_type": "execute_result"
    },
    {
     "data": {
      "text/plain": [
       "TreeNode(ODU1:4)"
      ]
     },
     "execution_count": 59,
     "metadata": {},
     "output_type": "execute_result"
    },
    {
     "data": {
      "text/plain": [
       "TreeNode(ODU0:1)"
      ]
     },
     "execution_count": 59,
     "metadata": {},
     "output_type": "execute_result"
    },
    {
     "data": {
      "text/plain": [
       "TreeNode(ODU0:2)"
      ]
     },
     "execution_count": 59,
     "metadata": {},
     "output_type": "execute_result"
    },
    {
     "data": {
      "text/plain": [
       "TreeNode(ODU0:3)"
      ]
     },
     "execution_count": 59,
     "metadata": {},
     "output_type": "execute_result"
    },
    {
     "data": {
      "text/plain": [
       "TreeNode(ODU0:4)"
      ]
     },
     "execution_count": 59,
     "metadata": {},
     "output_type": "execute_result"
    },
    {
     "data": {
      "text/plain": [
       "TreeNode(ODU0:5)"
      ]
     },
     "execution_count": 59,
     "metadata": {},
     "output_type": "execute_result"
    },
    {
     "data": {
      "text/plain": [
       "TreeNode(ODU0:6)"
      ]
     },
     "execution_count": 59,
     "metadata": {},
     "output_type": "execute_result"
    },
    {
     "data": {
      "text/plain": [
       "TreeNode(ODU0:7)"
      ]
     },
     "execution_count": 59,
     "metadata": {},
     "output_type": "execute_result"
    },
    {
     "data": {
      "text/plain": [
       "TreeNode(ODU0:8)"
      ]
     },
     "execution_count": 59,
     "metadata": {},
     "output_type": "execute_result"
    },
    {
     "data": {
      "text/plain": [
       "TreeNode(ODUflex:1)"
      ]
     },
     "execution_count": 59,
     "metadata": {},
     "output_type": "execute_result"
    },
    {
     "data": {
      "text/plain": [
       "TreeNode(ODUflex:2)"
      ]
     },
     "execution_count": 59,
     "metadata": {},
     "output_type": "execute_result"
    },
    {
     "data": {
      "text/plain": [
       "TreeNode(ODU1:1)"
      ]
     },
     "execution_count": 59,
     "metadata": {},
     "output_type": "execute_result"
    },
    {
     "data": {
      "text/plain": [
       "TreeNode(ODU1:1)"
      ]
     },
     "execution_count": 59,
     "metadata": {},
     "output_type": "execute_result"
    },
    {
     "data": {
      "text/plain": [
       "TreeNode(ODU1:2)"
      ]
     },
     "execution_count": 59,
     "metadata": {},
     "output_type": "execute_result"
    },
    {
     "data": {
      "text/plain": [
       "TreeNode(ODU1:2)"
      ]
     },
     "execution_count": 59,
     "metadata": {},
     "output_type": "execute_result"
    },
    {
     "data": {
      "text/plain": [
       "TreeNode(ODU1:3)"
      ]
     },
     "execution_count": 59,
     "metadata": {},
     "output_type": "execute_result"
    },
    {
     "data": {
      "text/plain": [
       "TreeNode(ODU1:3)"
      ]
     },
     "execution_count": 59,
     "metadata": {},
     "output_type": "execute_result"
    },
    {
     "data": {
      "text/plain": [
       "TreeNode(ODU1:4)"
      ]
     },
     "execution_count": 59,
     "metadata": {},
     "output_type": "execute_result"
    },
    {
     "data": {
      "text/plain": [
       "TreeNode(ODU1:4)"
      ]
     },
     "execution_count": 59,
     "metadata": {},
     "output_type": "execute_result"
    },
    {
     "data": {
      "text/plain": [
       "TreeNode(ODU0:1)"
      ]
     },
     "execution_count": 59,
     "metadata": {},
     "output_type": "execute_result"
    },
    {
     "data": {
      "text/plain": [
       "TreeNode(ODU0:2)"
      ]
     },
     "execution_count": 59,
     "metadata": {},
     "output_type": "execute_result"
    },
    {
     "data": {
      "text/plain": [
       "TreeNode(ODU0:3)"
      ]
     },
     "execution_count": 59,
     "metadata": {},
     "output_type": "execute_result"
    },
    {
     "data": {
      "text/plain": [
       "TreeNode(ODU0:4)"
      ]
     },
     "execution_count": 59,
     "metadata": {},
     "output_type": "execute_result"
    },
    {
     "data": {
      "text/plain": [
       "TreeNode(ODU0:5)"
      ]
     },
     "execution_count": 59,
     "metadata": {},
     "output_type": "execute_result"
    },
    {
     "data": {
      "text/plain": [
       "TreeNode(ODU0:6)"
      ]
     },
     "execution_count": 59,
     "metadata": {},
     "output_type": "execute_result"
    },
    {
     "data": {
      "text/plain": [
       "TreeNode(ODU0:7)"
      ]
     },
     "execution_count": 59,
     "metadata": {},
     "output_type": "execute_result"
    },
    {
     "data": {
      "text/plain": [
       "TreeNode(ODU0:8)"
      ]
     },
     "execution_count": 59,
     "metadata": {},
     "output_type": "execute_result"
    },
    {
     "name": "stdout",
     "output_type": "stream",
     "text": [
      "57NQ2\n",
      " |- 1（IN1/OUT1)\n",
      "     |- OCh:1\n",
      "         |- ODU2:1\n",
      "             |- ODUflex:1\n",
      "             |- ODUflex:2\n",
      "             |- ODU1:1\n",
      "             |- ODU1:2\n",
      "             |- ODU1:3\n",
      "             |- ODU1:4\n",
      "             |- ODU0:1\n",
      "             |- ODU0:2\n",
      "             |- ODU0:3\n",
      "             |- ODU0:4\n",
      "             |- ODU0:5\n",
      "             |- ODU0:6\n",
      "             |- ODU0:7\n",
      "             |- ODU0:8\n",
      " |- 2（IN2/OUT2)\n",
      "     |- OCh:1\n",
      "         |- ODU2:1\n",
      "             |- ODUflex:1\n",
      "             |- ODUflex:2\n",
      "             |- ODU1:1\n",
      "             |- ODU1:2\n",
      "             |- ODU1:3\n",
      "             |- ODU1:4\n",
      "             |- ODU0:1\n",
      "             |- ODU0:2\n",
      "             |- ODU0:3\n",
      "             |- ODU0:4\n",
      "             |- ODU0:5\n",
      "             |- ODU0:6\n",
      "             |- ODU0:7\n",
      "             |- ODU0:8\n",
      " |- 3（IN3/OUT3)\n",
      "     |- OCh:1\n",
      "         |- ODU2:1\n",
      "             |- ODUflex:1\n",
      "             |- ODUflex:2\n",
      "             |- ODU1:1\n",
      "             |- ODU1:2\n",
      "             |- ODU1:3\n",
      "             |- ODU1:4\n",
      "             |- ODU0:1\n",
      "             |- ODU0:2\n",
      "             |- ODU0:3\n",
      "             |- ODU0:4\n",
      "             |- ODU0:5\n",
      "             |- ODU0:6\n",
      "             |- ODU0:7\n",
      "             |- ODU0:8\n",
      " |- 4（IN4/OUT4)\n",
      "     |- OCh:1\n",
      "         |- ODU2:1\n",
      "             |- ODUflex:1\n",
      "             |- ODUflex:2\n",
      "             |- ODU1:1\n",
      "             |- ODU1:2\n",
      "             |- ODU1:3\n",
      "             |- ODU1:4\n",
      "             |- ODU0:1\n",
      "             |- ODU0:2\n",
      "             |- ODU0:3\n",
      "             |- ODU0:4\n",
      "             |- ODU0:5\n",
      "             |- ODU0:6\n",
      "             |- ODU0:7\n",
      "             |- ODU0:8\n"
     ]
    },
    {
     "data": {
      "text/plain": [
       "TreeNode(161(ODU0LP1/ODU0LP1)-1)"
      ]
     },
     "execution_count": 59,
     "metadata": {},
     "output_type": "execute_result"
    },
    {
     "data": {
      "text/plain": [
       "TreeNode(161(ODU0LP1/ODU0LP1)-2)"
      ]
     },
     "execution_count": 59,
     "metadata": {},
     "output_type": "execute_result"
    },
    {
     "data": {
      "text/plain": [
       "TreeNode(162(ODU0LP2/ODU0LP2)-1)"
      ]
     },
     "execution_count": 59,
     "metadata": {},
     "output_type": "execute_result"
    },
    {
     "data": {
      "text/plain": [
       "TreeNode(162(ODU0LP2/ODU0LP2)-2)"
      ]
     },
     "execution_count": 59,
     "metadata": {},
     "output_type": "execute_result"
    },
    {
     "data": {
      "text/plain": [
       "TreeNode(163(ODU0LP3/ODU0LP3)-1)"
      ]
     },
     "execution_count": 59,
     "metadata": {},
     "output_type": "execute_result"
    },
    {
     "data": {
      "text/plain": [
       "TreeNode(163(ODU0LP3/ODU0LP3)-2)"
      ]
     },
     "execution_count": 59,
     "metadata": {},
     "output_type": "execute_result"
    },
    {
     "data": {
      "text/plain": [
       "TreeNode(164(ODU0LP4/ODU0LP4)-1)"
      ]
     },
     "execution_count": 59,
     "metadata": {},
     "output_type": "execute_result"
    },
    {
     "data": {
      "text/plain": [
       "TreeNode(164(ODU0LP4/ODU0LP4)-2)"
      ]
     },
     "execution_count": 59,
     "metadata": {},
     "output_type": "execute_result"
    },
    {
     "data": {
      "text/plain": [
       "TreeNode(165(ODU0LP5/ODU0LP5)-1)"
      ]
     },
     "execution_count": 59,
     "metadata": {},
     "output_type": "execute_result"
    },
    {
     "data": {
      "text/plain": [
       "TreeNode(165(ODU0LP5/ODU0LP5)-2)"
      ]
     },
     "execution_count": 59,
     "metadata": {},
     "output_type": "execute_result"
    },
    {
     "data": {
      "text/plain": [
       "TreeNode(166(ODU0LP6/ODU0LP6)-1)"
      ]
     },
     "execution_count": 59,
     "metadata": {},
     "output_type": "execute_result"
    },
    {
     "data": {
      "text/plain": [
       "TreeNode(166(ODU0LP6/ODU0LP6)-2)"
      ]
     },
     "execution_count": 59,
     "metadata": {},
     "output_type": "execute_result"
    },
    {
     "data": {
      "text/plain": [
       "TreeNode(167(ODU0LP7/ODU0LP7)-1)"
      ]
     },
     "execution_count": 59,
     "metadata": {},
     "output_type": "execute_result"
    },
    {
     "data": {
      "text/plain": [
       "TreeNode(167(ODU0LP7/ODU0LP7)-2)"
      ]
     },
     "execution_count": 59,
     "metadata": {},
     "output_type": "execute_result"
    },
    {
     "data": {
      "text/plain": [
       "TreeNode(168(ODU0LP8/ODU0LP8)-1)"
      ]
     },
     "execution_count": 59,
     "metadata": {},
     "output_type": "execute_result"
    },
    {
     "data": {
      "text/plain": [
       "TreeNode(168(ODU0LP8/ODU0LP8)-2)"
      ]
     },
     "execution_count": 59,
     "metadata": {},
     "output_type": "execute_result"
    },
    {
     "data": {
      "text/plain": [
       "TreeNode(169(ODU0LP9/ODU0LP9)-1)"
      ]
     },
     "execution_count": 59,
     "metadata": {},
     "output_type": "execute_result"
    },
    {
     "data": {
      "text/plain": [
       "TreeNode(169(ODU0LP9/ODU0LP9)-2)"
      ]
     },
     "execution_count": 59,
     "metadata": {},
     "output_type": "execute_result"
    },
    {
     "data": {
      "text/plain": [
       "TreeNode(170(ODU0LP10/ODU0LP10)-1)"
      ]
     },
     "execution_count": 59,
     "metadata": {},
     "output_type": "execute_result"
    },
    {
     "data": {
      "text/plain": [
       "TreeNode(170(ODU0LP10/ODU0LP10)-2)"
      ]
     },
     "execution_count": 59,
     "metadata": {},
     "output_type": "execute_result"
    },
    {
     "data": {
      "text/plain": [
       "TreeNode(171(ODU0LP11/ODU0LP11)-1)"
      ]
     },
     "execution_count": 59,
     "metadata": {},
     "output_type": "execute_result"
    },
    {
     "data": {
      "text/plain": [
       "TreeNode(171(ODU0LP11/ODU0LP11)-2)"
      ]
     },
     "execution_count": 59,
     "metadata": {},
     "output_type": "execute_result"
    },
    {
     "data": {
      "text/plain": [
       "TreeNode(172(ODU0LP12/ODU0LP12)-1)"
      ]
     },
     "execution_count": 59,
     "metadata": {},
     "output_type": "execute_result"
    },
    {
     "data": {
      "text/plain": [
       "TreeNode(172(ODU0LP12/ODU0LP12)-2)"
      ]
     },
     "execution_count": 59,
     "metadata": {},
     "output_type": "execute_result"
    },
    {
     "data": {
      "text/plain": [
       "TreeNode(173(ODU0LP13/ODU0LP13)-1)"
      ]
     },
     "execution_count": 59,
     "metadata": {},
     "output_type": "execute_result"
    },
    {
     "data": {
      "text/plain": [
       "TreeNode(173(ODU0LP13/ODU0LP13)-2)"
      ]
     },
     "execution_count": 59,
     "metadata": {},
     "output_type": "execute_result"
    },
    {
     "data": {
      "text/plain": [
       "TreeNode(174(ODU0LP14/ODU0LP14)-1)"
      ]
     },
     "execution_count": 59,
     "metadata": {},
     "output_type": "execute_result"
    },
    {
     "data": {
      "text/plain": [
       "TreeNode(174(ODU0LP14/ODU0LP14)-2)"
      ]
     },
     "execution_count": 59,
     "metadata": {},
     "output_type": "execute_result"
    },
    {
     "data": {
      "text/plain": [
       "TreeNode(175(ODU0LP15/ODU0LP15)-1)"
      ]
     },
     "execution_count": 59,
     "metadata": {},
     "output_type": "execute_result"
    },
    {
     "data": {
      "text/plain": [
       "TreeNode(175(ODU0LP15/ODU0LP15)-2)"
      ]
     },
     "execution_count": 59,
     "metadata": {},
     "output_type": "execute_result"
    },
    {
     "data": {
      "text/plain": [
       "TreeNode(176(ODU0LP16/ODU0LP16)-1)"
      ]
     },
     "execution_count": 59,
     "metadata": {},
     "output_type": "execute_result"
    },
    {
     "data": {
      "text/plain": [
       "TreeNode(176(ODU0LP16/ODU0LP16)-2)"
      ]
     },
     "execution_count": 59,
     "metadata": {},
     "output_type": "execute_result"
    },
    {
     "name": "stdout",
     "output_type": "stream",
     "text": [
      "54NQ2\n",
      " |- 1(IN1/OUT1)\n",
      "     |- 71(ODU2LP/ODU2LP)-1\n",
      "         |- 51(ODU1LP1/ODU1LP1)-1\n",
      "             |- 161(ODU0LP1/ODU0LP1)-1\n",
      "             |- 161(ODU0LP1/ODU0LP1)-2\n",
      "         |- 51(ODU1LP1/ODU1LP1)-2\n",
      "             |- 162(ODU0LP2/ODU0LP2)-1\n",
      "             |- 162(ODU0LP2/ODU0LP2)-2\n",
      "         |- 51(ODU1LP1/ODU1LP1)-3\n",
      "             |- 163(ODU0LP3/ODU0LP3)-1\n",
      "             |- 163(ODU0LP3/ODU0LP3)-2\n",
      "         |- 51(ODU1LP1/ODU1LP1)-4\n",
      "             |- 164(ODU0LP4/ODU0LP4)-1\n",
      "             |- 164(ODU0LP4/ODU0LP4)-2\n",
      " |- 1(IN1/OUT2)\n",
      "     |- 72(ODU2LP/ODU2LP)-1\n",
      "         |- 52(ODU1LP2/ODU1LP2)-1\n",
      "             |- 165(ODU0LP5/ODU0LP5)-1\n",
      "             |- 165(ODU0LP5/ODU0LP5)-2\n",
      "         |- 52(ODU1LP2/ODU1LP2)-2\n",
      "             |- 166(ODU0LP6/ODU0LP6)-1\n",
      "             |- 166(ODU0LP6/ODU0LP6)-2\n",
      "         |- 52(ODU1LP2/ODU1LP2)-3\n",
      "             |- 167(ODU0LP7/ODU0LP7)-1\n",
      "             |- 167(ODU0LP7/ODU0LP7)-2\n",
      "         |- 52(ODU1LP2/ODU1LP2)-4\n",
      "             |- 168(ODU0LP8/ODU0LP8)-1\n",
      "             |- 168(ODU0LP8/ODU0LP8)-2\n",
      " |- 1(IN1/OUT3)\n",
      "     |- 73(ODU2LP/ODU2LP)-1\n",
      "         |- 53(ODU1LP3/ODU1LP3)-1\n",
      "             |- 169(ODU0LP9/ODU0LP9)-1\n",
      "             |- 169(ODU0LP9/ODU0LP9)-2\n",
      "         |- 53(ODU1LP3/ODU1LP3)-2\n",
      "             |- 170(ODU0LP10/ODU0LP10)-1\n",
      "             |- 170(ODU0LP10/ODU0LP10)-2\n",
      "         |- 53(ODU1LP3/ODU1LP3)-3\n",
      "             |- 171(ODU0LP11/ODU0LP11)-1\n",
      "             |- 171(ODU0LP11/ODU0LP11)-2\n",
      "         |- 53(ODU1LP3/ODU1LP3)-4\n",
      "             |- 172(ODU0LP12/ODU0LP12)-1\n",
      "             |- 172(ODU0LP12/ODU0LP12)-2\n",
      " |- 1(IN1/OUT4)\n",
      "     |- 74(ODU2LP/ODU2LP)-1\n",
      "         |- 54(ODU1LP4/ODU1LP4)-1\n",
      "             |- 173(ODU0LP13/ODU0LP13)-1\n",
      "             |- 173(ODU0LP13/ODU0LP13)-2\n",
      "         |- 54(ODU1LP4/ODU1LP4)-2\n",
      "             |- 174(ODU0LP14/ODU0LP14)-1\n",
      "             |- 174(ODU0LP14/ODU0LP14)-2\n",
      "         |- 54(ODU1LP4/ODU1LP4)-3\n",
      "             |- 175(ODU0LP15/ODU0LP15)-1\n",
      "             |- 175(ODU0LP15/ODU0LP15)-2\n",
      "         |- 54(ODU1LP4/ODU1LP4)-4\n",
      "             |- 176(ODU0LP16/ODU0LP16)-1\n",
      "             |- 176(ODU0LP16/ODU0LP16)-2\n"
     ]
    },
    {
     "data": {
      "text/plain": [
       "TreeNode(ODU3:1)"
      ]
     },
     "execution_count": 59,
     "metadata": {},
     "output_type": "execute_result"
    },
    {
     "data": {
      "text/plain": [
       "TreeNode(ODU3:2)"
      ]
     },
     "execution_count": 59,
     "metadata": {},
     "output_type": "execute_result"
    },
    {
     "data": {
      "text/plain": [
       "TreeNode(ODU2:1)"
      ]
     },
     "execution_count": 59,
     "metadata": {},
     "output_type": "execute_result"
    },
    {
     "data": {
      "text/plain": [
       "TreeNode(ODU2:2)"
      ]
     },
     "execution_count": 59,
     "metadata": {},
     "output_type": "execute_result"
    },
    {
     "data": {
      "text/plain": [
       "TreeNode(ODU2:3)"
      ]
     },
     "execution_count": 59,
     "metadata": {},
     "output_type": "execute_result"
    },
    {
     "data": {
      "text/plain": [
       "TreeNode(ODU2:4)"
      ]
     },
     "execution_count": 59,
     "metadata": {},
     "output_type": "execute_result"
    },
    {
     "data": {
      "text/plain": [
       "TreeNode(ODU2:5)"
      ]
     },
     "execution_count": 59,
     "metadata": {},
     "output_type": "execute_result"
    },
    {
     "data": {
      "text/plain": [
       "TreeNode(ODU2:6)"
      ]
     },
     "execution_count": 59,
     "metadata": {},
     "output_type": "execute_result"
    },
    {
     "data": {
      "text/plain": [
       "TreeNode(ODU2:7)"
      ]
     },
     "execution_count": 59,
     "metadata": {},
     "output_type": "execute_result"
    },
    {
     "data": {
      "text/plain": [
       "TreeNode(ODU2:8)"
      ]
     },
     "execution_count": 59,
     "metadata": {},
     "output_type": "execute_result"
    },
    {
     "data": {
      "text/plain": [
       "TreeNode(ODU2:9)"
      ]
     },
     "execution_count": 59,
     "metadata": {},
     "output_type": "execute_result"
    },
    {
     "data": {
      "text/plain": [
       "TreeNode(ODU2:10)"
      ]
     },
     "execution_count": 59,
     "metadata": {},
     "output_type": "execute_result"
    },
    {
     "data": {
      "text/plain": [
       "TreeNode(ODU1:1)"
      ]
     },
     "execution_count": 59,
     "metadata": {},
     "output_type": "execute_result"
    },
    {
     "data": {
      "text/plain": [
       "TreeNode(ODU1:2)"
      ]
     },
     "execution_count": 59,
     "metadata": {},
     "output_type": "execute_result"
    },
    {
     "data": {
      "text/plain": [
       "TreeNode(ODU1:3)"
      ]
     },
     "execution_count": 59,
     "metadata": {},
     "output_type": "execute_result"
    },
    {
     "data": {
      "text/plain": [
       "TreeNode(ODU1:4)"
      ]
     },
     "execution_count": 59,
     "metadata": {},
     "output_type": "execute_result"
    },
    {
     "data": {
      "text/plain": [
       "TreeNode(ODU1:5)"
      ]
     },
     "execution_count": 59,
     "metadata": {},
     "output_type": "execute_result"
    },
    {
     "data": {
      "text/plain": [
       "TreeNode(ODU1:6)"
      ]
     },
     "execution_count": 59,
     "metadata": {},
     "output_type": "execute_result"
    },
    {
     "data": {
      "text/plain": [
       "TreeNode(ODU1:7)"
      ]
     },
     "execution_count": 59,
     "metadata": {},
     "output_type": "execute_result"
    },
    {
     "data": {
      "text/plain": [
       "TreeNode(ODU1:8)"
      ]
     },
     "execution_count": 59,
     "metadata": {},
     "output_type": "execute_result"
    },
    {
     "data": {
      "text/plain": [
       "TreeNode(ODU1:9)"
      ]
     },
     "execution_count": 59,
     "metadata": {},
     "output_type": "execute_result"
    },
    {
     "data": {
      "text/plain": [
       "TreeNode(ODU1:10)"
      ]
     },
     "execution_count": 59,
     "metadata": {},
     "output_type": "execute_result"
    },
    {
     "data": {
      "text/plain": [
       "TreeNode(ODU1:11)"
      ]
     },
     "execution_count": 59,
     "metadata": {},
     "output_type": "execute_result"
    },
    {
     "data": {
      "text/plain": [
       "TreeNode(ODU1:12)"
      ]
     },
     "execution_count": 59,
     "metadata": {},
     "output_type": "execute_result"
    },
    {
     "data": {
      "text/plain": [
       "TreeNode(ODU1:13)"
      ]
     },
     "execution_count": 59,
     "metadata": {},
     "output_type": "execute_result"
    },
    {
     "data": {
      "text/plain": [
       "TreeNode(ODU1:14)"
      ]
     },
     "execution_count": 59,
     "metadata": {},
     "output_type": "execute_result"
    },
    {
     "data": {
      "text/plain": [
       "TreeNode(ODU1:15)"
      ]
     },
     "execution_count": 59,
     "metadata": {},
     "output_type": "execute_result"
    },
    {
     "data": {
      "text/plain": [
       "TreeNode(ODU1:16)"
      ]
     },
     "execution_count": 59,
     "metadata": {},
     "output_type": "execute_result"
    },
    {
     "data": {
      "text/plain": [
       "TreeNode(ODU1:17)"
      ]
     },
     "execution_count": 59,
     "metadata": {},
     "output_type": "execute_result"
    },
    {
     "data": {
      "text/plain": [
       "TreeNode(ODU1:18)"
      ]
     },
     "execution_count": 59,
     "metadata": {},
     "output_type": "execute_result"
    },
    {
     "data": {
      "text/plain": [
       "TreeNode(ODU1:19)"
      ]
     },
     "execution_count": 59,
     "metadata": {},
     "output_type": "execute_result"
    },
    {
     "data": {
      "text/plain": [
       "TreeNode(ODU1:20)"
      ]
     },
     "execution_count": 59,
     "metadata": {},
     "output_type": "execute_result"
    },
    {
     "data": {
      "text/plain": [
       "TreeNode(ODU1:21)"
      ]
     },
     "execution_count": 59,
     "metadata": {},
     "output_type": "execute_result"
    },
    {
     "data": {
      "text/plain": [
       "TreeNode(ODU1:22)"
      ]
     },
     "execution_count": 59,
     "metadata": {},
     "output_type": "execute_result"
    },
    {
     "data": {
      "text/plain": [
       "TreeNode(ODU1:23)"
      ]
     },
     "execution_count": 59,
     "metadata": {},
     "output_type": "execute_result"
    },
    {
     "data": {
      "text/plain": [
       "TreeNode(ODU1:24)"
      ]
     },
     "execution_count": 59,
     "metadata": {},
     "output_type": "execute_result"
    },
    {
     "data": {
      "text/plain": [
       "TreeNode(ODU1:25)"
      ]
     },
     "execution_count": 59,
     "metadata": {},
     "output_type": "execute_result"
    },
    {
     "data": {
      "text/plain": [
       "TreeNode(ODU1:26)"
      ]
     },
     "execution_count": 59,
     "metadata": {},
     "output_type": "execute_result"
    },
    {
     "data": {
      "text/plain": [
       "TreeNode(ODU1:27)"
      ]
     },
     "execution_count": 59,
     "metadata": {},
     "output_type": "execute_result"
    },
    {
     "data": {
      "text/plain": [
       "TreeNode(ODU1:28)"
      ]
     },
     "execution_count": 59,
     "metadata": {},
     "output_type": "execute_result"
    },
    {
     "data": {
      "text/plain": [
       "TreeNode(ODU1:29)"
      ]
     },
     "execution_count": 59,
     "metadata": {},
     "output_type": "execute_result"
    },
    {
     "data": {
      "text/plain": [
       "TreeNode(ODU1:30)"
      ]
     },
     "execution_count": 59,
     "metadata": {},
     "output_type": "execute_result"
    },
    {
     "data": {
      "text/plain": [
       "TreeNode(ODU1:31)"
      ]
     },
     "execution_count": 59,
     "metadata": {},
     "output_type": "execute_result"
    },
    {
     "data": {
      "text/plain": [
       "TreeNode(ODU1:32)"
      ]
     },
     "execution_count": 59,
     "metadata": {},
     "output_type": "execute_result"
    },
    {
     "data": {
      "text/plain": [
       "TreeNode(ODU1:33)"
      ]
     },
     "execution_count": 59,
     "metadata": {},
     "output_type": "execute_result"
    },
    {
     "data": {
      "text/plain": [
       "TreeNode(ODU1:34)"
      ]
     },
     "execution_count": 59,
     "metadata": {},
     "output_type": "execute_result"
    },
    {
     "data": {
      "text/plain": [
       "TreeNode(ODU1:35)"
      ]
     },
     "execution_count": 59,
     "metadata": {},
     "output_type": "execute_result"
    },
    {
     "data": {
      "text/plain": [
       "TreeNode(ODU1:36)"
      ]
     },
     "execution_count": 59,
     "metadata": {},
     "output_type": "execute_result"
    },
    {
     "data": {
      "text/plain": [
       "TreeNode(ODU1:37)"
      ]
     },
     "execution_count": 59,
     "metadata": {},
     "output_type": "execute_result"
    },
    {
     "data": {
      "text/plain": [
       "TreeNode(ODU1:38)"
      ]
     },
     "execution_count": 59,
     "metadata": {},
     "output_type": "execute_result"
    },
    {
     "data": {
      "text/plain": [
       "TreeNode(ODU1:39)"
      ]
     },
     "execution_count": 59,
     "metadata": {},
     "output_type": "execute_result"
    },
    {
     "data": {
      "text/plain": [
       "TreeNode(ODU1:40)"
      ]
     },
     "execution_count": 59,
     "metadata": {},
     "output_type": "execute_result"
    },
    {
     "data": {
      "text/plain": [
       "TreeNode(ODU0:1)"
      ]
     },
     "execution_count": 59,
     "metadata": {},
     "output_type": "execute_result"
    },
    {
     "data": {
      "text/plain": [
       "TreeNode(ODU0:2)"
      ]
     },
     "execution_count": 59,
     "metadata": {},
     "output_type": "execute_result"
    },
    {
     "data": {
      "text/plain": [
       "TreeNode(ODU0:3)"
      ]
     },
     "execution_count": 59,
     "metadata": {},
     "output_type": "execute_result"
    },
    {
     "data": {
      "text/plain": [
       "TreeNode(ODU0:4)"
      ]
     },
     "execution_count": 59,
     "metadata": {},
     "output_type": "execute_result"
    },
    {
     "data": {
      "text/plain": [
       "TreeNode(ODU0:5)"
      ]
     },
     "execution_count": 59,
     "metadata": {},
     "output_type": "execute_result"
    },
    {
     "data": {
      "text/plain": [
       "TreeNode(ODU0:6)"
      ]
     },
     "execution_count": 59,
     "metadata": {},
     "output_type": "execute_result"
    },
    {
     "data": {
      "text/plain": [
       "TreeNode(ODU0:7)"
      ]
     },
     "execution_count": 59,
     "metadata": {},
     "output_type": "execute_result"
    },
    {
     "data": {
      "text/plain": [
       "TreeNode(ODU0:8)"
      ]
     },
     "execution_count": 59,
     "metadata": {},
     "output_type": "execute_result"
    },
    {
     "data": {
      "text/plain": [
       "TreeNode(ODU0:9)"
      ]
     },
     "execution_count": 59,
     "metadata": {},
     "output_type": "execute_result"
    },
    {
     "data": {
      "text/plain": [
       "TreeNode(ODU0:10)"
      ]
     },
     "execution_count": 59,
     "metadata": {},
     "output_type": "execute_result"
    },
    {
     "data": {
      "text/plain": [
       "TreeNode(ODU0:11)"
      ]
     },
     "execution_count": 59,
     "metadata": {},
     "output_type": "execute_result"
    },
    {
     "data": {
      "text/plain": [
       "TreeNode(ODU0:12)"
      ]
     },
     "execution_count": 59,
     "metadata": {},
     "output_type": "execute_result"
    },
    {
     "data": {
      "text/plain": [
       "TreeNode(ODU0:13)"
      ]
     },
     "execution_count": 59,
     "metadata": {},
     "output_type": "execute_result"
    },
    {
     "data": {
      "text/plain": [
       "TreeNode(ODU0:14)"
      ]
     },
     "execution_count": 59,
     "metadata": {},
     "output_type": "execute_result"
    },
    {
     "data": {
      "text/plain": [
       "TreeNode(ODU0:15)"
      ]
     },
     "execution_count": 59,
     "metadata": {},
     "output_type": "execute_result"
    },
    {
     "data": {
      "text/plain": [
       "TreeNode(ODU0:16)"
      ]
     },
     "execution_count": 59,
     "metadata": {},
     "output_type": "execute_result"
    },
    {
     "data": {
      "text/plain": [
       "TreeNode(ODU0:17)"
      ]
     },
     "execution_count": 59,
     "metadata": {},
     "output_type": "execute_result"
    },
    {
     "data": {
      "text/plain": [
       "TreeNode(ODU0:18)"
      ]
     },
     "execution_count": 59,
     "metadata": {},
     "output_type": "execute_result"
    },
    {
     "data": {
      "text/plain": [
       "TreeNode(ODU0:19)"
      ]
     },
     "execution_count": 59,
     "metadata": {},
     "output_type": "execute_result"
    },
    {
     "data": {
      "text/plain": [
       "TreeNode(ODU0:20)"
      ]
     },
     "execution_count": 59,
     "metadata": {},
     "output_type": "execute_result"
    },
    {
     "data": {
      "text/plain": [
       "TreeNode(ODU0:21)"
      ]
     },
     "execution_count": 59,
     "metadata": {},
     "output_type": "execute_result"
    },
    {
     "data": {
      "text/plain": [
       "TreeNode(ODU0:22)"
      ]
     },
     "execution_count": 59,
     "metadata": {},
     "output_type": "execute_result"
    },
    {
     "data": {
      "text/plain": [
       "TreeNode(ODU0:23)"
      ]
     },
     "execution_count": 59,
     "metadata": {},
     "output_type": "execute_result"
    },
    {
     "data": {
      "text/plain": [
       "TreeNode(ODU0:24)"
      ]
     },
     "execution_count": 59,
     "metadata": {},
     "output_type": "execute_result"
    },
    {
     "data": {
      "text/plain": [
       "TreeNode(ODU0:25)"
      ]
     },
     "execution_count": 59,
     "metadata": {},
     "output_type": "execute_result"
    },
    {
     "data": {
      "text/plain": [
       "TreeNode(ODU0:26)"
      ]
     },
     "execution_count": 59,
     "metadata": {},
     "output_type": "execute_result"
    },
    {
     "data": {
      "text/plain": [
       "TreeNode(ODU0:27)"
      ]
     },
     "execution_count": 59,
     "metadata": {},
     "output_type": "execute_result"
    },
    {
     "data": {
      "text/plain": [
       "TreeNode(ODU0:28)"
      ]
     },
     "execution_count": 59,
     "metadata": {},
     "output_type": "execute_result"
    },
    {
     "data": {
      "text/plain": [
       "TreeNode(ODU0:29)"
      ]
     },
     "execution_count": 59,
     "metadata": {},
     "output_type": "execute_result"
    },
    {
     "data": {
      "text/plain": [
       "TreeNode(ODU0:30)"
      ]
     },
     "execution_count": 59,
     "metadata": {},
     "output_type": "execute_result"
    },
    {
     "data": {
      "text/plain": [
       "TreeNode(ODU0:31)"
      ]
     },
     "execution_count": 59,
     "metadata": {},
     "output_type": "execute_result"
    },
    {
     "data": {
      "text/plain": [
       "TreeNode(ODU0:32)"
      ]
     },
     "execution_count": 59,
     "metadata": {},
     "output_type": "execute_result"
    },
    {
     "data": {
      "text/plain": [
       "TreeNode(ODU0:33)"
      ]
     },
     "execution_count": 59,
     "metadata": {},
     "output_type": "execute_result"
    },
    {
     "data": {
      "text/plain": [
       "TreeNode(ODU0:34)"
      ]
     },
     "execution_count": 59,
     "metadata": {},
     "output_type": "execute_result"
    },
    {
     "data": {
      "text/plain": [
       "TreeNode(ODU0:35)"
      ]
     },
     "execution_count": 59,
     "metadata": {},
     "output_type": "execute_result"
    },
    {
     "data": {
      "text/plain": [
       "TreeNode(ODU0:36)"
      ]
     },
     "execution_count": 59,
     "metadata": {},
     "output_type": "execute_result"
    },
    {
     "data": {
      "text/plain": [
       "TreeNode(ODU0:37)"
      ]
     },
     "execution_count": 59,
     "metadata": {},
     "output_type": "execute_result"
    },
    {
     "data": {
      "text/plain": [
       "TreeNode(ODU0:38)"
      ]
     },
     "execution_count": 59,
     "metadata": {},
     "output_type": "execute_result"
    },
    {
     "data": {
      "text/plain": [
       "TreeNode(ODU0:39)"
      ]
     },
     "execution_count": 59,
     "metadata": {},
     "output_type": "execute_result"
    },
    {
     "data": {
      "text/plain": [
       "TreeNode(ODU0:40)"
      ]
     },
     "execution_count": 59,
     "metadata": {},
     "output_type": "execute_result"
    },
    {
     "data": {
      "text/plain": [
       "TreeNode(ODU0:41)"
      ]
     },
     "execution_count": 59,
     "metadata": {},
     "output_type": "execute_result"
    },
    {
     "data": {
      "text/plain": [
       "TreeNode(ODU0:42)"
      ]
     },
     "execution_count": 59,
     "metadata": {},
     "output_type": "execute_result"
    },
    {
     "data": {
      "text/plain": [
       "TreeNode(ODU0:43)"
      ]
     },
     "execution_count": 59,
     "metadata": {},
     "output_type": "execute_result"
    },
    {
     "data": {
      "text/plain": [
       "TreeNode(ODU0:44)"
      ]
     },
     "execution_count": 59,
     "metadata": {},
     "output_type": "execute_result"
    },
    {
     "data": {
      "text/plain": [
       "TreeNode(ODU0:45)"
      ]
     },
     "execution_count": 59,
     "metadata": {},
     "output_type": "execute_result"
    },
    {
     "data": {
      "text/plain": [
       "TreeNode(ODU0:46)"
      ]
     },
     "execution_count": 59,
     "metadata": {},
     "output_type": "execute_result"
    },
    {
     "data": {
      "text/plain": [
       "TreeNode(ODU0:47)"
      ]
     },
     "execution_count": 59,
     "metadata": {},
     "output_type": "execute_result"
    },
    {
     "data": {
      "text/plain": [
       "TreeNode(ODU0:48)"
      ]
     },
     "execution_count": 59,
     "metadata": {},
     "output_type": "execute_result"
    },
    {
     "data": {
      "text/plain": [
       "TreeNode(ODU0:49)"
      ]
     },
     "execution_count": 59,
     "metadata": {},
     "output_type": "execute_result"
    },
    {
     "data": {
      "text/plain": [
       "TreeNode(ODU0:50)"
      ]
     },
     "execution_count": 59,
     "metadata": {},
     "output_type": "execute_result"
    },
    {
     "data": {
      "text/plain": [
       "TreeNode(ODU0:51)"
      ]
     },
     "execution_count": 59,
     "metadata": {},
     "output_type": "execute_result"
    },
    {
     "data": {
      "text/plain": [
       "TreeNode(ODU0:52)"
      ]
     },
     "execution_count": 59,
     "metadata": {},
     "output_type": "execute_result"
    },
    {
     "data": {
      "text/plain": [
       "TreeNode(ODU0:53)"
      ]
     },
     "execution_count": 59,
     "metadata": {},
     "output_type": "execute_result"
    },
    {
     "data": {
      "text/plain": [
       "TreeNode(ODU0:54)"
      ]
     },
     "execution_count": 59,
     "metadata": {},
     "output_type": "execute_result"
    },
    {
     "data": {
      "text/plain": [
       "TreeNode(ODU0:55)"
      ]
     },
     "execution_count": 59,
     "metadata": {},
     "output_type": "execute_result"
    },
    {
     "data": {
      "text/plain": [
       "TreeNode(ODU0:56)"
      ]
     },
     "execution_count": 59,
     "metadata": {},
     "output_type": "execute_result"
    },
    {
     "data": {
      "text/plain": [
       "TreeNode(ODU0:57)"
      ]
     },
     "execution_count": 59,
     "metadata": {},
     "output_type": "execute_result"
    },
    {
     "data": {
      "text/plain": [
       "TreeNode(ODU0:58)"
      ]
     },
     "execution_count": 59,
     "metadata": {},
     "output_type": "execute_result"
    },
    {
     "data": {
      "text/plain": [
       "TreeNode(ODU0:59)"
      ]
     },
     "execution_count": 59,
     "metadata": {},
     "output_type": "execute_result"
    },
    {
     "data": {
      "text/plain": [
       "TreeNode(ODU0:60)"
      ]
     },
     "execution_count": 59,
     "metadata": {},
     "output_type": "execute_result"
    },
    {
     "data": {
      "text/plain": [
       "TreeNode(ODU0:61)"
      ]
     },
     "execution_count": 59,
     "metadata": {},
     "output_type": "execute_result"
    },
    {
     "data": {
      "text/plain": [
       "TreeNode(ODU0:62)"
      ]
     },
     "execution_count": 59,
     "metadata": {},
     "output_type": "execute_result"
    },
    {
     "data": {
      "text/plain": [
       "TreeNode(ODU0:63)"
      ]
     },
     "execution_count": 59,
     "metadata": {},
     "output_type": "execute_result"
    },
    {
     "data": {
      "text/plain": [
       "TreeNode(ODU0:64)"
      ]
     },
     "execution_count": 59,
     "metadata": {},
     "output_type": "execute_result"
    },
    {
     "data": {
      "text/plain": [
       "TreeNode(ODU0:65)"
      ]
     },
     "execution_count": 59,
     "metadata": {},
     "output_type": "execute_result"
    },
    {
     "data": {
      "text/plain": [
       "TreeNode(ODU0:66)"
      ]
     },
     "execution_count": 59,
     "metadata": {},
     "output_type": "execute_result"
    },
    {
     "data": {
      "text/plain": [
       "TreeNode(ODU0:67)"
      ]
     },
     "execution_count": 59,
     "metadata": {},
     "output_type": "execute_result"
    },
    {
     "data": {
      "text/plain": [
       "TreeNode(ODU0:68)"
      ]
     },
     "execution_count": 59,
     "metadata": {},
     "output_type": "execute_result"
    },
    {
     "data": {
      "text/plain": [
       "TreeNode(ODU0:69)"
      ]
     },
     "execution_count": 59,
     "metadata": {},
     "output_type": "execute_result"
    },
    {
     "data": {
      "text/plain": [
       "TreeNode(ODU0:70)"
      ]
     },
     "execution_count": 59,
     "metadata": {},
     "output_type": "execute_result"
    },
    {
     "data": {
      "text/plain": [
       "TreeNode(ODU0:71)"
      ]
     },
     "execution_count": 59,
     "metadata": {},
     "output_type": "execute_result"
    },
    {
     "data": {
      "text/plain": [
       "TreeNode(ODU0:72)"
      ]
     },
     "execution_count": 59,
     "metadata": {},
     "output_type": "execute_result"
    },
    {
     "data": {
      "text/plain": [
       "TreeNode(ODU0:73)"
      ]
     },
     "execution_count": 59,
     "metadata": {},
     "output_type": "execute_result"
    },
    {
     "data": {
      "text/plain": [
       "TreeNode(ODU0:74)"
      ]
     },
     "execution_count": 59,
     "metadata": {},
     "output_type": "execute_result"
    },
    {
     "data": {
      "text/plain": [
       "TreeNode(ODU0:75)"
      ]
     },
     "execution_count": 59,
     "metadata": {},
     "output_type": "execute_result"
    },
    {
     "data": {
      "text/plain": [
       "TreeNode(ODU0:76)"
      ]
     },
     "execution_count": 59,
     "metadata": {},
     "output_type": "execute_result"
    },
    {
     "data": {
      "text/plain": [
       "TreeNode(ODU0:77)"
      ]
     },
     "execution_count": 59,
     "metadata": {},
     "output_type": "execute_result"
    },
    {
     "data": {
      "text/plain": [
       "TreeNode(ODU0:78)"
      ]
     },
     "execution_count": 59,
     "metadata": {},
     "output_type": "execute_result"
    },
    {
     "data": {
      "text/plain": [
       "TreeNode(ODU0:79)"
      ]
     },
     "execution_count": 59,
     "metadata": {},
     "output_type": "execute_result"
    },
    {
     "data": {
      "text/plain": [
       "TreeNode(ODU0:80)"
      ]
     },
     "execution_count": 59,
     "metadata": {},
     "output_type": "execute_result"
    },
    {
     "data": {
      "text/plain": [
       "TreeNode(ODUflex:1)"
      ]
     },
     "execution_count": 59,
     "metadata": {},
     "output_type": "execute_result"
    },
    {
     "data": {
      "text/plain": [
       "TreeNode(ODUflex:2)"
      ]
     },
     "execution_count": 59,
     "metadata": {},
     "output_type": "execute_result"
    },
    {
     "data": {
      "text/plain": [
       "TreeNode(ODUflex:3)"
      ]
     },
     "execution_count": 59,
     "metadata": {},
     "output_type": "execute_result"
    },
    {
     "data": {
      "text/plain": [
       "TreeNode(ODUflex:4)"
      ]
     },
     "execution_count": 59,
     "metadata": {},
     "output_type": "execute_result"
    },
    {
     "data": {
      "text/plain": [
       "TreeNode(ODUflex:5)"
      ]
     },
     "execution_count": 59,
     "metadata": {},
     "output_type": "execute_result"
    },
    {
     "data": {
      "text/plain": [
       "TreeNode(ODUflex:6)"
      ]
     },
     "execution_count": 59,
     "metadata": {},
     "output_type": "execute_result"
    },
    {
     "data": {
      "text/plain": [
       "TreeNode(ODUflex:7)"
      ]
     },
     "execution_count": 59,
     "metadata": {},
     "output_type": "execute_result"
    },
    {
     "data": {
      "text/plain": [
       "TreeNode(ODUflex:8)"
      ]
     },
     "execution_count": 59,
     "metadata": {},
     "output_type": "execute_result"
    },
    {
     "data": {
      "text/plain": [
       "TreeNode(ODUflex:9)"
      ]
     },
     "execution_count": 59,
     "metadata": {},
     "output_type": "execute_result"
    },
    {
     "data": {
      "text/plain": [
       "TreeNode(ODUflex:10)"
      ]
     },
     "execution_count": 59,
     "metadata": {},
     "output_type": "execute_result"
    },
    {
     "data": {
      "text/plain": [
       "TreeNode(ODUflex:11)"
      ]
     },
     "execution_count": 59,
     "metadata": {},
     "output_type": "execute_result"
    },
    {
     "data": {
      "text/plain": [
       "TreeNode(ODUflex:12)"
      ]
     },
     "execution_count": 59,
     "metadata": {},
     "output_type": "execute_result"
    },
    {
     "data": {
      "text/plain": [
       "TreeNode(ODUflex:13)"
      ]
     },
     "execution_count": 59,
     "metadata": {},
     "output_type": "execute_result"
    },
    {
     "data": {
      "text/plain": [
       "TreeNode(ODUflex:14)"
      ]
     },
     "execution_count": 59,
     "metadata": {},
     "output_type": "execute_result"
    },
    {
     "data": {
      "text/plain": [
       "TreeNode(ODUflex:15)"
      ]
     },
     "execution_count": 59,
     "metadata": {},
     "output_type": "execute_result"
    },
    {
     "data": {
      "text/plain": [
       "TreeNode(ODUflex:16)"
      ]
     },
     "execution_count": 59,
     "metadata": {},
     "output_type": "execute_result"
    },
    {
     "data": {
      "text/plain": [
       "TreeNode(ODUflex:17)"
      ]
     },
     "execution_count": 59,
     "metadata": {},
     "output_type": "execute_result"
    },
    {
     "data": {
      "text/plain": [
       "TreeNode(ODUflex:18)"
      ]
     },
     "execution_count": 59,
     "metadata": {},
     "output_type": "execute_result"
    },
    {
     "data": {
      "text/plain": [
       "TreeNode(ODUflex:19)"
      ]
     },
     "execution_count": 59,
     "metadata": {},
     "output_type": "execute_result"
    },
    {
     "data": {
      "text/plain": [
       "TreeNode(ODUflex:20)"
      ]
     },
     "execution_count": 59,
     "metadata": {},
     "output_type": "execute_result"
    },
    {
     "data": {
      "text/plain": [
       "TreeNode(ODUflex:21)"
      ]
     },
     "execution_count": 59,
     "metadata": {},
     "output_type": "execute_result"
    },
    {
     "data": {
      "text/plain": [
       "TreeNode(ODUflex:22)"
      ]
     },
     "execution_count": 59,
     "metadata": {},
     "output_type": "execute_result"
    },
    {
     "data": {
      "text/plain": [
       "TreeNode(ODUflex:23)"
      ]
     },
     "execution_count": 59,
     "metadata": {},
     "output_type": "execute_result"
    },
    {
     "data": {
      "text/plain": [
       "TreeNode(ODUflex:24)"
      ]
     },
     "execution_count": 59,
     "metadata": {},
     "output_type": "execute_result"
    },
    {
     "data": {
      "text/plain": [
       "TreeNode(ODUflex:25)"
      ]
     },
     "execution_count": 59,
     "metadata": {},
     "output_type": "execute_result"
    },
    {
     "data": {
      "text/plain": [
       "TreeNode(ODUflex:26)"
      ]
     },
     "execution_count": 59,
     "metadata": {},
     "output_type": "execute_result"
    },
    {
     "data": {
      "text/plain": [
       "TreeNode(ODUflex:27)"
      ]
     },
     "execution_count": 59,
     "metadata": {},
     "output_type": "execute_result"
    },
    {
     "data": {
      "text/plain": [
       "TreeNode(ODUflex:28)"
      ]
     },
     "execution_count": 59,
     "metadata": {},
     "output_type": "execute_result"
    },
    {
     "data": {
      "text/plain": [
       "TreeNode(ODUflex:29)"
      ]
     },
     "execution_count": 59,
     "metadata": {},
     "output_type": "execute_result"
    },
    {
     "data": {
      "text/plain": [
       "TreeNode(ODUflex:30)"
      ]
     },
     "execution_count": 59,
     "metadata": {},
     "output_type": "execute_result"
    },
    {
     "data": {
      "text/plain": [
       "TreeNode(ODUflex:31)"
      ]
     },
     "execution_count": 59,
     "metadata": {},
     "output_type": "execute_result"
    },
    {
     "data": {
      "text/plain": [
       "TreeNode(ODUflex:32)"
      ]
     },
     "execution_count": 59,
     "metadata": {},
     "output_type": "execute_result"
    },
    {
     "data": {
      "text/plain": [
       "TreeNode(ODUflex:33)"
      ]
     },
     "execution_count": 59,
     "metadata": {},
     "output_type": "execute_result"
    },
    {
     "data": {
      "text/plain": [
       "TreeNode(ODUflex:34)"
      ]
     },
     "execution_count": 59,
     "metadata": {},
     "output_type": "execute_result"
    },
    {
     "data": {
      "text/plain": [
       "TreeNode(ODUflex:35)"
      ]
     },
     "execution_count": 59,
     "metadata": {},
     "output_type": "execute_result"
    },
    {
     "data": {
      "text/plain": [
       "TreeNode(ODUflex:36)"
      ]
     },
     "execution_count": 59,
     "metadata": {},
     "output_type": "execute_result"
    },
    {
     "data": {
      "text/plain": [
       "TreeNode(ODUflex:37)"
      ]
     },
     "execution_count": 59,
     "metadata": {},
     "output_type": "execute_result"
    },
    {
     "data": {
      "text/plain": [
       "TreeNode(ODUflex:38)"
      ]
     },
     "execution_count": 59,
     "metadata": {},
     "output_type": "execute_result"
    },
    {
     "data": {
      "text/plain": [
       "TreeNode(ODUflex:39)"
      ]
     },
     "execution_count": 59,
     "metadata": {},
     "output_type": "execute_result"
    },
    {
     "data": {
      "text/plain": [
       "TreeNode(ODUflex:40)"
      ]
     },
     "execution_count": 59,
     "metadata": {},
     "output_type": "execute_result"
    },
    {
     "data": {
      "text/plain": [
       "TreeNode(ODUflex:41)"
      ]
     },
     "execution_count": 59,
     "metadata": {},
     "output_type": "execute_result"
    },
    {
     "data": {
      "text/plain": [
       "TreeNode(ODUflex:42)"
      ]
     },
     "execution_count": 59,
     "metadata": {},
     "output_type": "execute_result"
    },
    {
     "data": {
      "text/plain": [
       "TreeNode(ODUflex:43)"
      ]
     },
     "execution_count": 59,
     "metadata": {},
     "output_type": "execute_result"
    },
    {
     "data": {
      "text/plain": [
       "TreeNode(ODUflex:44)"
      ]
     },
     "execution_count": 59,
     "metadata": {},
     "output_type": "execute_result"
    },
    {
     "data": {
      "text/plain": [
       "TreeNode(ODUflex:45)"
      ]
     },
     "execution_count": 59,
     "metadata": {},
     "output_type": "execute_result"
    },
    {
     "data": {
      "text/plain": [
       "TreeNode(ODUflex:46)"
      ]
     },
     "execution_count": 59,
     "metadata": {},
     "output_type": "execute_result"
    },
    {
     "data": {
      "text/plain": [
       "TreeNode(ODUflex:47)"
      ]
     },
     "execution_count": 59,
     "metadata": {},
     "output_type": "execute_result"
    },
    {
     "data": {
      "text/plain": [
       "TreeNode(ODUflex:48)"
      ]
     },
     "execution_count": 59,
     "metadata": {},
     "output_type": "execute_result"
    },
    {
     "data": {
      "text/plain": [
       "TreeNode(ODUflex:49)"
      ]
     },
     "execution_count": 59,
     "metadata": {},
     "output_type": "execute_result"
    },
    {
     "data": {
      "text/plain": [
       "TreeNode(ODUflex:50)"
      ]
     },
     "execution_count": 59,
     "metadata": {},
     "output_type": "execute_result"
    },
    {
     "data": {
      "text/plain": [
       "TreeNode(ODUflex:51)"
      ]
     },
     "execution_count": 59,
     "metadata": {},
     "output_type": "execute_result"
    },
    {
     "data": {
      "text/plain": [
       "TreeNode(ODUflex:52)"
      ]
     },
     "execution_count": 59,
     "metadata": {},
     "output_type": "execute_result"
    },
    {
     "data": {
      "text/plain": [
       "TreeNode(ODUflex:53)"
      ]
     },
     "execution_count": 59,
     "metadata": {},
     "output_type": "execute_result"
    },
    {
     "data": {
      "text/plain": [
       "TreeNode(ODUflex:54)"
      ]
     },
     "execution_count": 59,
     "metadata": {},
     "output_type": "execute_result"
    },
    {
     "data": {
      "text/plain": [
       "TreeNode(ODUflex:55)"
      ]
     },
     "execution_count": 59,
     "metadata": {},
     "output_type": "execute_result"
    },
    {
     "data": {
      "text/plain": [
       "TreeNode(ODUflex:56)"
      ]
     },
     "execution_count": 59,
     "metadata": {},
     "output_type": "execute_result"
    },
    {
     "data": {
      "text/plain": [
       "TreeNode(ODUflex:57)"
      ]
     },
     "execution_count": 59,
     "metadata": {},
     "output_type": "execute_result"
    },
    {
     "data": {
      "text/plain": [
       "TreeNode(ODUflex:58)"
      ]
     },
     "execution_count": 59,
     "metadata": {},
     "output_type": "execute_result"
    },
    {
     "data": {
      "text/plain": [
       "TreeNode(ODUflex:59)"
      ]
     },
     "execution_count": 59,
     "metadata": {},
     "output_type": "execute_result"
    },
    {
     "data": {
      "text/plain": [
       "TreeNode(ODUflex:60)"
      ]
     },
     "execution_count": 59,
     "metadata": {},
     "output_type": "execute_result"
    },
    {
     "data": {
      "text/plain": [
       "TreeNode(ODUflex:61)"
      ]
     },
     "execution_count": 59,
     "metadata": {},
     "output_type": "execute_result"
    },
    {
     "data": {
      "text/plain": [
       "TreeNode(ODUflex:62)"
      ]
     },
     "execution_count": 59,
     "metadata": {},
     "output_type": "execute_result"
    },
    {
     "data": {
      "text/plain": [
       "TreeNode(ODUflex:63)"
      ]
     },
     "execution_count": 59,
     "metadata": {},
     "output_type": "execute_result"
    },
    {
     "data": {
      "text/plain": [
       "TreeNode(ODUflex:64)"
      ]
     },
     "execution_count": 59,
     "metadata": {},
     "output_type": "execute_result"
    },
    {
     "data": {
      "text/plain": [
       "TreeNode(ODUflex:65)"
      ]
     },
     "execution_count": 59,
     "metadata": {},
     "output_type": "execute_result"
    },
    {
     "data": {
      "text/plain": [
       "TreeNode(ODUflex:66)"
      ]
     },
     "execution_count": 59,
     "metadata": {},
     "output_type": "execute_result"
    },
    {
     "data": {
      "text/plain": [
       "TreeNode(ODUflex:67)"
      ]
     },
     "execution_count": 59,
     "metadata": {},
     "output_type": "execute_result"
    },
    {
     "data": {
      "text/plain": [
       "TreeNode(ODUflex:68)"
      ]
     },
     "execution_count": 59,
     "metadata": {},
     "output_type": "execute_result"
    },
    {
     "data": {
      "text/plain": [
       "TreeNode(ODUflex:69)"
      ]
     },
     "execution_count": 59,
     "metadata": {},
     "output_type": "execute_result"
    },
    {
     "data": {
      "text/plain": [
       "TreeNode(ODUflex:70)"
      ]
     },
     "execution_count": 59,
     "metadata": {},
     "output_type": "execute_result"
    },
    {
     "data": {
      "text/plain": [
       "TreeNode(ODUflex:71)"
      ]
     },
     "execution_count": 59,
     "metadata": {},
     "output_type": "execute_result"
    },
    {
     "data": {
      "text/plain": [
       "TreeNode(ODUflex:72)"
      ]
     },
     "execution_count": 59,
     "metadata": {},
     "output_type": "execute_result"
    },
    {
     "data": {
      "text/plain": [
       "TreeNode(ODUflex:73)"
      ]
     },
     "execution_count": 59,
     "metadata": {},
     "output_type": "execute_result"
    },
    {
     "data": {
      "text/plain": [
       "TreeNode(ODUflex:74)"
      ]
     },
     "execution_count": 59,
     "metadata": {},
     "output_type": "execute_result"
    },
    {
     "data": {
      "text/plain": [
       "TreeNode(ODUflex:75)"
      ]
     },
     "execution_count": 59,
     "metadata": {},
     "output_type": "execute_result"
    },
    {
     "data": {
      "text/plain": [
       "TreeNode(ODUflex:76)"
      ]
     },
     "execution_count": 59,
     "metadata": {},
     "output_type": "execute_result"
    },
    {
     "data": {
      "text/plain": [
       "TreeNode(ODUflex:77)"
      ]
     },
     "execution_count": 59,
     "metadata": {},
     "output_type": "execute_result"
    },
    {
     "data": {
      "text/plain": [
       "TreeNode(ODUflex:78)"
      ]
     },
     "execution_count": 59,
     "metadata": {},
     "output_type": "execute_result"
    },
    {
     "data": {
      "text/plain": [
       "TreeNode(ODUflex:79)"
      ]
     },
     "execution_count": 59,
     "metadata": {},
     "output_type": "execute_result"
    },
    {
     "data": {
      "text/plain": [
       "TreeNode(ODUflex:80)"
      ]
     },
     "execution_count": 59,
     "metadata": {},
     "output_type": "execute_result"
    },
    {
     "name": "stdout",
     "output_type": "stream",
     "text": [
      "NS4\n",
      " |- 1(IN/OUT)\n",
      "     |- OCh:1\n",
      "         |- ODU4:1\n",
      "             |- ODU3:1\n",
      "             |- ODU3:2\n",
      "             |- ODU2:1\n",
      "             |- ODU2:2\n",
      "             |- ODU2:3\n",
      "             |- ODU2:4\n",
      "             |- ODU2:5\n",
      "             |- ODU2:6\n",
      "             |- ODU2:7\n",
      "             |- ODU2:8\n",
      "             |- ODU2:9\n",
      "             |- ODU2:10\n",
      "             |- ODU1:1\n",
      "             |- ODU1:2\n",
      "             |- ODU1:3\n",
      "             |- ODU1:4\n",
      "             |- ODU1:5\n",
      "             |- ODU1:6\n",
      "             |- ODU1:7\n",
      "             |- ODU1:8\n",
      "             |- ODU1:9\n",
      "             |- ODU1:10\n",
      "             |- ODU1:11\n",
      "             |- ODU1:12\n",
      "             |- ODU1:13\n",
      "             |- ODU1:14\n",
      "             |- ODU1:15\n",
      "             |- ODU1:16\n",
      "             |- ODU1:17\n",
      "             |- ODU1:18\n",
      "             |- ODU1:19\n",
      "             |- ODU1:20\n",
      "             |- ODU1:21\n",
      "             |- ODU1:22\n",
      "             |- ODU1:23\n",
      "             |- ODU1:24\n",
      "             |- ODU1:25\n",
      "             |- ODU1:26\n",
      "             |- ODU1:27\n",
      "             |- ODU1:28\n",
      "             |- ODU1:29\n",
      "             |- ODU1:30\n",
      "             |- ODU1:31\n",
      "             |- ODU1:32\n",
      "             |- ODU1:33\n",
      "             |- ODU1:34\n",
      "             |- ODU1:35\n",
      "             |- ODU1:36\n",
      "             |- ODU1:37\n",
      "             |- ODU1:38\n",
      "             |- ODU1:39\n",
      "             |- ODU1:40\n",
      "             |- ODU0:1\n",
      "             |- ODU0:2\n",
      "             |- ODU0:3\n",
      "             |- ODU0:4\n",
      "             |- ODU0:5\n",
      "             |- ODU0:6\n",
      "             |- ODU0:7\n",
      "             |- ODU0:8\n",
      "             |- ODU0:9\n",
      "             |- ODU0:10\n",
      "             |- ODU0:11\n",
      "             |- ODU0:12\n",
      "             |- ODU0:13\n",
      "             |- ODU0:14\n",
      "             |- ODU0:15\n",
      "             |- ODU0:16\n",
      "             |- ODU0:17\n",
      "             |- ODU0:18\n",
      "             |- ODU0:19\n",
      "             |- ODU0:20\n",
      "             |- ODU0:21\n",
      "             |- ODU0:22\n",
      "             |- ODU0:23\n",
      "             |- ODU0:24\n",
      "             |- ODU0:25\n",
      "             |- ODU0:26\n",
      "             |- ODU0:27\n",
      "             |- ODU0:28\n",
      "             |- ODU0:29\n",
      "             |- ODU0:30\n",
      "             |- ODU0:31\n",
      "             |- ODU0:32\n",
      "             |- ODU0:33\n",
      "             |- ODU0:34\n",
      "             |- ODU0:35\n",
      "             |- ODU0:36\n",
      "             |- ODU0:37\n",
      "             |- ODU0:38\n",
      "             |- ODU0:39\n",
      "             |- ODU0:40\n",
      "             |- ODU0:41\n",
      "             |- ODU0:42\n",
      "             |- ODU0:43\n",
      "             |- ODU0:44\n",
      "             |- ODU0:45\n",
      "             |- ODU0:46\n",
      "             |- ODU0:47\n",
      "             |- ODU0:48\n",
      "             |- ODU0:49\n",
      "             |- ODU0:50\n",
      "             |- ODU0:51\n",
      "             |- ODU0:52\n",
      "             |- ODU0:53\n",
      "             |- ODU0:54\n",
      "             |- ODU0:55\n",
      "             |- ODU0:56\n",
      "             |- ODU0:57\n",
      "             |- ODU0:58\n",
      "             |- ODU0:59\n",
      "             |- ODU0:60\n",
      "             |- ODU0:61\n",
      "             |- ODU0:62\n",
      "             |- ODU0:63\n",
      "             |- ODU0:64\n",
      "             |- ODU0:65\n",
      "             |- ODU0:66\n",
      "             |- ODU0:67\n",
      "             |- ODU0:68\n",
      "             |- ODU0:69\n",
      "             |- ODU0:70\n",
      "             |- ODU0:71\n",
      "             |- ODU0:72\n",
      "             |- ODU0:73\n",
      "             |- ODU0:74\n",
      "             |- ODU0:75\n",
      "             |- ODU0:76\n",
      "             |- ODU0:77\n",
      "             |- ODU0:78\n",
      "             |- ODU0:79\n",
      "             |- ODU0:80\n",
      "             |- ODUflex:1\n",
      "             |- ODUflex:2\n",
      "             |- ODUflex:3\n",
      "             |- ODUflex:4\n",
      "             |- ODUflex:5\n",
      "             |- ODUflex:6\n",
      "             |- ODUflex:7\n",
      "             |- ODUflex:8\n",
      "             |- ODUflex:9\n",
      "             |- ODUflex:10\n",
      "             |- ODUflex:11\n",
      "             |- ODUflex:12\n",
      "             |- ODUflex:13\n",
      "             |- ODUflex:14\n",
      "             |- ODUflex:15\n",
      "             |- ODUflex:16\n",
      "             |- ODUflex:17\n",
      "             |- ODUflex:18\n",
      "             |- ODUflex:19\n",
      "             |- ODUflex:20\n",
      "             |- ODUflex:21\n",
      "             |- ODUflex:22\n",
      "             |- ODUflex:23\n",
      "             |- ODUflex:24\n",
      "             |- ODUflex:25\n",
      "             |- ODUflex:26\n",
      "             |- ODUflex:27\n",
      "             |- ODUflex:28\n",
      "             |- ODUflex:29\n",
      "             |- ODUflex:30\n",
      "             |- ODUflex:31\n",
      "             |- ODUflex:32\n",
      "             |- ODUflex:33\n",
      "             |- ODUflex:34\n",
      "             |- ODUflex:35\n",
      "             |- ODUflex:36\n",
      "             |- ODUflex:37\n",
      "             |- ODUflex:38\n",
      "             |- ODUflex:39\n",
      "             |- ODUflex:40\n",
      "             |- ODUflex:41\n",
      "             |- ODUflex:42\n",
      "             |- ODUflex:43\n",
      "             |- ODUflex:44\n",
      "             |- ODUflex:45\n",
      "             |- ODUflex:46\n",
      "             |- ODUflex:47\n",
      "             |- ODUflex:48\n",
      "             |- ODUflex:49\n",
      "             |- ODUflex:50\n",
      "             |- ODUflex:51\n",
      "             |- ODUflex:52\n",
      "             |- ODUflex:53\n",
      "             |- ODUflex:54\n",
      "             |- ODUflex:55\n",
      "             |- ODUflex:56\n",
      "             |- ODUflex:57\n",
      "             |- ODUflex:58\n",
      "             |- ODUflex:59\n",
      "             |- ODUflex:60\n",
      "             |- ODUflex:61\n",
      "             |- ODUflex:62\n",
      "             |- ODUflex:63\n",
      "             |- ODUflex:64\n",
      "             |- ODUflex:65\n",
      "             |- ODUflex:66\n",
      "             |- ODUflex:67\n",
      "             |- ODUflex:68\n",
      "             |- ODUflex:69\n",
      "             |- ODUflex:70\n",
      "             |- ODUflex:71\n",
      "             |- ODUflex:72\n",
      "             |- ODUflex:73\n",
      "             |- ODUflex:74\n",
      "             |- ODUflex:75\n",
      "             |- ODUflex:76\n",
      "             |- ODUflex:77\n",
      "             |- ODUflex:78\n",
      "             |- ODUflex:79\n",
      "             |- ODUflex:80\n",
      "dict_keys(['ND2', '12ND2', '52ND2(STND)', '52ND2', '53ND2', '53ND2(COMP)', '57ND2', 'TN11NS2', 'TN12NS2', '52NS2(STND)', '52NS2', '53NS2', '53NS2(COMP)', 'NS3', '52NS3', '54NS3(STND)', '54NS3', '55NS3', '56NS3(自动随机)', '56NS3(自动连续)', '51NQ2', '52NQ2', '53NQ2', '53NQ2(COMP)', '57NQ2', '54NQ2', 'NS4'])\n"
     ]
    },
    {
     "data": {
      "text/html": [
       "<div>\n",
       "<style scoped>\n",
       "    .dataframe tbody tr th:only-of-type {\n",
       "        vertical-align: middle;\n",
       "    }\n",
       "\n",
       "    .dataframe tbody tr th {\n",
       "        vertical-align: top;\n",
       "    }\n",
       "\n",
       "    .dataframe thead th {\n",
       "        text-align: right;\n",
       "    }\n",
       "</style>\n",
       "<table border=\"1\" class=\"dataframe\">\n",
       "  <thead>\n",
       "    <tr style=\"text-align: right;\">\n",
       "      <th></th>\n",
       "      <th>名称</th>\n",
       "      <th>级别/容量</th>\n",
       "      <th>速率(bit/s)</th>\n",
       "      <th>上下行比例(发送:接收)</th>\n",
       "      <th>方向</th>\n",
       "      <th>源网元</th>\n",
       "      <th>源端口</th>\n",
       "      <th>宿网元</th>\n",
       "      <th>宿端口</th>\n",
       "      <th>长度(km)</th>\n",
       "      <th>...</th>\n",
       "      <th>纤缆类型</th>\n",
       "      <th>介质类型</th>\n",
       "      <th>创建时间</th>\n",
       "      <th>创建人员</th>\n",
       "      <th>维护人员</th>\n",
       "      <th>备注</th>\n",
       "      <th>告警级别</th>\n",
       "      <th>禁用状态</th>\n",
       "      <th>告警时间</th>\n",
       "      <th>维护状态</th>\n",
       "    </tr>\n",
       "  </thead>\n",
       "  <tbody>\n",
       "    <tr>\n",
       "      <th>0</th>\n",
       "      <td>f-1</td>\n",
       "      <td>WDM CORD</td>\n",
       "      <td>--</td>\n",
       "      <td>--</td>\n",
       "      <td>单纤单向</td>\n",
       "      <td>西安西咸数据中心调度环三OADM</td>\n",
       "      <td>875-调度环三西咸数据中心-子架3-6-12ST2-4(TMO1)</td>\n",
       "      <td>西安西咸数据中心调度环三OADM</td>\n",
       "      <td>875-调度环三西咸数据中心-子架1-9-11SFIU-2(OSC1/OSC2)</td>\n",
       "      <td>--</td>\n",
       "      <td>...</td>\n",
       "      <td>光纤</td>\n",
       "      <td>G.652</td>\n",
       "      <td>08/03/2018 14:26:47</td>\n",
       "      <td>yaoqian</td>\n",
       "      <td>yaoqian</td>\n",
       "      <td>-</td>\n",
       "      <td>正常</td>\n",
       "      <td>未禁用</td>\n",
       "      <td>-</td>\n",
       "      <td>IS</td>\n",
       "    </tr>\n",
       "    <tr>\n",
       "      <th>1</th>\n",
       "      <td>f-7</td>\n",
       "      <td>WDM CORD</td>\n",
       "      <td>--</td>\n",
       "      <td>--</td>\n",
       "      <td>单纤单向</td>\n",
       "      <td>西安西咸数据中心调度环四OADM</td>\n",
       "      <td>1086-调度环四西咸数据中心-子架0-25-U1N401P-1(IN1/OUT1)</td>\n",
       "      <td>西安西咸数据中心调度环四OADM</td>\n",
       "      <td>1084-调度环四西咸数据中心-子架3-1-13M40V-17(M16)</td>\n",
       "      <td>--</td>\n",
       "      <td>...</td>\n",
       "      <td>光纤</td>\n",
       "      <td>G.652</td>\n",
       "      <td>10/10/2018 14:39:17</td>\n",
       "      <td>yaoqian</td>\n",
       "      <td>yaoqian</td>\n",
       "      <td>-</td>\n",
       "      <td>正常</td>\n",
       "      <td>未禁用</td>\n",
       "      <td>-</td>\n",
       "      <td>IS</td>\n",
       "    </tr>\n",
       "    <tr>\n",
       "      <th>2</th>\n",
       "      <td>1027-陕北环四张家船-f-16</td>\n",
       "      <td>WDM CORD</td>\n",
       "      <td>--</td>\n",
       "      <td>--</td>\n",
       "      <td>单纤单向</td>\n",
       "      <td>渭南张家船陕北环四OLA</td>\n",
       "      <td>1027-陕北环四张家船-子架1-4-11SFIU-2(OSC1/OSC2)</td>\n",
       "      <td>渭南张家船陕北环四OLA</td>\n",
       "      <td>1027-陕北环四张家船-子架0-4-12ST2-2(RM2/TM2蒲城备用)</td>\n",
       "      <td>--</td>\n",
       "      <td>...</td>\n",
       "      <td>光纤</td>\n",
       "      <td>G.652</td>\n",
       "      <td>08/06/2018 16:28:53</td>\n",
       "      <td>admin</td>\n",
       "      <td>admin</td>\n",
       "      <td>-</td>\n",
       "      <td>正常</td>\n",
       "      <td>未禁用</td>\n",
       "      <td>-</td>\n",
       "      <td>IS</td>\n",
       "    </tr>\n",
       "    <tr>\n",
       "      <th>3</th>\n",
       "      <td>1025-陕北环四富县-f-6</td>\n",
       "      <td>WDM CORD</td>\n",
       "      <td>--</td>\n",
       "      <td>--</td>\n",
       "      <td>单纤单向</td>\n",
       "      <td>延安富县陕北环四OLA</td>\n",
       "      <td>1025-陕北环四富县-子架0-4-12ST2-1(延安方向备用)</td>\n",
       "      <td>延安富县陕北环四OLA</td>\n",
       "      <td>1025-陕北环四富县-子架0-4-12ST2-3(TMI1)</td>\n",
       "      <td>--</td>\n",
       "      <td>...</td>\n",
       "      <td>光纤</td>\n",
       "      <td>G.652</td>\n",
       "      <td>08/06/2018 16:28:55</td>\n",
       "      <td>admin</td>\n",
       "      <td>admin</td>\n",
       "      <td>-</td>\n",
       "      <td>正常</td>\n",
       "      <td>未禁用</td>\n",
       "      <td>-</td>\n",
       "      <td>IS</td>\n",
       "    </tr>\n",
       "    <tr>\n",
       "      <th>4</th>\n",
       "      <td>1025-陕北环四富县-f-9</td>\n",
       "      <td>WDM CORD</td>\n",
       "      <td>--</td>\n",
       "      <td>--</td>\n",
       "      <td>单纤单向</td>\n",
       "      <td>延安富县陕北环四OLA</td>\n",
       "      <td>1025-陕北环四富县-子架0-4-12ST2-6(TMO2)</td>\n",
       "      <td>延安富县陕北环四OLA</td>\n",
       "      <td>1025-陕北环四富县-子架1-4-11SFIU-2(OSC1/OSC2)</td>\n",
       "      <td>--</td>\n",
       "      <td>...</td>\n",
       "      <td>光纤</td>\n",
       "      <td>G.652</td>\n",
       "      <td>08/06/2018 16:28:55</td>\n",
       "      <td>admin</td>\n",
       "      <td>admin</td>\n",
       "      <td>-</td>\n",
       "      <td>正常</td>\n",
       "      <td>未禁用</td>\n",
       "      <td>-</td>\n",
       "      <td>IS</td>\n",
       "    </tr>\n",
       "    <tr>\n",
       "      <th>5</th>\n",
       "      <td>1025-陕北环四富县-f-13</td>\n",
       "      <td>WDM CORD</td>\n",
       "      <td>--</td>\n",
       "      <td>--</td>\n",
       "      <td>单纤单向</td>\n",
       "      <td>延安富县陕北环四OLA</td>\n",
       "      <td>1025-陕北环四富县-子架0-14-11SFIU-2(OSC1/OSC2)</td>\n",
       "      <td>延安富县陕北环四OLA</td>\n",
       "      <td>1025-陕北环四富县-子架0-3-12ST2-1(延安方向主用)</td>\n",
       "      <td>--</td>\n",
       "      <td>...</td>\n",
       "      <td>光纤</td>\n",
       "      <td>G.652</td>\n",
       "      <td>08/06/2018 16:28:55</td>\n",
       "      <td>admin</td>\n",
       "      <td>admin</td>\n",
       "      <td>-</td>\n",
       "      <td>正常</td>\n",
       "      <td>未禁用</td>\n",
       "      <td>-</td>\n",
       "      <td>IS</td>\n",
       "    </tr>\n",
       "    <tr>\n",
       "      <th>6</th>\n",
       "      <td>1025-陕北环四富县-f-17</td>\n",
       "      <td>WDM CORD</td>\n",
       "      <td>--</td>\n",
       "      <td>--</td>\n",
       "      <td>单纤单向</td>\n",
       "      <td>延安富县陕北环四OLA</td>\n",
       "      <td>1025-陕北环四富县-子架1-14-11SFIU-2(OSC1/OSC2)</td>\n",
       "      <td>延安富县陕北环四OLA</td>\n",
       "      <td>1025-陕北环四富县-子架0-4-12ST2-1(延安方向备用)</td>\n",
       "      <td>--</td>\n",
       "      <td>...</td>\n",
       "      <td>光纤</td>\n",
       "      <td>G.652</td>\n",
       "      <td>08/06/2018 16:28:55</td>\n",
       "      <td>admin</td>\n",
       "      <td>admin</td>\n",
       "      <td>-</td>\n",
       "      <td>正常</td>\n",
       "      <td>未禁用</td>\n",
       "      <td>-</td>\n",
       "      <td>IS</td>\n",
       "    </tr>\n",
       "    <tr>\n",
       "      <th>7</th>\n",
       "      <td>1021-陕北环四清涧-f-4</td>\n",
       "      <td>WDM CORD</td>\n",
       "      <td>--</td>\n",
       "      <td>--</td>\n",
       "      <td>单纤单向</td>\n",
       "      <td>榆林清涧陕北环四OLA</td>\n",
       "      <td>1021-陕北环四清涧-子架0-3-12ST2-4(TMO1)</td>\n",
       "      <td>榆林清涧陕北环四OLA</td>\n",
       "      <td>1021-陕北环四清涧-子架0-15-11SFIU-2(OSC1/OSC2)</td>\n",
       "      <td>--</td>\n",
       "      <td>...</td>\n",
       "      <td>光纤</td>\n",
       "      <td>G.652</td>\n",
       "      <td>08/06/2018 16:29:57</td>\n",
       "      <td>admin</td>\n",
       "      <td>admin</td>\n",
       "      <td>-</td>\n",
       "      <td>正常</td>\n",
       "      <td>未禁用</td>\n",
       "      <td>-</td>\n",
       "      <td>IS</td>\n",
       "    </tr>\n",
       "    <tr>\n",
       "      <th>8</th>\n",
       "      <td>1020-陕北环四绥德-f-1</td>\n",
       "      <td>WDM CORD</td>\n",
       "      <td>--</td>\n",
       "      <td>--</td>\n",
       "      <td>单纤单向</td>\n",
       "      <td>榆林绥德陕北环四OLA</td>\n",
       "      <td>1020-陕北环四绥德-子架0-3-12ST2-1(米脂方向主用)</td>\n",
       "      <td>榆林绥德陕北环四OLA</td>\n",
       "      <td>1020-陕北环四绥德-子架0-3-12ST2-3(TMI1)</td>\n",
       "      <td>--</td>\n",
       "      <td>...</td>\n",
       "      <td>光纤</td>\n",
       "      <td>G.652</td>\n",
       "      <td>08/06/2018 16:30:36</td>\n",
       "      <td>admin</td>\n",
       "      <td>admin</td>\n",
       "      <td>-</td>\n",
       "      <td>正常</td>\n",
       "      <td>未禁用</td>\n",
       "      <td>-</td>\n",
       "      <td>IS</td>\n",
       "    </tr>\n",
       "    <tr>\n",
       "      <th>9</th>\n",
       "      <td>1020-陕北环四绥德-f-4</td>\n",
       "      <td>WDM CORD</td>\n",
       "      <td>--</td>\n",
       "      <td>--</td>\n",
       "      <td>单纤单向</td>\n",
       "      <td>榆林绥德陕北环四OLA</td>\n",
       "      <td>1020-陕北环四绥德-子架0-3-12ST2-6(TMO2)</td>\n",
       "      <td>榆林绥德陕北环四OLA</td>\n",
       "      <td>1020-陕北环四绥德-子架0-7-11SFIU-2(OSC1/OSC2)</td>\n",
       "      <td>--</td>\n",
       "      <td>...</td>\n",
       "      <td>光纤</td>\n",
       "      <td>G.652</td>\n",
       "      <td>08/06/2018 16:30:36</td>\n",
       "      <td>admin</td>\n",
       "      <td>admin</td>\n",
       "      <td>-</td>\n",
       "      <td>正常</td>\n",
       "      <td>未禁用</td>\n",
       "      <td>-</td>\n",
       "      <td>IS</td>\n",
       "    </tr>\n",
       "    <tr>\n",
       "      <th>10</th>\n",
       "      <td>f-20</td>\n",
       "      <td>WDM CORD</td>\n",
       "      <td>--</td>\n",
       "      <td>--</td>\n",
       "      <td>单纤单向</td>\n",
       "      <td>延安生产楼局间互联</td>\n",
       "      <td>1146-延安生产楼局间互联-子架1-3-13OAU1-8(VO)</td>\n",
       "      <td>延安生产楼局间互联</td>\n",
       "      <td>1146-延安生产楼局间互联-子架1-3-13OAU1-1(IN)</td>\n",
       "      <td>--</td>\n",
       "      <td>...</td>\n",
       "      <td>光纤</td>\n",
       "      <td>G.652</td>\n",
       "      <td>06/10/2018 11:26:13</td>\n",
       "      <td>yaoqian</td>\n",
       "      <td>yaoqian</td>\n",
       "      <td>-</td>\n",
       "      <td>正常</td>\n",
       "      <td>未禁用</td>\n",
       "      <td>-</td>\n",
       "      <td>IS</td>\n",
       "    </tr>\n",
       "    <tr>\n",
       "      <th>11</th>\n",
       "      <td>f-21</td>\n",
       "      <td>WDM CORD</td>\n",
       "      <td>--</td>\n",
       "      <td>--</td>\n",
       "      <td>单纤单向</td>\n",
       "      <td>延安生产楼局间互联</td>\n",
       "      <td>1146-延安生产楼局间互联-子架1-3-13OAU1-6(MON)</td>\n",
       "      <td>延安生产楼局间互联</td>\n",
       "      <td>1146-延安生产楼局间互联-子架0-6-MCA8-3(IN3)</td>\n",
       "      <td>--</td>\n",
       "      <td>...</td>\n",
       "      <td>光纤</td>\n",
       "      <td>G.652</td>\n",
       "      <td>06/10/2018 11:26:26</td>\n",
       "      <td>yaoqian</td>\n",
       "      <td>yaoqian</td>\n",
       "      <td>-</td>\n",
       "      <td>正常</td>\n",
       "      <td>未禁用</td>\n",
       "      <td>-</td>\n",
       "      <td>IS</td>\n",
       "    </tr>\n",
       "    <tr>\n",
       "      <th>12</th>\n",
       "      <td>1020-陕北环四绥德-f-8</td>\n",
       "      <td>WDM CORD</td>\n",
       "      <td>--</td>\n",
       "      <td>--</td>\n",
       "      <td>单纤单向</td>\n",
       "      <td>榆林绥德陕北环四OLA</td>\n",
       "      <td>1020-陕北环四绥德-子架0-4-12ST2-6(TMO2)</td>\n",
       "      <td>榆林绥德陕北环四OLA</td>\n",
       "      <td>1020-陕北环四绥德-子架1-4-11SFIU-2(OSC1/OSC2)</td>\n",
       "      <td>--</td>\n",
       "      <td>...</td>\n",
       "      <td>光纤</td>\n",
       "      <td>G.652</td>\n",
       "      <td>08/06/2018 16:30:36</td>\n",
       "      <td>admin</td>\n",
       "      <td>admin</td>\n",
       "      <td>-</td>\n",
       "      <td>正常</td>\n",
       "      <td>未禁用</td>\n",
       "      <td>-</td>\n",
       "      <td>IS</td>\n",
       "    </tr>\n",
       "    <tr>\n",
       "      <th>13</th>\n",
       "      <td>f-6</td>\n",
       "      <td>WDM CORD</td>\n",
       "      <td>--</td>\n",
       "      <td>--</td>\n",
       "      <td>单纤单向</td>\n",
       "      <td>咸阳关中环五OADM</td>\n",
       "      <td>807-关中环五咸阳第二生产楼-子架0-14-D40-40(D39)</td>\n",
       "      <td>咸阳关中环五OADM</td>\n",
       "      <td>818-关中环五咸阳第二生产楼(电层)-子架1-32-54NS4-1(IN/OUT)</td>\n",
       "      <td>--</td>\n",
       "      <td>...</td>\n",
       "      <td>光纤</td>\n",
       "      <td>G.652</td>\n",
       "      <td>04/23/2018 09:38:02</td>\n",
       "      <td>yaoqian</td>\n",
       "      <td>yaoqian</td>\n",
       "      <td>-</td>\n",
       "      <td>正常</td>\n",
       "      <td>未禁用</td>\n",
       "      <td>-</td>\n",
       "      <td>IS</td>\n",
       "    </tr>\n",
       "    <tr>\n",
       "      <th>14</th>\n",
       "      <td>f-5</td>\n",
       "      <td>WDM CORD</td>\n",
       "      <td>--</td>\n",
       "      <td>--</td>\n",
       "      <td>单纤单向</td>\n",
       "      <td>咸阳关中环五OADM</td>\n",
       "      <td>818-关中环五咸阳第二生产楼(电层)-子架1-32-54NS4-1(IN/OUT)</td>\n",
       "      <td>咸阳关中环五OADM</td>\n",
       "      <td>807-关中环五咸阳第二生产楼-子架0-1-M40V-40(M39)</td>\n",
       "      <td>--</td>\n",
       "      <td>...</td>\n",
       "      <td>光纤</td>\n",
       "      <td>G.652</td>\n",
       "      <td>04/23/2018 09:37:05</td>\n",
       "      <td>yaoqian</td>\n",
       "      <td>yaoqian</td>\n",
       "      <td>-</td>\n",
       "      <td>正常</td>\n",
       "      <td>未禁用</td>\n",
       "      <td>-</td>\n",
       "      <td>IS</td>\n",
       "    </tr>\n",
       "    <tr>\n",
       "      <th>15</th>\n",
       "      <td>1020-陕北环四绥德-f-12</td>\n",
       "      <td>WDM CORD</td>\n",
       "      <td>--</td>\n",
       "      <td>--</td>\n",
       "      <td>单纤单向</td>\n",
       "      <td>榆林绥德陕北环四OLA</td>\n",
       "      <td>1020-陕北环四绥德-子架0-14-11SFIU-2(OSC1/OSC2)</td>\n",
       "      <td>榆林绥德陕北环四OLA</td>\n",
       "      <td>1020-陕北环四绥德-子架0-3-12ST2-1(米脂方向主用)</td>\n",
       "      <td>--</td>\n",
       "      <td>...</td>\n",
       "      <td>光纤</td>\n",
       "      <td>G.652</td>\n",
       "      <td>08/06/2018 16:30:36</td>\n",
       "      <td>admin</td>\n",
       "      <td>admin</td>\n",
       "      <td>-</td>\n",
       "      <td>正常</td>\n",
       "      <td>未禁用</td>\n",
       "      <td>-</td>\n",
       "      <td>IS</td>\n",
       "    </tr>\n",
       "    <tr>\n",
       "      <th>16</th>\n",
       "      <td>1020-陕北环四绥德-f-16</td>\n",
       "      <td>WDM CORD</td>\n",
       "      <td>--</td>\n",
       "      <td>--</td>\n",
       "      <td>单纤单向</td>\n",
       "      <td>榆林绥德陕北环四OLA</td>\n",
       "      <td>1020-陕北环四绥德-子架1-14-11SFIU-2(OSC1/OSC2)</td>\n",
       "      <td>榆林绥德陕北环四OLA</td>\n",
       "      <td>1020-陕北环四绥德-子架0-4-12ST2-1(米脂方向备用)</td>\n",
       "      <td>--</td>\n",
       "      <td>...</td>\n",
       "      <td>光纤</td>\n",
       "      <td>G.652</td>\n",
       "      <td>08/06/2018 16:30:36</td>\n",
       "      <td>admin</td>\n",
       "      <td>admin</td>\n",
       "      <td>-</td>\n",
       "      <td>正常</td>\n",
       "      <td>未禁用</td>\n",
       "      <td>-</td>\n",
       "      <td>IS</td>\n",
       "    </tr>\n",
       "    <tr>\n",
       "      <th>17</th>\n",
       "      <td>1019-陕北环四米脂-f-7</td>\n",
       "      <td>WDM CORD</td>\n",
       "      <td>--</td>\n",
       "      <td>--</td>\n",
       "      <td>单纤单向</td>\n",
       "      <td>榆林米脂陕北环四OLA</td>\n",
       "      <td>1019-陕北环四米脂-子架0-4-12ST2-1(西沙方向备用)</td>\n",
       "      <td>榆林米脂陕北环四OLA</td>\n",
       "      <td>1019-陕北环四米脂-子架0-4-12ST2-3(TMI1)</td>\n",
       "      <td>--</td>\n",
       "      <td>...</td>\n",
       "      <td>光纤</td>\n",
       "      <td>G.652</td>\n",
       "      <td>08/06/2018 16:30:41</td>\n",
       "      <td>admin</td>\n",
       "      <td>admin</td>\n",
       "      <td>-</td>\n",
       "      <td>正常</td>\n",
       "      <td>未禁用</td>\n",
       "      <td>-</td>\n",
       "      <td>IS</td>\n",
       "    </tr>\n",
       "    <tr>\n",
       "      <th>18</th>\n",
       "      <td>1019-陕北环四米脂-f-12</td>\n",
       "      <td>WDM CORD</td>\n",
       "      <td>--</td>\n",
       "      <td>--</td>\n",
       "      <td>单纤单向</td>\n",
       "      <td>榆林米脂陕北环四OLA</td>\n",
       "      <td>1019-陕北环四米脂-子架0-7-11SFIU-2(OSC1/OSC2)</td>\n",
       "      <td>榆林米脂陕北环四OLA</td>\n",
       "      <td>1019-陕北环四米脂-子架0-3-12ST2-2(绥德方向主用+5db光衰)</td>\n",
       "      <td>--</td>\n",
       "      <td>...</td>\n",
       "      <td>光纤</td>\n",
       "      <td>G.652</td>\n",
       "      <td>08/06/2018 16:30:41</td>\n",
       "      <td>admin</td>\n",
       "      <td>admin</td>\n",
       "      <td>-</td>\n",
       "      <td>正常</td>\n",
       "      <td>未禁用</td>\n",
       "      <td>-</td>\n",
       "      <td>IS</td>\n",
       "    </tr>\n",
       "    <tr>\n",
       "      <th>19</th>\n",
       "      <td>1019-陕北环四米脂-f-15</td>\n",
       "      <td>WDM CORD</td>\n",
       "      <td>--</td>\n",
       "      <td>--</td>\n",
       "      <td>单纤单向</td>\n",
       "      <td>榆林米脂陕北环四OLA</td>\n",
       "      <td>1019-陕北环四米脂-子架1-4-11SFIU-2(OSC1/OSC2)</td>\n",
       "      <td>榆林米脂陕北环四OLA</td>\n",
       "      <td>1019-陕北环四米脂-子架0-4-12ST2-2(绥德方向备用)</td>\n",
       "      <td>--</td>\n",
       "      <td>...</td>\n",
       "      <td>光纤</td>\n",
       "      <td>G.652</td>\n",
       "      <td>08/06/2018 16:30:41</td>\n",
       "      <td>admin</td>\n",
       "      <td>admin</td>\n",
       "      <td>-</td>\n",
       "      <td>正常</td>\n",
       "      <td>未禁用</td>\n",
       "      <td>-</td>\n",
       "      <td>IS</td>\n",
       "    </tr>\n",
       "    <tr>\n",
       "      <th>20</th>\n",
       "      <td>1016-陕北环四横山-f-3</td>\n",
       "      <td>WDM CORD</td>\n",
       "      <td>--</td>\n",
       "      <td>--</td>\n",
       "      <td>单纤单向</td>\n",
       "      <td>榆林横山陕北环四OLA</td>\n",
       "      <td>1016-陕北环四横山-子架0-3-12ST2-4(TMO1)</td>\n",
       "      <td>榆林横山陕北环四OLA</td>\n",
       "      <td>1016-陕北环四横山-子架0-14-11SFIU-2(OSC1/OSC2)</td>\n",
       "      <td>--</td>\n",
       "      <td>...</td>\n",
       "      <td>光纤</td>\n",
       "      <td>G.652</td>\n",
       "      <td>08/06/2018 16:32:19</td>\n",
       "      <td>admin</td>\n",
       "      <td>admin</td>\n",
       "      <td>-</td>\n",
       "      <td>正常</td>\n",
       "      <td>未禁用</td>\n",
       "      <td>-</td>\n",
       "      <td>IS</td>\n",
       "    </tr>\n",
       "    <tr>\n",
       "      <th>21</th>\n",
       "      <td>1016-陕北环四横山-f-5</td>\n",
       "      <td>WDM CORD</td>\n",
       "      <td>--</td>\n",
       "      <td>--</td>\n",
       "      <td>单纤单向</td>\n",
       "      <td>榆林横山陕北环四OLA</td>\n",
       "      <td>1016-陕北环四横山-子架0-4-12ST2-1(靖边方向备用)</td>\n",
       "      <td>榆林横山陕北环四OLA</td>\n",
       "      <td>1016-陕北环四横山-子架0-4-12ST2-3(TMI1)</td>\n",
       "      <td>--</td>\n",
       "      <td>...</td>\n",
       "      <td>光纤</td>\n",
       "      <td>G.652</td>\n",
       "      <td>08/06/2018 16:32:19</td>\n",
       "      <td>admin</td>\n",
       "      <td>admin</td>\n",
       "      <td>-</td>\n",
       "      <td>正常</td>\n",
       "      <td>未禁用</td>\n",
       "      <td>-</td>\n",
       "      <td>IS</td>\n",
       "    </tr>\n",
       "    <tr>\n",
       "      <th>22</th>\n",
       "      <td>1016-陕北环四横山-f-7</td>\n",
       "      <td>WDM CORD</td>\n",
       "      <td>--</td>\n",
       "      <td>--</td>\n",
       "      <td>单纤单向</td>\n",
       "      <td>榆林横山陕北环四OLA</td>\n",
       "      <td>1016-陕北环四横山-子架0-4-12ST2-4(TMO1)</td>\n",
       "      <td>榆林横山陕北环四OLA</td>\n",
       "      <td>1016-陕北环四横山-子架1-14-11SFIU-2(OSC1/OSC2)</td>\n",
       "      <td>--</td>\n",
       "      <td>...</td>\n",
       "      <td>光纤</td>\n",
       "      <td>G.652</td>\n",
       "      <td>08/06/2018 16:32:19</td>\n",
       "      <td>admin</td>\n",
       "      <td>admin</td>\n",
       "      <td>-</td>\n",
       "      <td>正常</td>\n",
       "      <td>未禁用</td>\n",
       "      <td>-</td>\n",
       "      <td>IS</td>\n",
       "    </tr>\n",
       "    <tr>\n",
       "      <th>23</th>\n",
       "      <td>1016-陕北环四横山-f-9</td>\n",
       "      <td>WDM CORD</td>\n",
       "      <td>--</td>\n",
       "      <td>--</td>\n",
       "      <td>单纤单向</td>\n",
       "      <td>榆林横山陕北环四OLA</td>\n",
       "      <td>1016-陕北环四横山-子架0-7-11SFIU-2(OSC1/OSC2)</td>\n",
       "      <td>榆林横山陕北环四OLA</td>\n",
       "      <td>1016-陕北环四横山-子架0-3-12ST2-2(西沙方向主用)</td>\n",
       "      <td>--</td>\n",
       "      <td>...</td>\n",
       "      <td>光纤</td>\n",
       "      <td>G.652</td>\n",
       "      <td>08/06/2018 16:32:19</td>\n",
       "      <td>admin</td>\n",
       "      <td>admin</td>\n",
       "      <td>-</td>\n",
       "      <td>正常</td>\n",
       "      <td>未禁用</td>\n",
       "      <td>-</td>\n",
       "      <td>IS</td>\n",
       "    </tr>\n",
       "    <tr>\n",
       "      <th>24</th>\n",
       "      <td>1016-陕北环四横山-f-12</td>\n",
       "      <td>WDM CORD</td>\n",
       "      <td>--</td>\n",
       "      <td>--</td>\n",
       "      <td>单纤单向</td>\n",
       "      <td>榆林横山陕北环四OLA</td>\n",
       "      <td>1016-陕北环四横山-子架1-4-11SFIU-2(OSC1/OSC2)</td>\n",
       "      <td>榆林横山陕北环四OLA</td>\n",
       "      <td>1016-陕北环四横山-子架0-4-12ST2-2(西沙方向备用)</td>\n",
       "      <td>--</td>\n",
       "      <td>...</td>\n",
       "      <td>光纤</td>\n",
       "      <td>G.652</td>\n",
       "      <td>08/06/2018 16:32:19</td>\n",
       "      <td>admin</td>\n",
       "      <td>admin</td>\n",
       "      <td>-</td>\n",
       "      <td>正常</td>\n",
       "      <td>未禁用</td>\n",
       "      <td>-</td>\n",
       "      <td>IS</td>\n",
       "    </tr>\n",
       "    <tr>\n",
       "      <th>25</th>\n",
       "      <td>1015-陕北环四靖边-f-5</td>\n",
       "      <td>WDM CORD</td>\n",
       "      <td>--</td>\n",
       "      <td>--</td>\n",
       "      <td>单纤单向</td>\n",
       "      <td>榆林靖边陕北环四OLA</td>\n",
       "      <td>1015-陕北环四靖边-子架0-3-12ST2-4(TMO1)</td>\n",
       "      <td>榆林靖边陕北环四OLA</td>\n",
       "      <td>1015-陕北环四靖边-子架0-14-11SFIU-2(OSC1/OSC2)</td>\n",
       "      <td>--</td>\n",
       "      <td>...</td>\n",
       "      <td>光纤</td>\n",
       "      <td>G.652</td>\n",
       "      <td>08/06/2018 16:32:35</td>\n",
       "      <td>admin</td>\n",
       "      <td>admin</td>\n",
       "      <td>-</td>\n",
       "      <td>正常</td>\n",
       "      <td>未禁用</td>\n",
       "      <td>-</td>\n",
       "      <td>IS</td>\n",
       "    </tr>\n",
       "    <tr>\n",
       "      <th>26</th>\n",
       "      <td>1015-陕北环四靖边-f-8</td>\n",
       "      <td>WDM CORD</td>\n",
       "      <td>--</td>\n",
       "      <td>--</td>\n",
       "      <td>单纤单向</td>\n",
       "      <td>榆林靖边陕北环四OLA</td>\n",
       "      <td>1015-陕北环四靖边-子架0-4-12ST2-2(横山方向备用)</td>\n",
       "      <td>榆林靖边陕北环四OLA</td>\n",
       "      <td>1015-陕北环四靖边-子架0-4-12ST2-5(TMI2)</td>\n",
       "      <td>--</td>\n",
       "      <td>...</td>\n",
       "      <td>光纤</td>\n",
       "      <td>G.652</td>\n",
       "      <td>08/06/2018 16:32:35</td>\n",
       "      <td>admin</td>\n",
       "      <td>admin</td>\n",
       "      <td>-</td>\n",
       "      <td>正常</td>\n",
       "      <td>未禁用</td>\n",
       "      <td>-</td>\n",
       "      <td>IS</td>\n",
       "    </tr>\n",
       "    <tr>\n",
       "      <th>27</th>\n",
       "      <td>1014-陕北环四镰刀湾-f-7</td>\n",
       "      <td>WDM CORD</td>\n",
       "      <td>--</td>\n",
       "      <td>--</td>\n",
       "      <td>单纤单向</td>\n",
       "      <td>延安镰刀湾陕北环四OLA</td>\n",
       "      <td>1014-陕北环四镰刀湾-子架0-4-12ST2-1(安塞备用)</td>\n",
       "      <td>延安镰刀湾陕北环四OLA</td>\n",
       "      <td>1014-陕北环四镰刀湾-子架0-4-12ST2-3(TMI1)</td>\n",
       "      <td>--</td>\n",
       "      <td>...</td>\n",
       "      <td>光纤</td>\n",
       "      <td>G.652</td>\n",
       "      <td>08/06/2018 16:32:35</td>\n",
       "      <td>admin</td>\n",
       "      <td>admin</td>\n",
       "      <td>-</td>\n",
       "      <td>正常</td>\n",
       "      <td>未禁用</td>\n",
       "      <td>-</td>\n",
       "      <td>IS</td>\n",
       "    </tr>\n",
       "    <tr>\n",
       "      <th>28</th>\n",
       "      <td>1014-陕北环四镰刀湾-f-14</td>\n",
       "      <td>WDM CORD</td>\n",
       "      <td>--</td>\n",
       "      <td>--</td>\n",
       "      <td>单纤单向</td>\n",
       "      <td>延安镰刀湾陕北环四OLA</td>\n",
       "      <td>1014-陕北环四镰刀湾-子架0-14-11SFIU-2(OSC1/OSC2)</td>\n",
       "      <td>延安镰刀湾陕北环四OLA</td>\n",
       "      <td>1014-陕北环四镰刀湾-子架0-3-12ST2-1(安塞主用)</td>\n",
       "      <td>--</td>\n",
       "      <td>...</td>\n",
       "      <td>光纤</td>\n",
       "      <td>G.652</td>\n",
       "      <td>08/06/2018 16:32:35</td>\n",
       "      <td>admin</td>\n",
       "      <td>admin</td>\n",
       "      <td>-</td>\n",
       "      <td>正常</td>\n",
       "      <td>未禁用</td>\n",
       "      <td>-</td>\n",
       "      <td>IS</td>\n",
       "    </tr>\n",
       "    <tr>\n",
       "      <th>29</th>\n",
       "      <td>1014-陕北环四镰刀湾-f-18</td>\n",
       "      <td>WDM CORD</td>\n",
       "      <td>--</td>\n",
       "      <td>--</td>\n",
       "      <td>单纤单向</td>\n",
       "      <td>延安镰刀湾陕北环四OLA</td>\n",
       "      <td>1014-陕北环四镰刀湾-子架1-14-11SFIU-2(OSC1/OSC2)</td>\n",
       "      <td>延安镰刀湾陕北环四OLA</td>\n",
       "      <td>1014-陕北环四镰刀湾-子架0-4-12ST2-1(安塞备用)</td>\n",
       "      <td>--</td>\n",
       "      <td>...</td>\n",
       "      <td>光纤</td>\n",
       "      <td>G.652</td>\n",
       "      <td>08/06/2018 16:32:35</td>\n",
       "      <td>admin</td>\n",
       "      <td>admin</td>\n",
       "      <td>-</td>\n",
       "      <td>正常</td>\n",
       "      <td>未禁用</td>\n",
       "      <td>-</td>\n",
       "      <td>IS</td>\n",
       "    </tr>\n",
       "    <tr>\n",
       "      <th>...</th>\n",
       "      <td>...</td>\n",
       "      <td>...</td>\n",
       "      <td>...</td>\n",
       "      <td>...</td>\n",
       "      <td>...</td>\n",
       "      <td>...</td>\n",
       "      <td>...</td>\n",
       "      <td>...</td>\n",
       "      <td>...</td>\n",
       "      <td>...</td>\n",
       "      <td>...</td>\n",
       "      <td>...</td>\n",
       "      <td>...</td>\n",
       "      <td>...</td>\n",
       "      <td>...</td>\n",
       "      <td>...</td>\n",
       "      <td>...</td>\n",
       "      <td>...</td>\n",
       "      <td>...</td>\n",
       "      <td>...</td>\n",
       "      <td>...</td>\n",
       "    </tr>\n",
       "    <tr>\n",
       "      <th>21736</th>\n",
       "      <td>f-428</td>\n",
       "      <td>WDM</td>\n",
       "      <td>--</td>\n",
       "      <td>--</td>\n",
       "      <td>单纤单向</td>\n",
       "      <td>西安张家堡陕南环二OADM</td>\n",
       "      <td>701-陕南环二张家堡-子架1-2-D40V-22(D21)</td>\n",
       "      <td>西安张家堡陕南环二OADM</td>\n",
       "      <td>701-陕南环二张家堡-子架5-1-12NS2-1(IN/OUT)</td>\n",
       "      <td>1.0</td>\n",
       "      <td>...</td>\n",
       "      <td>光纤</td>\n",
       "      <td>G.652</td>\n",
       "      <td>04/12/2010 08:03:09</td>\n",
       "      <td>huawei</td>\n",
       "      <td>huawei</td>\n",
       "      <td>-</td>\n",
       "      <td>正常</td>\n",
       "      <td>未禁用</td>\n",
       "      <td>-</td>\n",
       "      <td>IS</td>\n",
       "    </tr>\n",
       "    <tr>\n",
       "      <th>21737</th>\n",
       "      <td>f-440</td>\n",
       "      <td>WDM</td>\n",
       "      <td>--</td>\n",
       "      <td>--</td>\n",
       "      <td>单纤单向</td>\n",
       "      <td>西安张家堡陕南环二OADM</td>\n",
       "      <td>701-陕南环二张家堡-子架1-14-OAU1-5(RDC/TDC)</td>\n",
       "      <td>西安张家堡陕南环二OADM</td>\n",
       "      <td>701-陕南环二张家堡-子架1-14-OAU1-5(RDC/TDC)</td>\n",
       "      <td>1.0</td>\n",
       "      <td>...</td>\n",
       "      <td>光纤</td>\n",
       "      <td>G.652</td>\n",
       "      <td>04/12/2010 08:03:09</td>\n",
       "      <td>huawei</td>\n",
       "      <td>huawei</td>\n",
       "      <td>-</td>\n",
       "      <td>正常</td>\n",
       "      <td>未禁用</td>\n",
       "      <td>-</td>\n",
       "      <td>IS</td>\n",
       "    </tr>\n",
       "    <tr>\n",
       "      <th>21738</th>\n",
       "      <td>f-449</td>\n",
       "      <td>WDM</td>\n",
       "      <td>--</td>\n",
       "      <td>--</td>\n",
       "      <td>单纤单向</td>\n",
       "      <td>西安张家堡陕南环二OADM</td>\n",
       "      <td>701-陕南环二张家堡-子架4-14-OAU1-5(RDC/TDC)</td>\n",
       "      <td>西安张家堡陕南环二OADM</td>\n",
       "      <td>701-陕南环二张家堡-子架4-14-OAU1-5(RDC/TDC)</td>\n",
       "      <td>1.0</td>\n",
       "      <td>...</td>\n",
       "      <td>光纤</td>\n",
       "      <td>G.652</td>\n",
       "      <td>04/12/2010 08:03:09</td>\n",
       "      <td>huawei</td>\n",
       "      <td>huawei</td>\n",
       "      <td>-</td>\n",
       "      <td>正常</td>\n",
       "      <td>未禁用</td>\n",
       "      <td>-</td>\n",
       "      <td>IS</td>\n",
       "    </tr>\n",
       "    <tr>\n",
       "      <th>21739</th>\n",
       "      <td>f-462</td>\n",
       "      <td>WDM</td>\n",
       "      <td>--</td>\n",
       "      <td>--</td>\n",
       "      <td>单纤单向</td>\n",
       "      <td>西安张家堡陕南环二OADM</td>\n",
       "      <td>701-陕南环二张家堡-子架1-2-D40V-36(D35)</td>\n",
       "      <td>西安张家堡陕南环二OADM</td>\n",
       "      <td>701-陕南环二张家堡-子架5-5-12NS2-1(IN/OUT)</td>\n",
       "      <td>1.0</td>\n",
       "      <td>...</td>\n",
       "      <td>光纤</td>\n",
       "      <td>G.652</td>\n",
       "      <td>04/12/2010 08:03:09</td>\n",
       "      <td>huawei</td>\n",
       "      <td>huawei</td>\n",
       "      <td>-</td>\n",
       "      <td>正常</td>\n",
       "      <td>未禁用</td>\n",
       "      <td>-</td>\n",
       "      <td>IS</td>\n",
       "    </tr>\n",
       "    <tr>\n",
       "      <th>21740</th>\n",
       "      <td>f-463</td>\n",
       "      <td>WDM</td>\n",
       "      <td>--</td>\n",
       "      <td>--</td>\n",
       "      <td>单纤单向</td>\n",
       "      <td>西安张家堡陕南环二OADM</td>\n",
       "      <td>701-陕南环二张家堡-子架5-5-12NS2-1(IN/OUT)</td>\n",
       "      <td>西安张家堡陕南环二OADM</td>\n",
       "      <td>701-陕南环二张家堡-子架1-5-M40V-36(M35)</td>\n",
       "      <td>1.0</td>\n",
       "      <td>...</td>\n",
       "      <td>光纤</td>\n",
       "      <td>G.652</td>\n",
       "      <td>04/12/2010 08:03:09</td>\n",
       "      <td>huawei</td>\n",
       "      <td>huawei</td>\n",
       "      <td>-</td>\n",
       "      <td>正常</td>\n",
       "      <td>未禁用</td>\n",
       "      <td>-</td>\n",
       "      <td>IS</td>\n",
       "    </tr>\n",
       "    <tr>\n",
       "      <th>21741</th>\n",
       "      <td>f-408</td>\n",
       "      <td>WDM</td>\n",
       "      <td>--</td>\n",
       "      <td>--</td>\n",
       "      <td>单纤单向</td>\n",
       "      <td>商洛柞水陕南环三OLA</td>\n",
       "      <td>724-陕南环三柞水营盘-子架0-5-12VA1-1(IN/OUT)</td>\n",
       "      <td>商洛柞水陕南环三OLA</td>\n",
       "      <td>724-陕南环三柞水营盘-子架0-3-OAU1-1(IN)</td>\n",
       "      <td>1.0</td>\n",
       "      <td>...</td>\n",
       "      <td>光纤</td>\n",
       "      <td>G.652</td>\n",
       "      <td>04/12/2010 08:13:16</td>\n",
       "      <td>huawei</td>\n",
       "      <td>huawei</td>\n",
       "      <td>-</td>\n",
       "      <td>正常</td>\n",
       "      <td>未禁用</td>\n",
       "      <td>-</td>\n",
       "      <td>IS</td>\n",
       "    </tr>\n",
       "    <tr>\n",
       "      <th>21742</th>\n",
       "      <td>f-411</td>\n",
       "      <td>WDM</td>\n",
       "      <td>--</td>\n",
       "      <td>--</td>\n",
       "      <td>单纤单向</td>\n",
       "      <td>商洛柞水陕南环三OLA</td>\n",
       "      <td>724-陕南环三柞水营盘-子架0-14-12VA1-1(IN/OUT)</td>\n",
       "      <td>商洛柞水陕南环三OLA</td>\n",
       "      <td>724-陕南环三柞水营盘-子架0-15-OBU1-1(IN)</td>\n",
       "      <td>1.0</td>\n",
       "      <td>...</td>\n",
       "      <td>光纤</td>\n",
       "      <td>G.652</td>\n",
       "      <td>04/12/2010 08:13:16</td>\n",
       "      <td>huawei</td>\n",
       "      <td>huawei</td>\n",
       "      <td>-</td>\n",
       "      <td>正常</td>\n",
       "      <td>未禁用</td>\n",
       "      <td>-</td>\n",
       "      <td>IS</td>\n",
       "    </tr>\n",
       "    <tr>\n",
       "      <th>21743</th>\n",
       "      <td>f-413</td>\n",
       "      <td>WDM</td>\n",
       "      <td>--</td>\n",
       "      <td>--</td>\n",
       "      <td>单纤单向</td>\n",
       "      <td>商洛柞水陕南环三OLA</td>\n",
       "      <td>724-陕南环三柞水营盘-子架0-3-OAU1-5(RDC/TDC)</td>\n",
       "      <td>商洛柞水陕南环三OLA</td>\n",
       "      <td>724-陕南环三柞水营盘-子架0-3-OAU1-5(RDC/TDC)</td>\n",
       "      <td>1.0</td>\n",
       "      <td>...</td>\n",
       "      <td>光纤</td>\n",
       "      <td>G.652</td>\n",
       "      <td>04/12/2010 08:13:16</td>\n",
       "      <td>huawei</td>\n",
       "      <td>huawei</td>\n",
       "      <td>-</td>\n",
       "      <td>正常</td>\n",
       "      <td>未禁用</td>\n",
       "      <td>-</td>\n",
       "      <td>IS</td>\n",
       "    </tr>\n",
       "    <tr>\n",
       "      <th>21744</th>\n",
       "      <td>f-423</td>\n",
       "      <td>WDM</td>\n",
       "      <td>--</td>\n",
       "      <td>--</td>\n",
       "      <td>单纤单向</td>\n",
       "      <td>商洛镇安陕南环三OLA</td>\n",
       "      <td>725-陕南环三镇安-子架0-13-12VA1-1(IN/OUT)</td>\n",
       "      <td>商洛镇安陕南环三OLA</td>\n",
       "      <td>725-陕南环三镇安-子架0-14-OBU1-1(发柞水方向)</td>\n",
       "      <td>1.0</td>\n",
       "      <td>...</td>\n",
       "      <td>光纤</td>\n",
       "      <td>G.652</td>\n",
       "      <td>04/12/2010 08:13:59</td>\n",
       "      <td>huawei</td>\n",
       "      <td>huawei</td>\n",
       "      <td>-</td>\n",
       "      <td>正常</td>\n",
       "      <td>未禁用</td>\n",
       "      <td>-</td>\n",
       "      <td>IS</td>\n",
       "    </tr>\n",
       "    <tr>\n",
       "      <th>21745</th>\n",
       "      <td>f-430</td>\n",
       "      <td>WDM</td>\n",
       "      <td>--</td>\n",
       "      <td>--</td>\n",
       "      <td>单纤单向</td>\n",
       "      <td>安康旬阳陕南环三OLA</td>\n",
       "      <td>726-陕南环三旬阳-子架0-2-OBU1-2(OUT)</td>\n",
       "      <td>安康旬阳陕南环三OLA</td>\n",
       "      <td>726-陕南环三旬阳-子架0-5-12VA1-1(IN/OUT)</td>\n",
       "      <td>1.0</td>\n",
       "      <td>...</td>\n",
       "      <td>光纤</td>\n",
       "      <td>G.652</td>\n",
       "      <td>04/12/2010 08:14:19</td>\n",
       "      <td>huawei</td>\n",
       "      <td>huawei</td>\n",
       "      <td>-</td>\n",
       "      <td>正常</td>\n",
       "      <td>未禁用</td>\n",
       "      <td>-</td>\n",
       "      <td>IS</td>\n",
       "    </tr>\n",
       "    <tr>\n",
       "      <th>21746</th>\n",
       "      <td>f-431</td>\n",
       "      <td>WDM</td>\n",
       "      <td>--</td>\n",
       "      <td>--</td>\n",
       "      <td>单纤单向</td>\n",
       "      <td>安康旬阳陕南环三OLA</td>\n",
       "      <td>726-陕南环三旬阳-子架0-5-12VA1-1(IN/OUT)</td>\n",
       "      <td>安康旬阳陕南环三OLA</td>\n",
       "      <td>726-陕南环三旬阳-子架0-3-OBU1-1(IN)</td>\n",
       "      <td>1.0</td>\n",
       "      <td>...</td>\n",
       "      <td>光纤</td>\n",
       "      <td>G.652</td>\n",
       "      <td>04/12/2010 08:14:19</td>\n",
       "      <td>huawei</td>\n",
       "      <td>huawei</td>\n",
       "      <td>-</td>\n",
       "      <td>正常</td>\n",
       "      <td>未禁用</td>\n",
       "      <td>-</td>\n",
       "      <td>IS</td>\n",
       "    </tr>\n",
       "    <tr>\n",
       "      <th>21747</th>\n",
       "      <td>f-434</td>\n",
       "      <td>WDM</td>\n",
       "      <td>--</td>\n",
       "      <td>--</td>\n",
       "      <td>单纤单向</td>\n",
       "      <td>安康旬阳陕南环三OLA</td>\n",
       "      <td>726-陕南环三旬阳-子架0-13-12VA1-1(IN/OUT)</td>\n",
       "      <td>安康旬阳陕南环三OLA</td>\n",
       "      <td>726-陕南环三旬阳-子架0-15-OAU1-1(收安康发镇安主用)</td>\n",
       "      <td>1.0</td>\n",
       "      <td>...</td>\n",
       "      <td>光纤</td>\n",
       "      <td>G.652</td>\n",
       "      <td>04/12/2010 08:14:19</td>\n",
       "      <td>huawei</td>\n",
       "      <td>huawei</td>\n",
       "      <td>-</td>\n",
       "      <td>正常</td>\n",
       "      <td>未禁用</td>\n",
       "      <td>-</td>\n",
       "      <td>IS</td>\n",
       "    </tr>\n",
       "    <tr>\n",
       "      <th>21748</th>\n",
       "      <td>f-440</td>\n",
       "      <td>WDM</td>\n",
       "      <td>--</td>\n",
       "      <td>--</td>\n",
       "      <td>单纤单向</td>\n",
       "      <td>安康旬阳陕南环三OLA</td>\n",
       "      <td>726-陕南环三旬阳-子架0-15-OAU1-5(RDC/TDC)</td>\n",
       "      <td>安康旬阳陕南环三OLA</td>\n",
       "      <td>726-陕南环三旬阳-子架0-15-OAU1-5(RDC/TDC)</td>\n",
       "      <td>1.0</td>\n",
       "      <td>...</td>\n",
       "      <td>光纤</td>\n",
       "      <td>G.652</td>\n",
       "      <td>04/12/2010 08:14:19</td>\n",
       "      <td>huawei</td>\n",
       "      <td>huawei</td>\n",
       "      <td>-</td>\n",
       "      <td>正常</td>\n",
       "      <td>未禁用</td>\n",
       "      <td>-</td>\n",
       "      <td>IS</td>\n",
       "    </tr>\n",
       "    <tr>\n",
       "      <th>21749</th>\n",
       "      <td>f-477</td>\n",
       "      <td>WDM</td>\n",
       "      <td>--</td>\n",
       "      <td>--</td>\n",
       "      <td>单纤单向</td>\n",
       "      <td>宝鸡凤县陕南环三OLA</td>\n",
       "      <td>732-陕南环三凤县-子架0-3-OAU1-5(RDC/TDC)</td>\n",
       "      <td>宝鸡凤县陕南环三OLA</td>\n",
       "      <td>732-陕南环三凤县-子架0-3-OAU1-5(RDC/TDC)</td>\n",
       "      <td>1.0</td>\n",
       "      <td>...</td>\n",
       "      <td>光纤</td>\n",
       "      <td>G.652</td>\n",
       "      <td>04/12/2010 08:15:32</td>\n",
       "      <td>huawei</td>\n",
       "      <td>huawei</td>\n",
       "      <td>-</td>\n",
       "      <td>正常</td>\n",
       "      <td>未禁用</td>\n",
       "      <td>-</td>\n",
       "      <td>IS</td>\n",
       "    </tr>\n",
       "    <tr>\n",
       "      <th>21750</th>\n",
       "      <td>f-478</td>\n",
       "      <td>WDM</td>\n",
       "      <td>--</td>\n",
       "      <td>--</td>\n",
       "      <td>单纤单向</td>\n",
       "      <td>宝鸡凤县陕南环三OLA</td>\n",
       "      <td>732-陕南环三凤县-子架0-15-OAU1-5(RDC/TDC)</td>\n",
       "      <td>宝鸡凤县陕南环三OLA</td>\n",
       "      <td>732-陕南环三凤县-子架0-15-OAU1-5(RDC/TDC)</td>\n",
       "      <td>1.0</td>\n",
       "      <td>...</td>\n",
       "      <td>光纤</td>\n",
       "      <td>G.652</td>\n",
       "      <td>04/12/2010 08:15:32</td>\n",
       "      <td>huawei</td>\n",
       "      <td>huawei</td>\n",
       "      <td>-</td>\n",
       "      <td>正常</td>\n",
       "      <td>未禁用</td>\n",
       "      <td>-</td>\n",
       "      <td>IS</td>\n",
       "    </tr>\n",
       "    <tr>\n",
       "      <th>21751</th>\n",
       "      <td>f-493</td>\n",
       "      <td>WDM</td>\n",
       "      <td>--</td>\n",
       "      <td>--</td>\n",
       "      <td>单纤单向</td>\n",
       "      <td>宝鸡眉县陕南环三OLA</td>\n",
       "      <td>734-陕南环三眉县-子架0-3-OAU1-5(RDC/TDC)</td>\n",
       "      <td>宝鸡眉县陕南环三OLA</td>\n",
       "      <td>734-陕南环三眉县-子架0-3-OAU1-5(RDC/TDC)</td>\n",
       "      <td>1.0</td>\n",
       "      <td>...</td>\n",
       "      <td>光纤</td>\n",
       "      <td>G.652</td>\n",
       "      <td>04/12/2010 08:15:50</td>\n",
       "      <td>huawei</td>\n",
       "      <td>huawei</td>\n",
       "      <td>-</td>\n",
       "      <td>正常</td>\n",
       "      <td>未禁用</td>\n",
       "      <td>-</td>\n",
       "      <td>IS</td>\n",
       "    </tr>\n",
       "    <tr>\n",
       "      <th>21752</th>\n",
       "      <td>f-495</td>\n",
       "      <td>WDM</td>\n",
       "      <td>--</td>\n",
       "      <td>--</td>\n",
       "      <td>单纤单向</td>\n",
       "      <td>宝鸡眉县陕南环三OLA</td>\n",
       "      <td>734-陕南环三眉县-子架0-5-12VA1-1(IN/OUT)</td>\n",
       "      <td>宝鸡眉县陕南环三OLA</td>\n",
       "      <td>734-陕南环三眉县-子架0-3-OAU1-1(收宝鸡主用)</td>\n",
       "      <td>1.0</td>\n",
       "      <td>...</td>\n",
       "      <td>光纤</td>\n",
       "      <td>G.652</td>\n",
       "      <td>04/12/2010 08:15:50</td>\n",
       "      <td>huawei</td>\n",
       "      <td>huawei</td>\n",
       "      <td>-</td>\n",
       "      <td>正常</td>\n",
       "      <td>未禁用</td>\n",
       "      <td>-</td>\n",
       "      <td>IS</td>\n",
       "    </tr>\n",
       "    <tr>\n",
       "      <th>21753</th>\n",
       "      <td>f-498</td>\n",
       "      <td>WDM</td>\n",
       "      <td>--</td>\n",
       "      <td>--</td>\n",
       "      <td>单纤单向</td>\n",
       "      <td>宝鸡眉县陕南环三OLA</td>\n",
       "      <td>734-陕南环三眉县-子架0-13-12VA1-1(IN/OUT)</td>\n",
       "      <td>宝鸡眉县陕南环三OLA</td>\n",
       "      <td>734-陕南环三眉县-子架0-14-OBU1-1(发宝鸡主用)</td>\n",
       "      <td>1.0</td>\n",
       "      <td>...</td>\n",
       "      <td>光纤</td>\n",
       "      <td>G.652</td>\n",
       "      <td>04/12/2010 08:15:50</td>\n",
       "      <td>huawei</td>\n",
       "      <td>huawei</td>\n",
       "      <td>-</td>\n",
       "      <td>正常</td>\n",
       "      <td>未禁用</td>\n",
       "      <td>-</td>\n",
       "      <td>IS</td>\n",
       "    </tr>\n",
       "    <tr>\n",
       "      <th>21754</th>\n",
       "      <td>f-512</td>\n",
       "      <td>WDM</td>\n",
       "      <td>--</td>\n",
       "      <td>--</td>\n",
       "      <td>单纤单向</td>\n",
       "      <td>咸阳应急楼陕南环三OLA</td>\n",
       "      <td>735-陕南环三咸阳应急楼-子架0-15-OAU1-5(RDC/TDC)</td>\n",
       "      <td>咸阳应急楼陕南环三OLA</td>\n",
       "      <td>735-陕南环三咸阳应急楼-子架0-15-OAU1-5(RDC/TDC)</td>\n",
       "      <td>1.0</td>\n",
       "      <td>...</td>\n",
       "      <td>光纤</td>\n",
       "      <td>G.652</td>\n",
       "      <td>04/12/2010 08:16:09</td>\n",
       "      <td>huawei</td>\n",
       "      <td>huawei</td>\n",
       "      <td>-</td>\n",
       "      <td>正常</td>\n",
       "      <td>未禁用</td>\n",
       "      <td>-</td>\n",
       "      <td>IS</td>\n",
       "    </tr>\n",
       "    <tr>\n",
       "      <th>21755</th>\n",
       "      <td>f-518</td>\n",
       "      <td>WDM</td>\n",
       "      <td>--</td>\n",
       "      <td>--</td>\n",
       "      <td>单纤单向</td>\n",
       "      <td>西安蓝田陕南环三OLA</td>\n",
       "      <td>721-陕南环三蓝田广电-子架0-15-OAU1-5(RDC/TDC)</td>\n",
       "      <td>西安蓝田陕南环三OLA</td>\n",
       "      <td>721-陕南环三蓝田广电-子架0-15-OAU1-5(RDC/TDC)</td>\n",
       "      <td>1.0</td>\n",
       "      <td>...</td>\n",
       "      <td>光纤</td>\n",
       "      <td>G.652</td>\n",
       "      <td>04/12/2010 08:17:13</td>\n",
       "      <td>huawei</td>\n",
       "      <td>huawei</td>\n",
       "      <td>-</td>\n",
       "      <td>正常</td>\n",
       "      <td>未禁用</td>\n",
       "      <td>-</td>\n",
       "      <td>IS</td>\n",
       "    </tr>\n",
       "    <tr>\n",
       "      <th>21756</th>\n",
       "      <td>f-447</td>\n",
       "      <td>WDM</td>\n",
       "      <td>--</td>\n",
       "      <td>--</td>\n",
       "      <td>单纤单向</td>\n",
       "      <td>商洛五楼陕南环三OADM</td>\n",
       "      <td>722-陕南环三商洛五楼-子架1-2-D40V-14(D13)</td>\n",
       "      <td>商洛五楼陕南环三OADM</td>\n",
       "      <td>722-陕南环三商洛五楼-子架5-11-12NS2-1(IN/OUT)</td>\n",
       "      <td>1.0</td>\n",
       "      <td>...</td>\n",
       "      <td>光纤</td>\n",
       "      <td>G.652</td>\n",
       "      <td>04/12/2010 09:38:22</td>\n",
       "      <td>huawei</td>\n",
       "      <td>huawei</td>\n",
       "      <td>-</td>\n",
       "      <td>正常</td>\n",
       "      <td>未禁用</td>\n",
       "      <td>-</td>\n",
       "      <td>IS</td>\n",
       "    </tr>\n",
       "    <tr>\n",
       "      <th>21757</th>\n",
       "      <td>f-448</td>\n",
       "      <td>WDM</td>\n",
       "      <td>--</td>\n",
       "      <td>--</td>\n",
       "      <td>单纤单向</td>\n",
       "      <td>商洛五楼陕南环三OADM</td>\n",
       "      <td>722-陕南环三商洛五楼-子架5-11-12NS2-1(IN/OUT)</td>\n",
       "      <td>商洛五楼陕南环三OADM</td>\n",
       "      <td>722-陕南环三商洛五楼-子架1-5-M40V-14(M13)</td>\n",
       "      <td>1.0</td>\n",
       "      <td>...</td>\n",
       "      <td>光纤</td>\n",
       "      <td>G.652</td>\n",
       "      <td>04/12/2010 09:38:22</td>\n",
       "      <td>huawei</td>\n",
       "      <td>huawei</td>\n",
       "      <td>-</td>\n",
       "      <td>正常</td>\n",
       "      <td>未禁用</td>\n",
       "      <td>-</td>\n",
       "      <td>IS</td>\n",
       "    </tr>\n",
       "    <tr>\n",
       "      <th>21758</th>\n",
       "      <td>f-449</td>\n",
       "      <td>WDM</td>\n",
       "      <td>--</td>\n",
       "      <td>--</td>\n",
       "      <td>单纤单向</td>\n",
       "      <td>商洛五楼陕南环三OADM</td>\n",
       "      <td>722-陕南环三商洛五楼-子架5-1-12NS2-1(IN/OUT)</td>\n",
       "      <td>商洛五楼陕南环三OADM</td>\n",
       "      <td>722-陕南环三商洛五楼-子架1-5-M40V-16(M15)</td>\n",
       "      <td>1.0</td>\n",
       "      <td>...</td>\n",
       "      <td>光纤</td>\n",
       "      <td>G.652</td>\n",
       "      <td>04/12/2010 09:38:22</td>\n",
       "      <td>huawei</td>\n",
       "      <td>huawei</td>\n",
       "      <td>-</td>\n",
       "      <td>正常</td>\n",
       "      <td>未禁用</td>\n",
       "      <td>-</td>\n",
       "      <td>IS</td>\n",
       "    </tr>\n",
       "    <tr>\n",
       "      <th>21759</th>\n",
       "      <td>f-456</td>\n",
       "      <td>WDM</td>\n",
       "      <td>--</td>\n",
       "      <td>--</td>\n",
       "      <td>单纤单向</td>\n",
       "      <td>商洛五楼陕南环三OADM</td>\n",
       "      <td>722-陕南环三商洛五楼-子架4-2-D40V-2(D01)</td>\n",
       "      <td>商洛五楼陕南环三OADM</td>\n",
       "      <td>722-陕南环三商洛五楼-子架5-6-12NS2-1(IN/OUT)</td>\n",
       "      <td>1.0</td>\n",
       "      <td>...</td>\n",
       "      <td>光纤</td>\n",
       "      <td>G.652</td>\n",
       "      <td>04/12/2010 09:38:22</td>\n",
       "      <td>huawei</td>\n",
       "      <td>huawei</td>\n",
       "      <td>-</td>\n",
       "      <td>正常</td>\n",
       "      <td>未禁用</td>\n",
       "      <td>-</td>\n",
       "      <td>IS</td>\n",
       "    </tr>\n",
       "    <tr>\n",
       "      <th>21760</th>\n",
       "      <td>f-457</td>\n",
       "      <td>WDM</td>\n",
       "      <td>--</td>\n",
       "      <td>--</td>\n",
       "      <td>单纤单向</td>\n",
       "      <td>商洛五楼陕南环三OADM</td>\n",
       "      <td>722-陕南环三商洛五楼-子架5-6-12NS2-1(IN/OUT)</td>\n",
       "      <td>商洛五楼陕南环三OADM</td>\n",
       "      <td>722-陕南环三商洛五楼-子架4-5-M40V-2(M01)</td>\n",
       "      <td>1.0</td>\n",
       "      <td>...</td>\n",
       "      <td>光纤</td>\n",
       "      <td>G.652</td>\n",
       "      <td>04/12/2010 09:38:22</td>\n",
       "      <td>huawei</td>\n",
       "      <td>huawei</td>\n",
       "      <td>-</td>\n",
       "      <td>正常</td>\n",
       "      <td>未禁用</td>\n",
       "      <td>-</td>\n",
       "      <td>IS</td>\n",
       "    </tr>\n",
       "    <tr>\n",
       "      <th>21761</th>\n",
       "      <td>f-458</td>\n",
       "      <td>WDM</td>\n",
       "      <td>--</td>\n",
       "      <td>--</td>\n",
       "      <td>单纤单向</td>\n",
       "      <td>商洛五楼陕南环三OADM</td>\n",
       "      <td>722-陕南环三商洛五楼-子架4-2-D40V-15(D14)</td>\n",
       "      <td>商洛五楼陕南环三OADM</td>\n",
       "      <td>722-陕南环三商洛五楼-子架5-4-12NS2-1(IN/OUT)</td>\n",
       "      <td>1.0</td>\n",
       "      <td>...</td>\n",
       "      <td>光纤</td>\n",
       "      <td>G.652</td>\n",
       "      <td>04/12/2010 09:38:22</td>\n",
       "      <td>huawei</td>\n",
       "      <td>huawei</td>\n",
       "      <td>-</td>\n",
       "      <td>正常</td>\n",
       "      <td>未禁用</td>\n",
       "      <td>-</td>\n",
       "      <td>IS</td>\n",
       "    </tr>\n",
       "    <tr>\n",
       "      <th>21762</th>\n",
       "      <td>f-459</td>\n",
       "      <td>WDM</td>\n",
       "      <td>--</td>\n",
       "      <td>--</td>\n",
       "      <td>单纤单向</td>\n",
       "      <td>商洛五楼陕南环三OADM</td>\n",
       "      <td>722-陕南环三商洛五楼-子架5-4-12NS2-1(IN/OUT)</td>\n",
       "      <td>商洛五楼陕南环三OADM</td>\n",
       "      <td>722-陕南环三商洛五楼-子架4-5-M40V-15(M14)</td>\n",
       "      <td>1.0</td>\n",
       "      <td>...</td>\n",
       "      <td>光纤</td>\n",
       "      <td>G.652</td>\n",
       "      <td>04/12/2010 09:38:22</td>\n",
       "      <td>huawei</td>\n",
       "      <td>huawei</td>\n",
       "      <td>-</td>\n",
       "      <td>正常</td>\n",
       "      <td>未禁用</td>\n",
       "      <td>-</td>\n",
       "      <td>IS</td>\n",
       "    </tr>\n",
       "    <tr>\n",
       "      <th>21763</th>\n",
       "      <td>f-460</td>\n",
       "      <td>WDM</td>\n",
       "      <td>--</td>\n",
       "      <td>--</td>\n",
       "      <td>单纤单向</td>\n",
       "      <td>商洛五楼陕南环三OADM</td>\n",
       "      <td>722-陕南环三商洛五楼-子架4-2-D40V-16(D15)</td>\n",
       "      <td>商洛五楼陕南环三OADM</td>\n",
       "      <td>722-陕南环三商洛五楼-子架5-2-12NS2-1(IN/OUT)</td>\n",
       "      <td>1.0</td>\n",
       "      <td>...</td>\n",
       "      <td>光纤</td>\n",
       "      <td>G.652</td>\n",
       "      <td>04/12/2010 09:38:22</td>\n",
       "      <td>huawei</td>\n",
       "      <td>huawei</td>\n",
       "      <td>-</td>\n",
       "      <td>正常</td>\n",
       "      <td>未禁用</td>\n",
       "      <td>-</td>\n",
       "      <td>IS</td>\n",
       "    </tr>\n",
       "    <tr>\n",
       "      <th>21764</th>\n",
       "      <td>f-461</td>\n",
       "      <td>WDM</td>\n",
       "      <td>--</td>\n",
       "      <td>--</td>\n",
       "      <td>单纤单向</td>\n",
       "      <td>商洛五楼陕南环三OADM</td>\n",
       "      <td>722-陕南环三商洛五楼-子架5-2-12NS2-1(IN/OUT)</td>\n",
       "      <td>商洛五楼陕南环三OADM</td>\n",
       "      <td>722-陕南环三商洛五楼-子架4-5-M40V-16(M15)</td>\n",
       "      <td>1.0</td>\n",
       "      <td>...</td>\n",
       "      <td>光纤</td>\n",
       "      <td>G.652</td>\n",
       "      <td>04/12/2010 09:38:22</td>\n",
       "      <td>huawei</td>\n",
       "      <td>huawei</td>\n",
       "      <td>-</td>\n",
       "      <td>正常</td>\n",
       "      <td>未禁用</td>\n",
       "      <td>-</td>\n",
       "      <td>IS</td>\n",
       "    </tr>\n",
       "    <tr>\n",
       "      <th>21765</th>\n",
       "      <td>f-462</td>\n",
       "      <td>WDM</td>\n",
       "      <td>--</td>\n",
       "      <td>--</td>\n",
       "      <td>单纤单向</td>\n",
       "      <td>商洛五楼陕南环三OADM</td>\n",
       "      <td>722-陕南环三商洛五楼-子架4-2-D40V-17(D16)</td>\n",
       "      <td>商洛五楼陕南环三OADM</td>\n",
       "      <td>722-陕南环三商洛五楼-子架2-15-12NS2-1(IN/OUT)</td>\n",
       "      <td>1.0</td>\n",
       "      <td>...</td>\n",
       "      <td>光纤</td>\n",
       "      <td>G.652</td>\n",
       "      <td>04/12/2010 09:38:22</td>\n",
       "      <td>huawei</td>\n",
       "      <td>huawei</td>\n",
       "      <td>-</td>\n",
       "      <td>正常</td>\n",
       "      <td>未禁用</td>\n",
       "      <td>-</td>\n",
       "      <td>IS</td>\n",
       "    </tr>\n",
       "  </tbody>\n",
       "</table>\n",
       "<p>21766 rows × 21 columns</p>\n",
       "</div>"
      ],
      "text/plain": [
       "                      名称     级别/容量 速率(bit/s) 上下行比例(发送:接收)    方向  \\\n",
       "0                    f-1  WDM CORD        --           --  单纤单向   \n",
       "1                    f-7  WDM CORD        --           --  单纤单向   \n",
       "2      1027-陕北环四张家船-f-16  WDM CORD        --           --  单纤单向   \n",
       "3        1025-陕北环四富县-f-6  WDM CORD        --           --  单纤单向   \n",
       "4        1025-陕北环四富县-f-9  WDM CORD        --           --  单纤单向   \n",
       "5       1025-陕北环四富县-f-13  WDM CORD        --           --  单纤单向   \n",
       "6       1025-陕北环四富县-f-17  WDM CORD        --           --  单纤单向   \n",
       "7        1021-陕北环四清涧-f-4  WDM CORD        --           --  单纤单向   \n",
       "8        1020-陕北环四绥德-f-1  WDM CORD        --           --  单纤单向   \n",
       "9        1020-陕北环四绥德-f-4  WDM CORD        --           --  单纤单向   \n",
       "10                  f-20  WDM CORD        --           --  单纤单向   \n",
       "11                  f-21  WDM CORD        --           --  单纤单向   \n",
       "12       1020-陕北环四绥德-f-8  WDM CORD        --           --  单纤单向   \n",
       "13                   f-6  WDM CORD        --           --  单纤单向   \n",
       "14                   f-5  WDM CORD        --           --  单纤单向   \n",
       "15      1020-陕北环四绥德-f-12  WDM CORD        --           --  单纤单向   \n",
       "16      1020-陕北环四绥德-f-16  WDM CORD        --           --  单纤单向   \n",
       "17       1019-陕北环四米脂-f-7  WDM CORD        --           --  单纤单向   \n",
       "18      1019-陕北环四米脂-f-12  WDM CORD        --           --  单纤单向   \n",
       "19      1019-陕北环四米脂-f-15  WDM CORD        --           --  单纤单向   \n",
       "20       1016-陕北环四横山-f-3  WDM CORD        --           --  单纤单向   \n",
       "21       1016-陕北环四横山-f-5  WDM CORD        --           --  单纤单向   \n",
       "22       1016-陕北环四横山-f-7  WDM CORD        --           --  单纤单向   \n",
       "23       1016-陕北环四横山-f-9  WDM CORD        --           --  单纤单向   \n",
       "24      1016-陕北环四横山-f-12  WDM CORD        --           --  单纤单向   \n",
       "25       1015-陕北环四靖边-f-5  WDM CORD        --           --  单纤单向   \n",
       "26       1015-陕北环四靖边-f-8  WDM CORD        --           --  单纤单向   \n",
       "27      1014-陕北环四镰刀湾-f-7  WDM CORD        --           --  单纤单向   \n",
       "28     1014-陕北环四镰刀湾-f-14  WDM CORD        --           --  单纤单向   \n",
       "29     1014-陕北环四镰刀湾-f-18  WDM CORD        --           --  单纤单向   \n",
       "...                  ...       ...       ...          ...   ...   \n",
       "21736              f-428       WDM        --           --  单纤单向   \n",
       "21737              f-440       WDM        --           --  单纤单向   \n",
       "21738              f-449       WDM        --           --  单纤单向   \n",
       "21739              f-462       WDM        --           --  单纤单向   \n",
       "21740              f-463       WDM        --           --  单纤单向   \n",
       "21741              f-408       WDM        --           --  单纤单向   \n",
       "21742              f-411       WDM        --           --  单纤单向   \n",
       "21743              f-413       WDM        --           --  单纤单向   \n",
       "21744              f-423       WDM        --           --  单纤单向   \n",
       "21745              f-430       WDM        --           --  单纤单向   \n",
       "21746              f-431       WDM        --           --  单纤单向   \n",
       "21747              f-434       WDM        --           --  单纤单向   \n",
       "21748              f-440       WDM        --           --  单纤单向   \n",
       "21749              f-477       WDM        --           --  单纤单向   \n",
       "21750              f-478       WDM        --           --  单纤单向   \n",
       "21751              f-493       WDM        --           --  单纤单向   \n",
       "21752              f-495       WDM        --           --  单纤单向   \n",
       "21753              f-498       WDM        --           --  单纤单向   \n",
       "21754              f-512       WDM        --           --  单纤单向   \n",
       "21755              f-518       WDM        --           --  单纤单向   \n",
       "21756              f-447       WDM        --           --  单纤单向   \n",
       "21757              f-448       WDM        --           --  单纤单向   \n",
       "21758              f-449       WDM        --           --  单纤单向   \n",
       "21759              f-456       WDM        --           --  单纤单向   \n",
       "21760              f-457       WDM        --           --  单纤单向   \n",
       "21761              f-458       WDM        --           --  单纤单向   \n",
       "21762              f-459       WDM        --           --  单纤单向   \n",
       "21763              f-460       WDM        --           --  单纤单向   \n",
       "21764              f-461       WDM        --           --  单纤单向   \n",
       "21765              f-462       WDM        --           --  单纤单向   \n",
       "\n",
       "                    源网元                                         源端口  \\\n",
       "0      西安西咸数据中心调度环三OADM          875-调度环三西咸数据中心-子架3-6-12ST2-4(TMO1)   \n",
       "1      西安西咸数据中心调度环四OADM  1086-调度环四西咸数据中心-子架0-25-U1N401P-1(IN1/OUT1)   \n",
       "2          渭南张家船陕北环四OLA      1027-陕北环四张家船-子架1-4-11SFIU-2(OSC1/OSC2)   \n",
       "3           延安富县陕北环四OLA           1025-陕北环四富县-子架0-4-12ST2-1(延安方向备用)   \n",
       "4           延安富县陕北环四OLA             1025-陕北环四富县-子架0-4-12ST2-6(TMO2)   \n",
       "5           延安富县陕北环四OLA      1025-陕北环四富县-子架0-14-11SFIU-2(OSC1/OSC2)   \n",
       "6           延安富县陕北环四OLA      1025-陕北环四富县-子架1-14-11SFIU-2(OSC1/OSC2)   \n",
       "7           榆林清涧陕北环四OLA             1021-陕北环四清涧-子架0-3-12ST2-4(TMO1)   \n",
       "8           榆林绥德陕北环四OLA           1020-陕北环四绥德-子架0-3-12ST2-1(米脂方向主用)   \n",
       "9           榆林绥德陕北环四OLA             1020-陕北环四绥德-子架0-3-12ST2-6(TMO2)   \n",
       "10            延安生产楼局间互联           1146-延安生产楼局间互联-子架1-3-13OAU1-8(VO)   \n",
       "11            延安生产楼局间互联          1146-延安生产楼局间互联-子架1-3-13OAU1-6(MON)   \n",
       "12          榆林绥德陕北环四OLA             1020-陕北环四绥德-子架0-4-12ST2-6(TMO2)   \n",
       "13           咸阳关中环五OADM          807-关中环五咸阳第二生产楼-子架0-14-D40-40(D39)   \n",
       "14           咸阳关中环五OADM  818-关中环五咸阳第二生产楼(电层)-子架1-32-54NS4-1(IN/OUT)   \n",
       "15          榆林绥德陕北环四OLA      1020-陕北环四绥德-子架0-14-11SFIU-2(OSC1/OSC2)   \n",
       "16          榆林绥德陕北环四OLA      1020-陕北环四绥德-子架1-14-11SFIU-2(OSC1/OSC2)   \n",
       "17          榆林米脂陕北环四OLA           1019-陕北环四米脂-子架0-4-12ST2-1(西沙方向备用)   \n",
       "18          榆林米脂陕北环四OLA       1019-陕北环四米脂-子架0-7-11SFIU-2(OSC1/OSC2)   \n",
       "19          榆林米脂陕北环四OLA       1019-陕北环四米脂-子架1-4-11SFIU-2(OSC1/OSC2)   \n",
       "20          榆林横山陕北环四OLA             1016-陕北环四横山-子架0-3-12ST2-4(TMO1)   \n",
       "21          榆林横山陕北环四OLA           1016-陕北环四横山-子架0-4-12ST2-1(靖边方向备用)   \n",
       "22          榆林横山陕北环四OLA             1016-陕北环四横山-子架0-4-12ST2-4(TMO1)   \n",
       "23          榆林横山陕北环四OLA       1016-陕北环四横山-子架0-7-11SFIU-2(OSC1/OSC2)   \n",
       "24          榆林横山陕北环四OLA       1016-陕北环四横山-子架1-4-11SFIU-2(OSC1/OSC2)   \n",
       "25          榆林靖边陕北环四OLA             1015-陕北环四靖边-子架0-3-12ST2-4(TMO1)   \n",
       "26          榆林靖边陕北环四OLA           1015-陕北环四靖边-子架0-4-12ST2-2(横山方向备用)   \n",
       "27         延安镰刀湾陕北环四OLA            1014-陕北环四镰刀湾-子架0-4-12ST2-1(安塞备用)   \n",
       "28         延安镰刀湾陕北环四OLA     1014-陕北环四镰刀湾-子架0-14-11SFIU-2(OSC1/OSC2)   \n",
       "29         延安镰刀湾陕北环四OLA     1014-陕北环四镰刀湾-子架1-14-11SFIU-2(OSC1/OSC2)   \n",
       "...                 ...                                         ...   \n",
       "21736     西安张家堡陕南环二OADM              701-陕南环二张家堡-子架1-2-D40V-22(D21)   \n",
       "21737     西安张家堡陕南环二OADM          701-陕南环二张家堡-子架1-14-OAU1-5(RDC/TDC)   \n",
       "21738     西安张家堡陕南环二OADM          701-陕南环二张家堡-子架4-14-OAU1-5(RDC/TDC)   \n",
       "21739     西安张家堡陕南环二OADM              701-陕南环二张家堡-子架1-2-D40V-36(D35)   \n",
       "21740     西安张家堡陕南环二OADM           701-陕南环二张家堡-子架5-5-12NS2-1(IN/OUT)   \n",
       "21741       商洛柞水陕南环三OLA          724-陕南环三柞水营盘-子架0-5-12VA1-1(IN/OUT)   \n",
       "21742       商洛柞水陕南环三OLA         724-陕南环三柞水营盘-子架0-14-12VA1-1(IN/OUT)   \n",
       "21743       商洛柞水陕南环三OLA          724-陕南环三柞水营盘-子架0-3-OAU1-5(RDC/TDC)   \n",
       "21744       商洛镇安陕南环三OLA           725-陕南环三镇安-子架0-13-12VA1-1(IN/OUT)   \n",
       "21745       安康旬阳陕南环三OLA                726-陕南环三旬阳-子架0-2-OBU1-2(OUT)   \n",
       "21746       安康旬阳陕南环三OLA            726-陕南环三旬阳-子架0-5-12VA1-1(IN/OUT)   \n",
       "21747       安康旬阳陕南环三OLA           726-陕南环三旬阳-子架0-13-12VA1-1(IN/OUT)   \n",
       "21748       安康旬阳陕南环三OLA           726-陕南环三旬阳-子架0-15-OAU1-5(RDC/TDC)   \n",
       "21749       宝鸡凤县陕南环三OLA            732-陕南环三凤县-子架0-3-OAU1-5(RDC/TDC)   \n",
       "21750       宝鸡凤县陕南环三OLA           732-陕南环三凤县-子架0-15-OAU1-5(RDC/TDC)   \n",
       "21751       宝鸡眉县陕南环三OLA            734-陕南环三眉县-子架0-3-OAU1-5(RDC/TDC)   \n",
       "21752       宝鸡眉县陕南环三OLA            734-陕南环三眉县-子架0-5-12VA1-1(IN/OUT)   \n",
       "21753       宝鸡眉县陕南环三OLA           734-陕南环三眉县-子架0-13-12VA1-1(IN/OUT)   \n",
       "21754      咸阳应急楼陕南环三OLA        735-陕南环三咸阳应急楼-子架0-15-OAU1-5(RDC/TDC)   \n",
       "21755       西安蓝田陕南环三OLA         721-陕南环三蓝田广电-子架0-15-OAU1-5(RDC/TDC)   \n",
       "21756      商洛五楼陕南环三OADM             722-陕南环三商洛五楼-子架1-2-D40V-14(D13)   \n",
       "21757      商洛五楼陕南环三OADM         722-陕南环三商洛五楼-子架5-11-12NS2-1(IN/OUT)   \n",
       "21758      商洛五楼陕南环三OADM          722-陕南环三商洛五楼-子架5-1-12NS2-1(IN/OUT)   \n",
       "21759      商洛五楼陕南环三OADM              722-陕南环三商洛五楼-子架4-2-D40V-2(D01)   \n",
       "21760      商洛五楼陕南环三OADM          722-陕南环三商洛五楼-子架5-6-12NS2-1(IN/OUT)   \n",
       "21761      商洛五楼陕南环三OADM             722-陕南环三商洛五楼-子架4-2-D40V-15(D14)   \n",
       "21762      商洛五楼陕南环三OADM          722-陕南环三商洛五楼-子架5-4-12NS2-1(IN/OUT)   \n",
       "21763      商洛五楼陕南环三OADM             722-陕南环三商洛五楼-子架4-2-D40V-16(D15)   \n",
       "21764      商洛五楼陕南环三OADM          722-陕南环三商洛五楼-子架5-2-12NS2-1(IN/OUT)   \n",
       "21765      商洛五楼陕南环三OADM             722-陕南环三商洛五楼-子架4-2-D40V-17(D16)   \n",
       "\n",
       "                    宿网元                                         宿端口 长度(km)  \\\n",
       "0      西安西咸数据中心调度环三OADM    875-调度环三西咸数据中心-子架1-9-11SFIU-2(OSC1/OSC2)     --   \n",
       "1      西安西咸数据中心调度环四OADM        1084-调度环四西咸数据中心-子架3-1-13M40V-17(M16)     --   \n",
       "2          渭南张家船陕北环四OLA     1027-陕北环四张家船-子架0-4-12ST2-2(RM2/TM2蒲城备用)     --   \n",
       "3           延安富县陕北环四OLA             1025-陕北环四富县-子架0-4-12ST2-3(TMI1)     --   \n",
       "4           延安富县陕北环四OLA       1025-陕北环四富县-子架1-4-11SFIU-2(OSC1/OSC2)     --   \n",
       "5           延安富县陕北环四OLA           1025-陕北环四富县-子架0-3-12ST2-1(延安方向主用)     --   \n",
       "6           延安富县陕北环四OLA           1025-陕北环四富县-子架0-4-12ST2-1(延安方向备用)     --   \n",
       "7           榆林清涧陕北环四OLA      1021-陕北环四清涧-子架0-15-11SFIU-2(OSC1/OSC2)     --   \n",
       "8           榆林绥德陕北环四OLA             1020-陕北环四绥德-子架0-3-12ST2-3(TMI1)     --   \n",
       "9           榆林绥德陕北环四OLA       1020-陕北环四绥德-子架0-7-11SFIU-2(OSC1/OSC2)     --   \n",
       "10            延安生产楼局间互联           1146-延安生产楼局间互联-子架1-3-13OAU1-1(IN)     --   \n",
       "11            延安生产楼局间互联            1146-延安生产楼局间互联-子架0-6-MCA8-3(IN3)     --   \n",
       "12          榆林绥德陕北环四OLA       1020-陕北环四绥德-子架1-4-11SFIU-2(OSC1/OSC2)     --   \n",
       "13           咸阳关中环五OADM  818-关中环五咸阳第二生产楼(电层)-子架1-32-54NS4-1(IN/OUT)     --   \n",
       "14           咸阳关中环五OADM          807-关中环五咸阳第二生产楼-子架0-1-M40V-40(M39)     --   \n",
       "15          榆林绥德陕北环四OLA           1020-陕北环四绥德-子架0-3-12ST2-1(米脂方向主用)     --   \n",
       "16          榆林绥德陕北环四OLA           1020-陕北环四绥德-子架0-4-12ST2-1(米脂方向备用)     --   \n",
       "17          榆林米脂陕北环四OLA             1019-陕北环四米脂-子架0-4-12ST2-3(TMI1)     --   \n",
       "18          榆林米脂陕北环四OLA     1019-陕北环四米脂-子架0-3-12ST2-2(绥德方向主用+5db光衰)     --   \n",
       "19          榆林米脂陕北环四OLA           1019-陕北环四米脂-子架0-4-12ST2-2(绥德方向备用)     --   \n",
       "20          榆林横山陕北环四OLA      1016-陕北环四横山-子架0-14-11SFIU-2(OSC1/OSC2)     --   \n",
       "21          榆林横山陕北环四OLA             1016-陕北环四横山-子架0-4-12ST2-3(TMI1)     --   \n",
       "22          榆林横山陕北环四OLA      1016-陕北环四横山-子架1-14-11SFIU-2(OSC1/OSC2)     --   \n",
       "23          榆林横山陕北环四OLA           1016-陕北环四横山-子架0-3-12ST2-2(西沙方向主用)     --   \n",
       "24          榆林横山陕北环四OLA           1016-陕北环四横山-子架0-4-12ST2-2(西沙方向备用)     --   \n",
       "25          榆林靖边陕北环四OLA      1015-陕北环四靖边-子架0-14-11SFIU-2(OSC1/OSC2)     --   \n",
       "26          榆林靖边陕北环四OLA             1015-陕北环四靖边-子架0-4-12ST2-5(TMI2)     --   \n",
       "27         延安镰刀湾陕北环四OLA            1014-陕北环四镰刀湾-子架0-4-12ST2-3(TMI1)     --   \n",
       "28         延安镰刀湾陕北环四OLA            1014-陕北环四镰刀湾-子架0-3-12ST2-1(安塞主用)     --   \n",
       "29         延安镰刀湾陕北环四OLA            1014-陕北环四镰刀湾-子架0-4-12ST2-1(安塞备用)     --   \n",
       "...                 ...                                         ...    ...   \n",
       "21736     西安张家堡陕南环二OADM           701-陕南环二张家堡-子架5-1-12NS2-1(IN/OUT)    1.0   \n",
       "21737     西安张家堡陕南环二OADM          701-陕南环二张家堡-子架1-14-OAU1-5(RDC/TDC)    1.0   \n",
       "21738     西安张家堡陕南环二OADM          701-陕南环二张家堡-子架4-14-OAU1-5(RDC/TDC)    1.0   \n",
       "21739     西安张家堡陕南环二OADM           701-陕南环二张家堡-子架5-5-12NS2-1(IN/OUT)    1.0   \n",
       "21740     西安张家堡陕南环二OADM              701-陕南环二张家堡-子架1-5-M40V-36(M35)    1.0   \n",
       "21741       商洛柞水陕南环三OLA               724-陕南环三柞水营盘-子架0-3-OAU1-1(IN)    1.0   \n",
       "21742       商洛柞水陕南环三OLA              724-陕南环三柞水营盘-子架0-15-OBU1-1(IN)    1.0   \n",
       "21743       商洛柞水陕南环三OLA          724-陕南环三柞水营盘-子架0-3-OAU1-5(RDC/TDC)    1.0   \n",
       "21744       商洛镇安陕南环三OLA             725-陕南环三镇安-子架0-14-OBU1-1(发柞水方向)    1.0   \n",
       "21745       安康旬阳陕南环三OLA            726-陕南环三旬阳-子架0-5-12VA1-1(IN/OUT)    1.0   \n",
       "21746       安康旬阳陕南环三OLA                 726-陕南环三旬阳-子架0-3-OBU1-1(IN)    1.0   \n",
       "21747       安康旬阳陕南环三OLA          726-陕南环三旬阳-子架0-15-OAU1-1(收安康发镇安主用)    1.0   \n",
       "21748       安康旬阳陕南环三OLA           726-陕南环三旬阳-子架0-15-OAU1-5(RDC/TDC)    1.0   \n",
       "21749       宝鸡凤县陕南环三OLA            732-陕南环三凤县-子架0-3-OAU1-5(RDC/TDC)    1.0   \n",
       "21750       宝鸡凤县陕南环三OLA           732-陕南环三凤县-子架0-15-OAU1-5(RDC/TDC)    1.0   \n",
       "21751       宝鸡眉县陕南环三OLA            734-陕南环三眉县-子架0-3-OAU1-5(RDC/TDC)    1.0   \n",
       "21752       宝鸡眉县陕南环三OLA              734-陕南环三眉县-子架0-3-OAU1-1(收宝鸡主用)    1.0   \n",
       "21753       宝鸡眉县陕南环三OLA             734-陕南环三眉县-子架0-14-OBU1-1(发宝鸡主用)    1.0   \n",
       "21754      咸阳应急楼陕南环三OLA        735-陕南环三咸阳应急楼-子架0-15-OAU1-5(RDC/TDC)    1.0   \n",
       "21755       西安蓝田陕南环三OLA         721-陕南环三蓝田广电-子架0-15-OAU1-5(RDC/TDC)    1.0   \n",
       "21756      商洛五楼陕南环三OADM         722-陕南环三商洛五楼-子架5-11-12NS2-1(IN/OUT)    1.0   \n",
       "21757      商洛五楼陕南环三OADM             722-陕南环三商洛五楼-子架1-5-M40V-14(M13)    1.0   \n",
       "21758      商洛五楼陕南环三OADM             722-陕南环三商洛五楼-子架1-5-M40V-16(M15)    1.0   \n",
       "21759      商洛五楼陕南环三OADM          722-陕南环三商洛五楼-子架5-6-12NS2-1(IN/OUT)    1.0   \n",
       "21760      商洛五楼陕南环三OADM              722-陕南环三商洛五楼-子架4-5-M40V-2(M01)    1.0   \n",
       "21761      商洛五楼陕南环三OADM          722-陕南环三商洛五楼-子架5-4-12NS2-1(IN/OUT)    1.0   \n",
       "21762      商洛五楼陕南环三OADM             722-陕南环三商洛五楼-子架4-5-M40V-15(M14)    1.0   \n",
       "21763      商洛五楼陕南环三OADM          722-陕南环三商洛五楼-子架5-2-12NS2-1(IN/OUT)    1.0   \n",
       "21764      商洛五楼陕南环三OADM             722-陕南环三商洛五楼-子架4-5-M40V-16(M15)    1.0   \n",
       "21765      商洛五楼陕南环三OADM         722-陕南环三商洛五楼-子架2-15-12NS2-1(IN/OUT)    1.0   \n",
       "\n",
       "      ...  纤缆类型   介质类型                 创建时间     创建人员     维护人员 备注 告警级别 禁用状态  \\\n",
       "0     ...    光纤  G.652  08/03/2018 14:26:47  yaoqian  yaoqian  -   正常  未禁用   \n",
       "1     ...    光纤  G.652  10/10/2018 14:39:17  yaoqian  yaoqian  -   正常  未禁用   \n",
       "2     ...    光纤  G.652  08/06/2018 16:28:53    admin    admin  -   正常  未禁用   \n",
       "3     ...    光纤  G.652  08/06/2018 16:28:55    admin    admin  -   正常  未禁用   \n",
       "4     ...    光纤  G.652  08/06/2018 16:28:55    admin    admin  -   正常  未禁用   \n",
       "5     ...    光纤  G.652  08/06/2018 16:28:55    admin    admin  -   正常  未禁用   \n",
       "6     ...    光纤  G.652  08/06/2018 16:28:55    admin    admin  -   正常  未禁用   \n",
       "7     ...    光纤  G.652  08/06/2018 16:29:57    admin    admin  -   正常  未禁用   \n",
       "8     ...    光纤  G.652  08/06/2018 16:30:36    admin    admin  -   正常  未禁用   \n",
       "9     ...    光纤  G.652  08/06/2018 16:30:36    admin    admin  -   正常  未禁用   \n",
       "10    ...    光纤  G.652  06/10/2018 11:26:13  yaoqian  yaoqian  -   正常  未禁用   \n",
       "11    ...    光纤  G.652  06/10/2018 11:26:26  yaoqian  yaoqian  -   正常  未禁用   \n",
       "12    ...    光纤  G.652  08/06/2018 16:30:36    admin    admin  -   正常  未禁用   \n",
       "13    ...    光纤  G.652  04/23/2018 09:38:02  yaoqian  yaoqian  -   正常  未禁用   \n",
       "14    ...    光纤  G.652  04/23/2018 09:37:05  yaoqian  yaoqian  -   正常  未禁用   \n",
       "15    ...    光纤  G.652  08/06/2018 16:30:36    admin    admin  -   正常  未禁用   \n",
       "16    ...    光纤  G.652  08/06/2018 16:30:36    admin    admin  -   正常  未禁用   \n",
       "17    ...    光纤  G.652  08/06/2018 16:30:41    admin    admin  -   正常  未禁用   \n",
       "18    ...    光纤  G.652  08/06/2018 16:30:41    admin    admin  -   正常  未禁用   \n",
       "19    ...    光纤  G.652  08/06/2018 16:30:41    admin    admin  -   正常  未禁用   \n",
       "20    ...    光纤  G.652  08/06/2018 16:32:19    admin    admin  -   正常  未禁用   \n",
       "21    ...    光纤  G.652  08/06/2018 16:32:19    admin    admin  -   正常  未禁用   \n",
       "22    ...    光纤  G.652  08/06/2018 16:32:19    admin    admin  -   正常  未禁用   \n",
       "23    ...    光纤  G.652  08/06/2018 16:32:19    admin    admin  -   正常  未禁用   \n",
       "24    ...    光纤  G.652  08/06/2018 16:32:19    admin    admin  -   正常  未禁用   \n",
       "25    ...    光纤  G.652  08/06/2018 16:32:35    admin    admin  -   正常  未禁用   \n",
       "26    ...    光纤  G.652  08/06/2018 16:32:35    admin    admin  -   正常  未禁用   \n",
       "27    ...    光纤  G.652  08/06/2018 16:32:35    admin    admin  -   正常  未禁用   \n",
       "28    ...    光纤  G.652  08/06/2018 16:32:35    admin    admin  -   正常  未禁用   \n",
       "29    ...    光纤  G.652  08/06/2018 16:32:35    admin    admin  -   正常  未禁用   \n",
       "...   ...   ...    ...                  ...      ...      ... ..  ...  ...   \n",
       "21736 ...    光纤  G.652  04/12/2010 08:03:09   huawei   huawei  -   正常  未禁用   \n",
       "21737 ...    光纤  G.652  04/12/2010 08:03:09   huawei   huawei  -   正常  未禁用   \n",
       "21738 ...    光纤  G.652  04/12/2010 08:03:09   huawei   huawei  -   正常  未禁用   \n",
       "21739 ...    光纤  G.652  04/12/2010 08:03:09   huawei   huawei  -   正常  未禁用   \n",
       "21740 ...    光纤  G.652  04/12/2010 08:03:09   huawei   huawei  -   正常  未禁用   \n",
       "21741 ...    光纤  G.652  04/12/2010 08:13:16   huawei   huawei  -   正常  未禁用   \n",
       "21742 ...    光纤  G.652  04/12/2010 08:13:16   huawei   huawei  -   正常  未禁用   \n",
       "21743 ...    光纤  G.652  04/12/2010 08:13:16   huawei   huawei  -   正常  未禁用   \n",
       "21744 ...    光纤  G.652  04/12/2010 08:13:59   huawei   huawei  -   正常  未禁用   \n",
       "21745 ...    光纤  G.652  04/12/2010 08:14:19   huawei   huawei  -   正常  未禁用   \n",
       "21746 ...    光纤  G.652  04/12/2010 08:14:19   huawei   huawei  -   正常  未禁用   \n",
       "21747 ...    光纤  G.652  04/12/2010 08:14:19   huawei   huawei  -   正常  未禁用   \n",
       "21748 ...    光纤  G.652  04/12/2010 08:14:19   huawei   huawei  -   正常  未禁用   \n",
       "21749 ...    光纤  G.652  04/12/2010 08:15:32   huawei   huawei  -   正常  未禁用   \n",
       "21750 ...    光纤  G.652  04/12/2010 08:15:32   huawei   huawei  -   正常  未禁用   \n",
       "21751 ...    光纤  G.652  04/12/2010 08:15:50   huawei   huawei  -   正常  未禁用   \n",
       "21752 ...    光纤  G.652  04/12/2010 08:15:50   huawei   huawei  -   正常  未禁用   \n",
       "21753 ...    光纤  G.652  04/12/2010 08:15:50   huawei   huawei  -   正常  未禁用   \n",
       "21754 ...    光纤  G.652  04/12/2010 08:16:09   huawei   huawei  -   正常  未禁用   \n",
       "21755 ...    光纤  G.652  04/12/2010 08:17:13   huawei   huawei  -   正常  未禁用   \n",
       "21756 ...    光纤  G.652  04/12/2010 09:38:22   huawei   huawei  -   正常  未禁用   \n",
       "21757 ...    光纤  G.652  04/12/2010 09:38:22   huawei   huawei  -   正常  未禁用   \n",
       "21758 ...    光纤  G.652  04/12/2010 09:38:22   huawei   huawei  -   正常  未禁用   \n",
       "21759 ...    光纤  G.652  04/12/2010 09:38:22   huawei   huawei  -   正常  未禁用   \n",
       "21760 ...    光纤  G.652  04/12/2010 09:38:22   huawei   huawei  -   正常  未禁用   \n",
       "21761 ...    光纤  G.652  04/12/2010 09:38:22   huawei   huawei  -   正常  未禁用   \n",
       "21762 ...    光纤  G.652  04/12/2010 09:38:22   huawei   huawei  -   正常  未禁用   \n",
       "21763 ...    光纤  G.652  04/12/2010 09:38:22   huawei   huawei  -   正常  未禁用   \n",
       "21764 ...    光纤  G.652  04/12/2010 09:38:22   huawei   huawei  -   正常  未禁用   \n",
       "21765 ...    光纤  G.652  04/12/2010 09:38:22   huawei   huawei  -   正常  未禁用   \n",
       "\n",
       "      告警时间 维护状态  \n",
       "0        -   IS  \n",
       "1        -   IS  \n",
       "2        -   IS  \n",
       "3        -   IS  \n",
       "4        -   IS  \n",
       "5        -   IS  \n",
       "6        -   IS  \n",
       "7        -   IS  \n",
       "8        -   IS  \n",
       "9        -   IS  \n",
       "10       -   IS  \n",
       "11       -   IS  \n",
       "12       -   IS  \n",
       "13       -   IS  \n",
       "14       -   IS  \n",
       "15       -   IS  \n",
       "16       -   IS  \n",
       "17       -   IS  \n",
       "18       -   IS  \n",
       "19       -   IS  \n",
       "20       -   IS  \n",
       "21       -   IS  \n",
       "22       -   IS  \n",
       "23       -   IS  \n",
       "24       -   IS  \n",
       "25       -   IS  \n",
       "26       -   IS  \n",
       "27       -   IS  \n",
       "28       -   IS  \n",
       "29       -   IS  \n",
       "...    ...  ...  \n",
       "21736    -   IS  \n",
       "21737    -   IS  \n",
       "21738    -   IS  \n",
       "21739    -   IS  \n",
       "21740    -   IS  \n",
       "21741    -   IS  \n",
       "21742    -   IS  \n",
       "21743    -   IS  \n",
       "21744    -   IS  \n",
       "21745    -   IS  \n",
       "21746    -   IS  \n",
       "21747    -   IS  \n",
       "21748    -   IS  \n",
       "21749    -   IS  \n",
       "21750    -   IS  \n",
       "21751    -   IS  \n",
       "21752    -   IS  \n",
       "21753    -   IS  \n",
       "21754    -   IS  \n",
       "21755    -   IS  \n",
       "21756    -   IS  \n",
       "21757    -   IS  \n",
       "21758    -   IS  \n",
       "21759    -   IS  \n",
       "21760    -   IS  \n",
       "21761    -   IS  \n",
       "21762    -   IS  \n",
       "21763    -   IS  \n",
       "21764    -   IS  \n",
       "21765    -   IS  \n",
       "\n",
       "[21766 rows x 21 columns]"
      ]
     },
     "execution_count": 59,
     "metadata": {},
     "output_type": "execute_result"
    }
   ],
   "source": [
    "xl=pd.ExcelFile('line.xlsx',header=None)\n",
    "xl.parse()\n",
    "trees={}\n",
    "for i in xl.sheet_names:\n",
    "    # print(i)\n",
    "    data=xl.parse(i,header=None).fillna(method='ffill')\n",
    "    # print(data)\n",
    "    root=mt.TreeNode(i)\n",
    "    for row in data.iterrows():\n",
    "        root.find_child(' '.join('%s' %id for id in row[1]),create=True)\n",
    "    root.dump()\n",
    "    trees[i]=root\n",
    "\n",
    "print(trees.keys())\n",
    "xlink=pd.ExcelFile('link.xlsx',header=0)\n",
    "xlink.parse()\n",
    "\n",
    "\n"
   ]
  },
  {
   "cell_type": "code",
   "execution_count": 60,
   "metadata": {},
   "outputs": [
    {
     "name": "stdout",
     "output_type": "stream",
     "text": [
      "250\n"
     ]
    }
   ],
   "source": [
    "links = xlink.parse(xlink.sheet_names[0],header=0)\n",
    "print(links['源网元'].nunique())"
   ]
  },
  {
   "cell_type": "code",
   "execution_count": 61,
   "metadata": {},
   "outputs": [
    {
     "data": {
      "text/plain": [
       "<pandas.core.groupby.groupby.DataFrameGroupBy object at 0x0000000008E30C18>"
      ]
     },
     "execution_count": 61,
     "metadata": {},
     "output_type": "execute_result"
    },
    {
     "name": "stdout",
     "output_type": "stream",
     "text": [
      "250\n"
     ]
    }
   ],
   "source": [
    "nodedict={}\n",
    "source='安康二楼（东环1）OADM'\n",
    "links.groupby(['源网元'])\n",
    "for k1, group in links.groupby(['源网元']):\n",
    "    nodedict[k1]=group\n",
    "#print(nodedict.keys())\n",
    "print(len(nodedict))"
   ]
  },
  {
   "cell_type": "code",
   "execution_count": 62,
   "metadata": {},
   "outputs": [],
   "source": [
    "# source='关中环四'\n",
    "# df=links[links['源网元'].str.contains(source) & links['宿网元'].str.contains(des)]\n",
    "sourcenode='西安锦业路关中环四OADM'\n",
    "#sourceport='1120-关中环四锦业路-子架0-34-58NS4-1(IN/OUT)'\\\n",
    "#sourceport='978-关中环四锦业路-子架3-9-ITL-1'\n",
    "#sourceport='978-关中环四锦业路-子架3-6-12OLP-1'\n",
    "#sourceport='978-关中环四锦业路-子架3-4-13OAU1-4'\n",
    "sourceport='978-关中环四锦业路-子架3-10-11SFIU-1'\n",
    "group=nodedict.get(sourcenode)"
   ]
  },
  {
   "cell_type": "code",
   "execution_count": 63,
   "metadata": {},
   "outputs": [
    {
     "data": {
      "text/plain": [
       "'源端口'"
      ]
     },
     "execution_count": 63,
     "metadata": {},
     "output_type": "execute_result"
    },
    {
     "data": {
      "text/plain": [
       "'宿端口'"
      ]
     },
     "execution_count": 63,
     "metadata": {},
     "output_type": "execute_result"
    },
    {
     "data": {
      "text/plain": [
       "'978-关中环四锦业路-子架3-10-11SFIU-1(LINE1/LINE2)'"
      ]
     },
     "execution_count": 63,
     "metadata": {},
     "output_type": "execute_result"
    },
    {
     "data": {
      "text/plain": [
       "'800-关中环四张家堡-子架3-10-11SFIU-1(LINE1/LINE2)'"
      ]
     },
     "execution_count": 63,
     "metadata": {},
     "output_type": "execute_result"
    },
    {
     "name": "stdout",
     "output_type": "stream",
     "text": [
      "西安张家堡关中环四OADM\n"
     ]
    }
   ],
   "source": [
    "sou,dest=group[group['源端口'].str.contains(sourceport)].loc[:,['源端口','宿端口']]\n",
    "destnode = group[group['源端口'].str.contains(sourceport)].iat[0,7]\n",
    "sou\n",
    "dest\n",
    "a,b=group[group['源端口'].str.contains(sourceport)].loc[:,['源端口','宿端口']].values.tolist()[0]\n",
    "a\n",
    "b\n",
    "\n",
    "print(destnode)"
   ]
  },
  {
   "cell_type": "code",
   "execution_count": 64,
   "metadata": {},
   "outputs": [
    {
     "name": "stdout",
     "output_type": "stream",
     "text": [
      "800-关中环四张家堡-子架3-10-11SFIU-1(LINE1/LINE2)\n",
      "800-关中环四张家堡-子架3-10-11SFIU\n"
     ]
    }
   ],
   "source": [
    "destport = group[group['源端口'].str.contains(sourceport)].iat[0,8]\n",
    "print(destport)\n",
    "id,node,subrack,slot,board,port=parsenode(destport)\n",
    "search=id+'-'+node+'-'+subrack+'-'+slot+'-'+board\n",
    "print(search)\n"
   ]
  },
  {
   "cell_type": "code",
   "execution_count": 65,
   "metadata": {},
   "outputs": [
    {
     "data": {
      "text/plain": [
       "'西安张家堡关中环四OADM'"
      ]
     },
     "execution_count": 65,
     "metadata": {},
     "output_type": "execute_result"
    },
    {
     "data": {
      "text/plain": [
       "'西安锦业路关中环四OADM'"
      ]
     },
     "execution_count": 65,
     "metadata": {},
     "output_type": "execute_result"
    },
    {
     "data": {
      "text/plain": [
       "'800-关中环四张家堡-子架3-10-11SFIU'"
      ]
     },
     "execution_count": 65,
     "metadata": {},
     "output_type": "execute_result"
    }
   ],
   "source": [
    "destnode\n",
    "sourcenode\n",
    "search\n"
   ]
  },
  {
   "cell_type": "code",
   "execution_count": 66,
   "metadata": {},
   "outputs": [
    {
     "data": {
      "text/plain": [
       "'800-关中环四张家堡-子架3-10-11SFIU'"
      ]
     },
     "execution_count": 66,
     "metadata": {},
     "output_type": "execute_result"
    },
    {
     "data": {
      "text/plain": [
       "'800-关中环四张家堡-子架3-10-11SFIU-3'"
      ]
     },
     "execution_count": 66,
     "metadata": {},
     "output_type": "execute_result"
    },
    {
     "data": {
      "text/html": [
       "<div>\n",
       "<style scoped>\n",
       "    .dataframe tbody tr th:only-of-type {\n",
       "        vertical-align: middle;\n",
       "    }\n",
       "\n",
       "    .dataframe tbody tr th {\n",
       "        vertical-align: top;\n",
       "    }\n",
       "\n",
       "    .dataframe thead th {\n",
       "        text-align: right;\n",
       "    }\n",
       "</style>\n",
       "<table border=\"1\" class=\"dataframe\">\n",
       "  <thead>\n",
       "    <tr style=\"text-align: right;\">\n",
       "      <th></th>\n",
       "      <th>名称</th>\n",
       "      <th>级别/容量</th>\n",
       "      <th>速率(bit/s)</th>\n",
       "      <th>上下行比例(发送:接收)</th>\n",
       "      <th>方向</th>\n",
       "      <th>源网元</th>\n",
       "      <th>源端口</th>\n",
       "      <th>宿网元</th>\n",
       "      <th>宿端口</th>\n",
       "      <th>长度(km)</th>\n",
       "      <th>...</th>\n",
       "      <th>纤缆类型</th>\n",
       "      <th>介质类型</th>\n",
       "      <th>创建时间</th>\n",
       "      <th>创建人员</th>\n",
       "      <th>维护人员</th>\n",
       "      <th>备注</th>\n",
       "      <th>告警级别</th>\n",
       "      <th>禁用状态</th>\n",
       "      <th>告警时间</th>\n",
       "      <th>维护状态</th>\n",
       "    </tr>\n",
       "  </thead>\n",
       "  <tbody>\n",
       "    <tr>\n",
       "      <th>11332</th>\n",
       "      <td>f-16</td>\n",
       "      <td>WDM CORD</td>\n",
       "      <td>--</td>\n",
       "      <td>--</td>\n",
       "      <td>单纤单向</td>\n",
       "      <td>西安张家堡关中环四OADM</td>\n",
       "      <td>800-关中环四张家堡-子架3-10-11SFIU-3(SYS1/SYS2)</td>\n",
       "      <td>西安张家堡关中环四OADM</td>\n",
       "      <td>800-关中环四张家堡-子架3-12-13OAU1-7(VI)</td>\n",
       "      <td>--</td>\n",
       "      <td>...</td>\n",
       "      <td>光纤</td>\n",
       "      <td>G.652</td>\n",
       "      <td>05/05/2016 02:00:48</td>\n",
       "      <td>admin</td>\n",
       "      <td>admin</td>\n",
       "      <td>-</td>\n",
       "      <td>正常</td>\n",
       "      <td>未禁用</td>\n",
       "      <td>-</td>\n",
       "      <td>IS</td>\n",
       "    </tr>\n",
       "  </tbody>\n",
       "</table>\n",
       "<p>1 rows × 21 columns</p>\n",
       "</div>"
      ],
      "text/plain": [
       "         名称     级别/容量 速率(bit/s) 上下行比例(发送:接收)    方向            源网元  \\\n",
       "11332  f-16  WDM CORD        --           --  单纤单向  西安张家堡关中环四OADM   \n",
       "\n",
       "                                          源端口            宿网元  \\\n",
       "11332  800-关中环四张家堡-子架3-10-11SFIU-3(SYS1/SYS2)  西安张家堡关中环四OADM   \n",
       "\n",
       "                                   宿端口 长度(km) ...  纤缆类型   介质类型  \\\n",
       "11332  800-关中环四张家堡-子架3-12-13OAU1-7(VI)     -- ...    光纤  G.652   \n",
       "\n",
       "                      创建时间   创建人员   维护人员 备注 告警级别 禁用状态 告警时间 维护状态  \n",
       "11332  05/05/2016 02:00:48  admin  admin  -   正常  未禁用    -   IS  \n",
       "\n",
       "[1 rows x 21 columns]"
      ]
     },
     "execution_count": 66,
     "metadata": {},
     "output_type": "execute_result"
    },
    {
     "name": "stdout",
     "output_type": "stream",
     "text": [
      "         名称     级别/容量 速率(bit/s) 上下行比例(发送:接收)    方向            源网元  \\\n",
      "11332  f-16  WDM CORD        --           --  单纤单向  西安张家堡关中环四OADM   \n",
      "\n",
      "                                          源端口            宿网元  \\\n",
      "11332  800-关中环四张家堡-子架3-10-11SFIU-3(SYS1/SYS2)  西安张家堡关中环四OADM   \n",
      "\n",
      "                                   宿端口 长度(km) ...  纤缆类型   介质类型  \\\n",
      "11332  800-关中环四张家堡-子架3-12-13OAU1-7(VI)     -- ...    光纤  G.652   \n",
      "\n",
      "                      创建时间   创建人员   维护人员 备注 告警级别 禁用状态 告警时间 维护状态  \n",
      "11332  05/05/2016 02:00:48  admin  admin  -   正常  未禁用    -   IS  \n",
      "\n",
      "[1 rows x 21 columns]\n"
     ]
    }
   ],
   "source": [
    "search\n",
    "if destnode==sourcenode:\n",
    "    #本地搜索\n",
    "    #宿端口是M40\n",
    "    if 'M40' in board:\n",
    "        group[group['源端口'].str.contains(search)]\n",
    "        print(group[group['源端口'].str.contains(search)])\n",
    "    #宿端口是ITL 的2口\n",
    "    elif 'ITL' in board and '2' in port:\n",
    "        #下次搜索1口\n",
    "        search+='-1'\n",
    "        group[group['源端口'].str.contains(search)]\n",
    "        print(group[group['源端口'].str.contains(search)])\n",
    "    #宿端口是OLP的3口\n",
    "    elif 'OLP' in board and '3' in port:\n",
    "        search+='-1'\n",
    "        search\n",
    "        group[group['源端口'].str.contains(search)]\n",
    "        print(group[group['源端口'].str.contains(search)])\n",
    "    #宿端口是OAU的7口(VI)\n",
    "    elif 'OAU' in board and '7' in port:\n",
    "        #下次搜索4口(out口)\n",
    "        search+='-4'\n",
    "        search\n",
    "        group[group['源端口'].str.contains(search)]\n",
    "        print(group[group['源端口'].str.contains(search)])\n",
    "    #宿端口是FIU的3口(SYS1/SYS2)\n",
    "    elif 'FIU' in board and '3' in port:\n",
    "        #下次搜索1口(LINE1/LINE2)\n",
    "        search+='-1'\n",
    "        search\n",
    "        group[group['源端口'].str.contains(search)]\n",
    "        print(group[group['源端口'].str.contains(search)])\n",
    "else:\n",
    "    group=nodedict.get(destnode)\n",
    "    #宿端口是FIU的1口(LINE1/LINE2)\n",
    "    if 'FIU' in board and '1' in port:\n",
    "        search+='-3'\n",
    "        search\n",
    "        group[group['源端口'].str.contains(search)]\n",
    "        print(group[group['源端口'].str.contains(search)])\n",
    "\n",
    "    \n",
    "# print(df)\n",
    "# print(df.iloc[0])\n",
    "# for i in range(0,len(df)):\n",
    "#     # df.iloc[0]\n",
    "#     pass\n",
    "#搜索M40,D40对应对端的M40,D40   区分奇数波\\偶数波"
   ]
  },
  {
   "cell_type": "code",
   "execution_count": null,
   "metadata": {},
   "outputs": [],
   "source": []
  },
  {
   "cell_type": "code",
   "execution_count": 83,
   "metadata": {},
   "outputs": [],
   "source": [
    "def searchline(sourcenode,sourceport):\n",
    "    global odd_even\n",
    "    global M40port\n",
    "    global M40\n",
    "    global OMSpath\n",
    "    #sourcenode='西安锦业路关中环四OADM'\n",
    "    #sourceport='978-关中环四锦业路-子架3-10-11SFIU-1'\n",
    "    group=nodedict.get(sourcenode)\n",
    "    sourcenode=group[group['源端口'].str.contains(sourceport,regex=False)].iat[0,5]\n",
    "    destnode = group[group['源端口'].str.contains(sourceport,regex=False)].iat[0,7]\n",
    "    #print(destnode)\n",
    "    \n",
    "    destport = group[group['源端口'].str.contains(sourceport,regex=False)].iat[0,8]\n",
    "#     if 'M40' in sourceport or 'D40' in sourceport:\n",
    "#         OMSpath.append(sourceport)\n",
    "#     if 'M40' in destport or 'D40' in destport:\n",
    "#         OMSpath.append(destport)\n",
    "    #print(destport)\n",
    "    print('sourceport='+sourceport)\n",
    "    print('destport'+destport)\n",
    "    id,node,subrack,slot,board,port=parsenode(destport)\n",
    "    search=id+'-'+node+'-'+subrack+'-'+slot+'-'+board\n",
    "    #print(search)\n",
    "    if destnode==sourcenode:\n",
    "        #本地搜索\n",
    "        #宿端口是M40\n",
    "        if 'M40' in board:\n",
    "            \n",
    "             #去掉()及()中的内容\n",
    "            M40port=re.findall(\"\\d+\",port)[0]\n",
    "            #括号中的内容\n",
    "            M40=re.findall(\"(?<=[(])[^()]+[^()]+(?=[)])\",port)[0]\n",
    "            #print('M40='+M40)\n",
    "            search+='-1'\n",
    "            #print(search)\n",
    "            searchline(destnode,search)\n",
    "        elif 'D40' in board:\n",
    "            \n",
    "            search+='-'+M40port.replace('M','D')\n",
    "            #print(M40port)\n",
    "            #print(search)\n",
    "            searchline(destnode,search)\n",
    "        #宿端口是ITL 的2口   偶数波\n",
    "        elif 'ITL' in board and '2' in port:\n",
    "            #下次搜索1口\n",
    "            odd_even='even'\n",
    "            search+='-1'\n",
    "            #print(search)\n",
    "            group[group['源端口'].str.contains(search)]\n",
    "            #print(group[group['源端口'].str.contains(search)])\n",
    "            searchline(destnode,search)\n",
    "        #宿端口是ITL 的2口   奇数波 \n",
    "        elif 'ITL' in board and '3' in port:\n",
    "            odd_even='odd'\n",
    "            search+='-1'\n",
    "            #print(search)\n",
    "            group[group['源端口'].str.contains(search)]\n",
    "            #print(group[group['源端口'].str.contains(search)])\n",
    "            searchline(destnode,search)\n",
    "        elif 'ITL' in board and '1' in port:\n",
    "            #偶数波\n",
    "            if 'even' in odd_even:\n",
    "                search+='-2'\n",
    "            elif 'odd' in odd_even:\n",
    "                search+='-3'\n",
    "            searchline(destnode,search)\n",
    "        #宿端口是OLP的3口\n",
    "        elif 'OLP' in board and '3' in port:\n",
    "            search+='-1'\n",
    "            #print(search)\n",
    "            group[group['源端口'].str.contains(search)]\n",
    "            #print(group[group['源端口'].str.contains(search)])\n",
    "            searchline(destnode,search)\n",
    "        elif 'OLP' in board and '1' in port:\n",
    "            search+='-3'\n",
    "            #print(search)\n",
    "            group[group['源端口'].str.contains(search)]\n",
    "            #print(group[group['源端口'].str.contains(search)])\n",
    "            searchline(destnode,search)\n",
    "        #宿端口是OAU的7口(VI)\n",
    "        elif 'OAU' in board and '7' in port:\n",
    "            #下次搜索4口(out口)\n",
    "            search+='-4'\n",
    "            #print(search)\n",
    "            group[group['源端口'].str.contains(search)]\n",
    "            #print(group[group['源端口'].str.contains(search)])\n",
    "            searchline(destnode,search)\n",
    "        elif 'OAU' in board and '1' in port:\n",
    "            search+='-4'\n",
    "            searchline(destnode,search)\n",
    "        #宿端口是OBU的1口(IN口)\n",
    "        elif 'OBU' in board and '1' in port:\n",
    "            search+='-2'\n",
    "            searchline(destnode,search)\n",
    "        #宿端口是FIU的3口(SYS1/SYS2)           \n",
    "        elif 'FIU' in board and '3' in port:\n",
    "            #下次搜索1口(LINE1/LINE2)\n",
    "            search+='-1'\n",
    "            #print(search)\n",
    "            group[group['源端口'].str.contains(search)]\n",
    "            #print(group[group['源端口'].str.contains(search)])\n",
    "            OMSpath.append(search)\n",
    "            searchline(destnode,search)\n",
    "        else:\n",
    "            OMSpath.append(search+'-'+port)\n",
    "    else:\n",
    "        group=nodedict.get(destnode)\n",
    "        #宿端口是FIU的1口(LINE1/LINE2)\n",
    "        if 'FIU' in board and '1' in port:\n",
    "            search+='-3'\n",
    "            #print(search)\n",
    "            group[group['源端口'].str.contains(search)]\n",
    "            #print(group[group['源端口'].str.contains(search)])\n",
    "            OMSpath.append(search)\n",
    "            searchline(destnode,search)"
   ]
  },
  {
   "cell_type": "code",
   "execution_count": 84,
   "metadata": {},
   "outputs": [
    {
     "data": {
      "text/html": [
       "<div>\n",
       "<style scoped>\n",
       "    .dataframe tbody tr th:only-of-type {\n",
       "        vertical-align: middle;\n",
       "    }\n",
       "\n",
       "    .dataframe tbody tr th {\n",
       "        vertical-align: top;\n",
       "    }\n",
       "\n",
       "    .dataframe thead th {\n",
       "        text-align: right;\n",
       "    }\n",
       "</style>\n",
       "<table border=\"1\" class=\"dataframe\">\n",
       "  <thead>\n",
       "    <tr style=\"text-align: right;\">\n",
       "      <th></th>\n",
       "      <th>名称</th>\n",
       "      <th>级别/容量</th>\n",
       "      <th>速率(bit/s)</th>\n",
       "      <th>上下行比例(发送:接收)</th>\n",
       "      <th>方向</th>\n",
       "      <th>源网元</th>\n",
       "      <th>源端口</th>\n",
       "      <th>宿网元</th>\n",
       "      <th>宿端口</th>\n",
       "      <th>长度(km)</th>\n",
       "      <th>...</th>\n",
       "      <th>纤缆类型</th>\n",
       "      <th>介质类型</th>\n",
       "      <th>创建时间</th>\n",
       "      <th>创建人员</th>\n",
       "      <th>维护人员</th>\n",
       "      <th>备注</th>\n",
       "      <th>告警级别</th>\n",
       "      <th>禁用状态</th>\n",
       "      <th>告警时间</th>\n",
       "      <th>维护状态</th>\n",
       "    </tr>\n",
       "  </thead>\n",
       "  <tbody>\n",
       "    <tr>\n",
       "      <th>11688</th>\n",
       "      <td>主用</td>\n",
       "      <td>WDM</td>\n",
       "      <td>--</td>\n",
       "      <td>--</td>\n",
       "      <td>单纤单向</td>\n",
       "      <td>西安锦业路关中环四OADM</td>\n",
       "      <td>978-关中环四锦业路-子架3-10-11SFIU-1(LINE1/LINE2)</td>\n",
       "      <td>西安张家堡关中环四OADM</td>\n",
       "      <td>800-关中环四张家堡-子架3-10-11SFIU-1(LINE1/LINE2)</td>\n",
       "      <td>42.55</td>\n",
       "      <td>...</td>\n",
       "      <td>光纤</td>\n",
       "      <td>G.652</td>\n",
       "      <td>05/05/2016 01:44:09</td>\n",
       "      <td>huchengyu</td>\n",
       "      <td>admin</td>\n",
       "      <td>-</td>\n",
       "      <td>正常</td>\n",
       "      <td>未禁用</td>\n",
       "      <td>-</td>\n",
       "      <td>IS</td>\n",
       "    </tr>\n",
       "  </tbody>\n",
       "</table>\n",
       "<p>1 rows × 21 columns</p>\n",
       "</div>"
      ],
      "text/plain": [
       "       名称 级别/容量 速率(bit/s) 上下行比例(发送:接收)    方向            源网元  \\\n",
       "11688  主用   WDM        --           --  单纤单向  西安锦业路关中环四OADM   \n",
       "\n",
       "                                            源端口            宿网元  \\\n",
       "11688  978-关中环四锦业路-子架3-10-11SFIU-1(LINE1/LINE2)  西安张家堡关中环四OADM   \n",
       "\n",
       "                                            宿端口 长度(km) ...  纤缆类型   介质类型  \\\n",
       "11688  800-关中环四张家堡-子架3-10-11SFIU-1(LINE1/LINE2)  42.55 ...    光纤  G.652   \n",
       "\n",
       "                      创建时间       创建人员   维护人员 备注 告警级别 禁用状态 告警时间 维护状态  \n",
       "11688  05/05/2016 01:44:09  huchengyu  admin  -   正常  未禁用    -   IS  \n",
       "\n",
       "[1 rows x 21 columns]"
      ]
     },
     "execution_count": 84,
     "metadata": {},
     "output_type": "execute_result"
    }
   ],
   "source": [
    "sourcenode='西安锦业路关中环四OADM'\n",
    "#sourceport='1120-关中环四锦业路-子架0-34-58NS4-1(IN/OUT)'\\\n",
    "#sourceport='978-关中环四锦业路-子架3-9-ITL-1'\n",
    "#sourceport='978-关中环四锦业路-子架3-6-12OLP-1'\n",
    "#sourceport='978-关中环四锦业路-子架3-4-13OAU1-4'\n",
    "sourceport='978-关中环四锦业路-子架3-10-11SFIU-1'\n",
    "sourceport1='978-关中环四锦业路-子架3-10-11SFIU-1(LINE1/LINE2)'\n",
    "group=nodedict.get(sourcenode)\n",
    "#group[group['源网元'].str.contains(sourcenode)]\n",
    "group[group['源端口'].str.contains(sourceport1,regex=False)]\n",
    "# group[group['源端口'].str.contains(sourceport) | group['源端口'].str.] \n",
    "# for index, row in group[group['源端口'].str.contains(r'.*NS.*|.*ND.*|.*NQ.*')].iterrows():\n",
    "#     pass\n"
   ]
  },
  {
   "cell_type": "code",
   "execution_count": 85,
   "metadata": {},
   "outputs": [
    {
     "data": {
      "text/plain": [
       "<pandas.core.strings.StringMethods at 0x86aca20>"
      ]
     },
     "execution_count": 85,
     "metadata": {},
     "output_type": "execute_result"
    }
   ],
   "source": [
    "group['源端口'].str"
   ]
  },
  {
   "cell_type": "code",
   "execution_count": 86,
   "metadata": {},
   "outputs": [
    {
     "ename": "SyntaxError",
     "evalue": "invalid syntax (<ipython-input-86-c1bf9048741f>, line 11)",
     "traceback": [
      "\u001b[1;36m  File \u001b[1;32m\"<ipython-input-86-c1bf9048741f>\"\u001b[1;36m, line \u001b[1;32m11\u001b[0m\n\u001b[1;33m    group[group['源端口'].str.contains(nport)].\u001b[0m\n\u001b[1;37m                                            ^\u001b[0m\n\u001b[1;31mSyntaxError\u001b[0m\u001b[1;31m:\u001b[0m invalid syntax\n"
     ],
     "output_type": "error"
    }
   ],
   "source": [
    "#解析所有N板\n",
    "nport=r'.*NS.*|.*ND.*|.*NQ.*'\n",
    "for key,group in nodedict.items():\n",
    "    M40port=''\n",
    "    M40=''\n",
    "    wave=''\n",
    "    odd_even=''\n",
    "    OMSpath=[]\n",
    "    #遍历group中的每一行 解析线路单板(NS,ND,NQ)\n",
    "    key\n",
    "    group[group['源端口'].str.contains(nport)].\n",
    "    "
   ]
  },
  {
   "cell_type": "code",
   "execution_count": 87,
   "metadata": {
    "scrolled": true
   },
   "outputs": [
    {
     "name": "stdout",
     "output_type": "stream",
     "text": [
      "sourceport=1120-关中环四锦业路-子架0-34-58NS4-1(IN/OUT)\n",
      "destport978-关中环四锦业路-子架3-1-12M40V-23(M22)\n",
      "sourceport=978-关中环四锦业路-子架3-1-12M40V-1\n",
      "destport978-关中环四锦业路-子架3-9-ITL-2(RE/TE)\n",
      "sourceport=978-关中环四锦业路-子架3-9-ITL-1\n",
      "destport978-关中环四锦业路-子架3-6-12OLP-3(TI/RO)\n",
      "sourceport=978-关中环四锦业路-子架3-6-12OLP-1\n",
      "destport978-关中环四锦业路-子架3-4-13OAU1-7(VI)\n",
      "sourceport=978-关中环四锦业路-子架3-4-13OAU1-4\n",
      "destport978-关中环四锦业路-子架3-10-11SFIU-3(SYS1/SYS2)\n",
      "sourceport=978-关中环四锦业路-子架3-10-11SFIU-1\n",
      "destport800-关中环四张家堡-子架3-10-11SFIU-1(LINE1/LINE2)\n",
      "sourceport=800-关中环四张家堡-子架3-10-11SFIU-3\n",
      "destport800-关中环四张家堡-子架3-12-13OAU1-7(VI)\n",
      "sourceport=800-关中环四张家堡-子架3-12-13OAU1-4\n",
      "destport800-关中环四张家堡-子架3-6-12OLP-1(RI1/TO1)\n",
      "sourceport=800-关中环四张家堡-子架3-6-12OLP-3\n",
      "destport800-关中环四张家堡-子架3-9-ITL-1(IN/OUT)\n",
      "sourceport=800-关中环四张家堡-子架3-9-ITL-2\n",
      "destport800-关中环四张家堡-子架3-14-D40-1(IN)\n",
      "sourceport=800-关中环四张家堡-子架3-14-D40-23\n",
      "destport800-关中环四张家堡-子架0-1-M40V-23(M22)\n",
      "sourceport=800-关中环四张家堡-子架0-1-M40V-1\n",
      "destport800-关中环四张家堡-子架0-9-ITL-2(RE/TE)\n",
      "sourceport=800-关中环四张家堡-子架0-9-ITL-1\n",
      "destport800-关中环四张家堡-子架0-6-12OLP-3(TI/RO)\n",
      "sourceport=800-关中环四张家堡-子架0-6-12OLP-1\n",
      "destport800-关中环四张家堡-子架0-4-13OAU1-7(VI)\n",
      "sourceport=800-关中环四张家堡-子架0-4-13OAU1-4\n",
      "destport800-关中环四张家堡-子架0-10-11SFIU-3(SYS1/SYS2)\n",
      "sourceport=800-关中环四张家堡-子架0-10-11SFIU-1\n",
      "destport804-关中环四渭南应急楼-子架3-10-11SFIU-1(LINE1/LINE2)\n",
      "sourceport=804-关中环四渭南应急楼-子架3-10-11SFIU-3\n",
      "destport804-关中环四渭南应急楼-子架3-11-OBU1-1(IN)\n",
      "sourceport=804-关中环四渭南应急楼-子架3-11-OBU1-2\n",
      "destport804-关中环四渭南应急楼-子架3-12-13OAU1-7(VI)\n",
      "sourceport=804-关中环四渭南应急楼-子架3-12-13OAU1-4\n",
      "destport804-关中环四渭南应急楼-子架3-6-12OLP-1(RI1/TO1)\n",
      "sourceport=804-关中环四渭南应急楼-子架3-6-12OLP-3\n",
      "destport804-关中环四渭南应急楼-子架3-9-ITL-1(IN/OUT)\n",
      "sourceport=804-关中环四渭南应急楼-子架3-9-ITL-2\n",
      "destport804-关中环四渭南应急楼-子架3-14-D40-1(IN)\n",
      "sourceport=804-关中环四渭南应急楼-子架3-14-D40-23\n",
      "destport1122-关中环四渭南应急楼-子架1-22-58NS4-1(IN/OUT)\n",
      "23\n",
      "M22\n",
      "even\n"
     ]
    },
    {
     "data": {
      "text/plain": [
       "['1120-关中环四锦业路-子架0-34-58NS4-1',\n",
       " '978-关中环四锦业路-子架3-10-11SFIU-1',\n",
       " '800-关中环四张家堡-子架3-10-11SFIU-3',\n",
       " '800-关中环四张家堡-子架0-10-11SFIU-1',\n",
       " '804-关中环四渭南应急楼-子架3-10-11SFIU-3',\n",
       " '1122-关中环四渭南应急楼-子架1-22-58NS4-1(IN/OUT)']"
      ]
     },
     "execution_count": 87,
     "metadata": {},
     "output_type": "execute_result"
    }
   ],
   "source": [
    "\n",
    "M40port=''\n",
    "M40=''\n",
    "wave=''\n",
    "odd_even=''\n",
    "OMSpath=[]\n",
    "OMSpath.append('1120-关中环四锦业路-子架0-34-58NS4-1')\n",
    "searchline('西安锦业路关中环四OADM','1120-关中环四锦业路-子架0-34-58NS4-1(IN/OUT)')\n",
    "#searchline('西安张家堡关中环四OADM','800-关中环四张家堡-子架3-14-D40-23')\n",
    "print(M40port)\n",
    "print(M40)\n",
    "print(odd_even)\n",
    "OMSpath"
   ]
  },
  {
   "cell_type": "code",
   "execution_count": null,
   "metadata": {},
   "outputs": [],
   "source": [
    "#获得波长信息\n",
    "wave_ = pd.read_csv('wave.csv',header=0,encoding = \"gb2312\")\n",
    "wave_.head()\n",
    "wave_[['波数','频率(THz)','波长(nm)']][(wave_['奇偶波']== odd_even) & (wave_['光接口']==M40)]\n",
    "w=wave_[['波数','频率(THz)','波长(nm)']][(wave_['奇偶波']== odd_even) & (wave_['光接口']==M40)]\n",
    "w['in']=1\n",
    "w\n",
    "pd.DataFrame(OMSpath).T['in']=1\n",
    "p=pd.DataFrame(OMSpath).T\n",
    "p['in']=1\n",
    "p\n",
    "\n",
    "w.to_csv?\n",
    "pd.merge(w,p,on='in').to_csv('b.csv',encoding='gb2312' , mode='a',header=False,index=False)"
   ]
  },
  {
   "cell_type": "code",
   "execution_count": null,
   "metadata": {},
   "outputs": [],
   "source": []
  },
  {
   "cell_type": "code",
   "execution_count": null,
   "metadata": {},
   "outputs": [],
   "source": [
    "#三种类型​,'NQ']链路单板\n",
    "nport=['NS','ND','NQ']\n",
    "for key,value in nodedict.items():\n",
    "    pass"
   ]
  },
  {
   "cell_type": "code",
   "execution_count": null,
   "metadata": {},
   "outputs": [],
   "source": []
  },
  {
   "cell_type": "code",
   "execution_count": null,
   "metadata": {},
   "outputs": [],
   "source": [
    "\n",
    "OMSpath=[]\n",
    "OMSpath.append('1120-关中环四锦业路-子架0-34-58NS4-1')\n",
    "\n",
    "OMSpath.append('sss')\n",
    "OMSpath"
   ]
  },
  {
   "cell_type": "code",
   "execution_count": null,
   "metadata": {},
   "outputs": [],
   "source": [
    "text='22(M21)'\n",
    "a=re.findall(\"(?<=[(])[^()]+[^()]+(?=[)])\",text)\n",
    "print(a)"
   ]
  },
  {
   "cell_type": "code",
   "execution_count": null,
   "metadata": {},
   "outputs": [],
   "source": []
  },
  {
   "cell_type": "code",
   "execution_count": null,
   "metadata": {},
   "outputs": [],
   "source": []
  },
  {
   "cell_type": "code",
   "execution_count": null,
   "metadata": {},
   "outputs": [],
   "source": []
  },
  {
   "cell_type": "code",
   "execution_count": null,
   "metadata": {},
   "outputs": [],
   "source": []
  },
  {
   "cell_type": "code",
   "execution_count": null,
   "metadata": {},
   "outputs": [],
   "source": []
  },
  {
   "cell_type": "code",
   "execution_count": null,
   "metadata": {},
   "outputs": [],
   "source": []
  },
  {
   "cell_type": "code",
   "execution_count": null,
   "metadata": {},
   "outputs": [],
   "source": []
  },
  {
   "cell_type": "code",
   "execution_count": null,
   "metadata": {},
   "outputs": [],
   "source": []
  },
  {
   "cell_type": "code",
   "execution_count": null,
   "metadata": {},
   "outputs": [],
   "source": []
  }
 ],
 "metadata": {
  "kernelspec": {
   "display_name": "Python 3",
   "language": "python",
   "name": "python3"
  },
  "language_info": {
   "codemirror_mode": {
    "name": "ipython",
    "version": 3
   },
   "file_extension": ".py",
   "mimetype": "text/x-python",
   "name": "python",
   "nbconvert_exporter": "python",
   "pygments_lexer": "ipython3",
   "version": "3.6.5"
  }
 },
 "nbformat": 4,
 "nbformat_minor": 1
}
